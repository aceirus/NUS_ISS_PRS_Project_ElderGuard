{
 "cells": [
  {
   "cell_type": "markdown",
   "metadata": {
    "id": "68LV-oCS5ltz"
   },
   "source": [
    "# SMS Spam Detection Using Machine Learning\n",
    "\n",
    "\n",
    "---\n",
    "\n",
    "\n",
    "## Practice Module: Pattern Recognition Systems (PRS)\n",
    "\n",
    "## Group: 18\n",
    "\n",
    "## Members:\n",
    "\n",
    "Lim Jun Ming, A0231523U\n",
    "\n",
    "Mediana, A0231458E\n",
    "\n",
    "Yeong Wee Ping, A0231533R"
   ]
  },
  {
   "cell_type": "markdown",
   "metadata": {
    "id": "aOW_XHgK5pLr"
   },
   "source": [
    "# Deep Learning Neural Network"
   ]
  },
  {
   "cell_type": "markdown",
   "metadata": {
    "id": "9Q_OJfUl5vjO"
   },
   "source": [
    "# 0. File Path & Library Setup"
   ]
  },
  {
   "cell_type": "code",
   "execution_count": 3,
   "metadata": {
    "colab": {
     "base_uri": "https://localhost:8080/"
    },
    "executionInfo": {
     "elapsed": 272,
     "status": "ok",
     "timestamp": 1633003749600,
     "user": {
      "displayName": "JM Lim",
      "photoUrl": "https://lh3.googleusercontent.com/a/default-user=s64",
      "userId": "12752115953509725575"
     },
     "user_tz": -480
    },
    "id": "V3lnKtYf5JRB",
    "outputId": "5344a6f8-0a03-4165-e173-156129fe3f20"
   },
   "outputs": [
    {
     "name": "stdout",
     "output_type": "stream",
     "text": [
      "Versions of key libraries\n",
      "-------------------------\n",
      "pandas:       1.3.3\n",
      "numpy:        1.19.5\n",
      "tensorflow:   2.6.0\n",
      "sklearn:      1.0\n"
     ]
    }
   ],
   "source": [
    "# Load All Necessary Packages\n",
    "\n",
    "import os\n",
    "# from google.colab import drive\n",
    "\n",
    "import pandas as pd\n",
    "import numpy as np\n",
    "import matplotlib.pyplot as plt\n",
    "import pickle\n",
    "import tensorflow as tf\n",
    "import sklearn as sk\n",
    "import random\n",
    "\n",
    "from tensorflow.keras.callbacks import ModelCheckpoint, CSVLogger, LearningRateScheduler\n",
    "from tensorflow.keras.models import Model\n",
    "from tensorflow.keras.models import load_model\n",
    "from tensorflow.keras.layers import Input\n",
    "from tensorflow.keras.layers import Activation\n",
    "from tensorflow.keras import optimizers\n",
    "from tensorflow.keras import regularizers\n",
    "from tensorflow.keras.models import Sequential\n",
    "from tensorflow.keras.layers import Dense\n",
    "from tensorflow.keras.layers import Flatten\n",
    "from tensorflow.keras.layers import Dropout\n",
    "from tensorflow.keras.layers import Embedding\n",
    "from tensorflow.keras.layers import Conv1D\n",
    "from tensorflow.keras.layers import MaxPool1D\n",
    "from tensorflow.keras.layers import GlobalAveragePooling1D\n",
    "from tensorflow.keras.layers import LSTM\n",
    "from tensorflow.keras.callbacks import EarlyStopping\n",
    "from tensorflow.keras.utils import to_categorical\n",
    "\n",
    "from sklearn.metrics import accuracy_score\n",
    "from sklearn.metrics import f1_score\n",
    "from sklearn.metrics import roc_auc_score\n",
    "from sklearn.metrics import roc_curve\n",
    "from sklearn.metrics import classification_report, confusion_matrix\n",
    "from sklearn.model_selection import RepeatedStratifiedKFold, train_test_split\n",
    "\n",
    "from IPython.display import clear_output\n",
    "\n",
    "seed = 18\n",
    "random.seed(seed)\n",
    "\n",
    "print(\"Versions of key libraries\")\n",
    "print(\"-------------------------\")\n",
    "print(\"pandas:      \", pd.__version__)\n",
    "print(\"numpy:       \", np.__version__)\n",
    "print(\"tensorflow:  \", tf.__version__)\n",
    "print(\"sklearn:     \", sk.__version__)"
   ]
  },
  {
   "cell_type": "code",
   "execution_count": 87,
   "metadata": {
    "colab": {
     "base_uri": "https://localhost:8080/"
    },
    "executionInfo": {
     "elapsed": 17261,
     "status": "ok",
     "timestamp": 1633003769686,
     "user": {
      "displayName": "JM Lim",
      "photoUrl": "https://lh3.googleusercontent.com/a/default-user=s64",
      "userId": "12752115953509725575"
     },
     "user_tz": -480
    },
    "id": "a7HQQe4T50y3",
    "outputId": "34fd0a83-a4d7-4b76-ea01-ff0caa7fcb32"
   },
   "outputs": [
    {
     "name": "stdout",
     "output_type": "stream",
     "text": [
      "Working Directory: \n"
     ]
    },
    {
     "data": {
      "text/plain": [
       "'D:\\\\Personal\\\\Education\\\\NUS-ISS Mtech IS\\\\Course Materials\\\\2. Pattern Recognition Systems (PRS)\\\\0. PRS-PM_Practice Module\\\\Source Code\\\\Spam Text Model Training'"
      ]
     },
     "execution_count": 87,
     "metadata": {},
     "output_type": "execute_result"
    }
   ],
   "source": [
    "# # Mounting to Google Drive\n",
    "# drive.mount('/content/gdrive')\n",
    "\n",
    "# # Change Working Directory\n",
    "# os.chdir('/content/gdrive/My Drive/iss/prs_pm/training')\n",
    "\n",
    "print('Working Directory: ')\n",
    "os.getcwd()"
   ]
  },
  {
   "cell_type": "markdown",
   "metadata": {
    "id": "I8M-WB3g53-V"
   },
   "source": [
    "# 1. Load and Combine Raw Data"
   ]
  },
  {
   "cell_type": "markdown",
   "metadata": {
    "id": "fhvdzwxTAGl-"
   },
   "source": [
    "## Pretrained GloVe Word Embeddings"
   ]
  },
  {
   "cell_type": "code",
   "execution_count": 4,
   "metadata": {},
   "outputs": [
    {
     "name": "stdout",
     "output_type": "stream",
     "text": [
      "X Feature Map - Pretrained GloVe Embeddings (30x50):\n",
      "Dimension of X_train : (4085, 30, 50)\n",
      "Dimension of X_val   : (876, 30, 50)\n",
      "Dimension of X_test  : (876, 30, 50)\n",
      "----------------------------------------------------\n",
      "\n"
     ]
    }
   ],
   "source": [
    "# X feature maps (GloVe)\n",
    "\n",
    "# pre-trained word embeddings (30x50 feature space per sms)\n",
    "X_glove30x50_file = open('2. Feature Map/X_vec_30x50.pickle', 'rb')\n",
    "X_glove30x50_pickle = pickle.load(X_glove30x50_file)\n",
    "X_train_vec_30x50 = X_glove30x50_pickle[0]\n",
    "X_val_vec_30x50 = X_glove30x50_pickle[1]\n",
    "X_test_vec_30x50 = X_glove30x50_pickle[2]\n",
    "X_glove30x50_file.close()\n",
    "print('X Feature Map - Pretrained GloVe Embeddings (30x50):')\n",
    "print('Dimension of X_train : ' + str(X_train_vec_30x50.shape))\n",
    "print('Dimension of X_val   : ' + str(X_val_vec_30x50.shape))\n",
    "print('Dimension of X_test  : ' + str(X_test_vec_30x50.shape))\n",
    "print('----------------------------------------------------\\n')\n"
   ]
  },
  {
   "cell_type": "markdown",
   "metadata": {
    "id": "LZZhM9DrA-z-"
   },
   "source": [
    "## Word Sequence Indexing for Word Embeddings Training"
   ]
  },
  {
   "cell_type": "code",
   "execution_count": 5,
   "metadata": {},
   "outputs": [
    {
     "name": "stdout",
     "output_type": "stream",
     "text": [
      "Word Sequencing Index (30 Words):\n",
      "Dimension of X_train : (4085, 30)\n",
      "Dimension of X_val   : (876, 30)\n",
      "Dimension of X_test  : (876, 30)\n",
      "----------------------------------\n",
      "\n"
     ]
    }
   ],
   "source": [
    "# X feature maps (Word Sequence Indexing)\n",
    "\n",
    "# Word Sequencing Index (First 30 words)\n",
    "X_30idx_file = open('2. Feature Map/X_30idx.pickle', 'rb')\n",
    "X_30idx_pickle = pickle.load(X_30idx_file)\n",
    "X_train_30idx = X_30idx_pickle[0]\n",
    "X_val_30idx = X_30idx_pickle[1]\n",
    "X_test_30idx = X_30idx_pickle[2]\n",
    "X_30idx_file.close()\n",
    "print('Word Sequencing Index (30 Words):')\n",
    "print('Dimension of X_train : ' + str(X_train_30idx.shape))\n",
    "print('Dimension of X_val   : ' + str(X_val_30idx.shape))\n",
    "print('Dimension of X_test  : ' + str(X_test_30idx.shape))\n",
    "print('----------------------------------\\n')"
   ]
  },
  {
   "cell_type": "markdown",
   "metadata": {
    "id": "8AjU9fswCFUi"
   },
   "source": [
    "## y Labels"
   ]
  },
  {
   "cell_type": "code",
   "execution_count": 6,
   "metadata": {
    "colab": {
     "base_uri": "https://localhost:8080/"
    },
    "executionInfo": {
     "elapsed": 3,
     "status": "ok",
     "timestamp": 1633003783723,
     "user": {
      "displayName": "JM Lim",
      "photoUrl": "https://lh3.googleusercontent.com/a/default-user=s64",
      "userId": "12752115953509725575"
     },
     "user_tz": -480
    },
    "id": "ejTUZBQp543d",
    "outputId": "77915014-0fa2-4b5c-8653-3aa00b9b94da"
   },
   "outputs": [
    {
     "name": "stdout",
     "output_type": "stream",
     "text": [
      "Label Dataset:\n",
      "Dimension of y_train : (4085,)\n",
      "Dimension of y_val   : (876,)\n",
      "Dimension of y_test  : (876,)\n"
     ]
    }
   ],
   "source": [
    "# y Labels\n",
    "y_label_file = open('2. Feature Map/y_label.pickle', 'rb')\n",
    "y_label_pickle = pickle.load(y_label_file)\n",
    "y_train = y_label_pickle[0]\n",
    "y_val = y_label_pickle[1]\n",
    "y_test = y_label_pickle[2]\n",
    "y_label_file.close()\n",
    "print('Label Dataset:')\n",
    "print('Dimension of y_train : ' + str(y_train.shape))\n",
    "print('Dimension of y_val   : ' + str(y_val.shape))\n",
    "print('Dimension of y_test  : ' + str(y_test.shape))\n"
   ]
  },
  {
   "cell_type": "markdown",
   "metadata": {},
   "source": [
    "## Tokenizer"
   ]
  },
  {
   "cell_type": "code",
   "execution_count": 8,
   "metadata": {},
   "outputs": [
    {
     "name": "stdout",
     "output_type": "stream",
     "text": [
      "Word Tokenizer:\n",
      "Vocabulary Size : 6389\n"
     ]
    }
   ],
   "source": [
    "# Loading Word Tokenizer\n",
    "tk_file = open('3. parameters/bowtokenizer.pickle', 'rb')\n",
    "tk = pickle.load(tk_file)\n",
    "tk_file.close()\n",
    "tk_size = len(tk.word_index)\n",
    "\n",
    "print('Word Tokenizer:')\n",
    "print('Vocabulary Size : ' + str(tk_size))"
   ]
  },
  {
   "cell_type": "markdown",
   "metadata": {
    "id": "tw1XiXmoDFpY"
   },
   "source": [
    "# 2. Networks Using Pre-Trained GloVe Embeddings"
   ]
  },
  {
   "cell_type": "markdown",
   "metadata": {
    "id": "u9oI-gXG67tv"
   },
   "source": [
    "## i. Dense Classifier (GloVE)"
   ]
  },
  {
   "cell_type": "markdown",
   "metadata": {
    "id": "CcI90gUR_-du"
   },
   "source": [
    "### i.1 Model Architecture"
   ]
  },
  {
   "cell_type": "code",
   "execution_count": null,
   "metadata": {
    "colab": {
     "base_uri": "https://localhost:8080/"
    },
    "executionInfo": {
     "elapsed": 446,
     "status": "ok",
     "timestamp": 1633005061119,
     "user": {
      "displayName": "JM Lim",
      "photoUrl": "https://lh3.googleusercontent.com/a/default-user=s64",
      "userId": "12752115953509725575"
     },
     "user_tz": -480
    },
    "id": "TBoCtW6u67J0",
    "outputId": "d80afe5c-2679-4030-93ac-eb16375a0085"
   },
   "outputs": [],
   "source": [
    "# Initilization\n",
    "glove_emb_shape = X_train_vec_30x50[0].shape # Word Embeddings shape per sms\n",
    "loss_func       = 'binary_crossentropy'\n",
    "optmz           = optimizers.Adam(learning_rate=0.00015)\n",
    "modelname       = 'GloVe_Dense_30x50'\n",
    "\n",
    "# Define Model\n",
    "def glove_dense_30x50():\n",
    "    ipt = Input(shape=glove_emb_shape)\n",
    "    x = Flatten()(ipt)\n",
    "    # x = Dense(1024, activation='relu', kernel_regularizer=regularizers.l2(0.3))(x)\n",
    "    # x = Dropout(0.3)(x)\n",
    "    x = Dense(512, activation='relu', kernel_regularizer=regularizers.l2(0.3))(x)\n",
    "    x = Dropout(0.3)(x)\n",
    "    # x = Dense(256, activation='relu', kernel_regularizer=regularizers.l2(0.1))(x)\n",
    "    # x = Dropout(0.3)(x)\n",
    "    x = Dense(128, activation='relu')(x)\n",
    "    x = Dropout(0.3)(x)\n",
    "    x = Dense(64, activation='relu')(x)\n",
    "    x = Dense(32, activation='relu', kernel_regularizer=regularizers.l2(0.1))(x)\n",
    "    x = Dense(1, activation='sigmoid')(x)\n",
    "\n",
    "    model = Model(inputs=ipt, outputs=x, name=modelname)\n",
    "    \n",
    "    model.compile(loss      = loss_func,\n",
    "                  optimizer = optmz,\n",
    "                  metrics   = ['accuracy'])\n",
    "    \n",
    "    return model\n",
    "\n",
    "# Setup Model\n",
    "gd30x50     = glove_dense_30x50()\n",
    "gd30x50_go  = glove_dense_30x50() # For loading best model & predictions\n",
    "\n",
    "# Filepaths for callbacks\n",
    "weightfolderpath = 'dl_training/weights/'\n",
    "weightfilepath   = weightfolderpath + modelname + \".hdf5\"\n",
    "logfolderpath   = 'dl_training/log/'\n",
    "logfilepath     = logfolderpath + modelname + '.csv'\n",
    "\n",
    "# Checkpoint\n",
    "checkpoint      = ModelCheckpoint(weightfilepath, \n",
    "                                  monitor        = 'val_accuracy',\n",
    "                                  mode           = 'max',\n",
    "                                  save_best_only = True,\n",
    "                                  verbose        = 0)\n",
    "# Training Logger\n",
    "csv_logger      = CSVLogger(logfilepath)    \n",
    "\n",
    "# Model Callback Lists\n",
    "callbacks_list  = [checkpoint, csv_logger]                                     \n",
    "\n",
    "# Model Setup Summary\n",
    "gd30x50.summary()\n",
    "print(\"Path to model:\", weightfilepath)\n",
    "print(\"Path to log:  \", logfilepath)"
   ]
  },
  {
   "cell_type": "markdown",
   "metadata": {
    "id": "rrbe-PQYALa1"
   },
   "source": [
    "### i.2 Train Model"
   ]
  },
  {
   "cell_type": "code",
   "execution_count": 93,
   "metadata": {
    "colab": {
     "base_uri": "https://localhost:8080/"
    },
    "executionInfo": {
     "elapsed": 56785,
     "status": "ok",
     "timestamp": 1633005117900,
     "user": {
      "displayName": "JM Lim",
      "photoUrl": "https://lh3.googleusercontent.com/a/default-user=s64",
      "userId": "12752115953509725575"
     },
     "user_tz": -480
    },
    "id": "G4PgOkSpMskX",
    "outputId": "1fceabdc-ae6b-4280-cc3f-966d7b01813b"
   },
   "outputs": [
    {
     "name": "stdout",
     "output_type": "stream",
     "text": [
      "Epoch 1/30\n",
      "82/82 [==============================] - 1s 7ms/step - loss: 170.0626 - accuracy: 0.7988 - val_loss: 116.5025 - val_accuracy: 0.8390\n",
      "Epoch 2/30\n",
      "82/82 [==============================] - 0s 5ms/step - loss: 83.2570 - accuracy: 0.8406 - val_loss: 55.9293 - val_accuracy: 0.8482\n",
      "Epoch 3/30\n",
      "82/82 [==============================] - 0s 5ms/step - loss: 39.4020 - accuracy: 0.8815 - val_loss: 26.0227 - val_accuracy: 0.9087\n",
      "Epoch 4/30\n",
      "82/82 [==============================] - 0s 5ms/step - loss: 18.2126 - accuracy: 0.9327 - val_loss: 12.0065 - val_accuracy: 0.9395\n",
      "Epoch 5/30\n",
      "82/82 [==============================] - 0s 5ms/step - loss: 8.5267 - accuracy: 0.9506 - val_loss: 5.8135 - val_accuracy: 0.9498\n",
      "Epoch 6/30\n",
      "82/82 [==============================] - 0s 5ms/step - loss: 4.3309 - accuracy: 0.9606 - val_loss: 3.1959 - val_accuracy: 0.9509\n",
      "Epoch 7/30\n",
      "82/82 [==============================] - 0s 5ms/step - loss: 2.5641 - accuracy: 0.9647 - val_loss: 2.0984 - val_accuracy: 0.9543\n",
      "Epoch 8/30\n",
      "82/82 [==============================] - 0s 6ms/step - loss: 1.7975 - accuracy: 0.9699 - val_loss: 1.5812 - val_accuracy: 0.9612\n",
      "Epoch 9/30\n",
      "82/82 [==============================] - 0s 5ms/step - loss: 1.4206 - accuracy: 0.9645 - val_loss: 1.3152 - val_accuracy: 0.9509\n",
      "Epoch 10/30\n",
      "82/82 [==============================] - 0s 6ms/step - loss: 1.1882 - accuracy: 0.9670 - val_loss: 1.1255 - val_accuracy: 0.9600\n",
      "Epoch 11/30\n",
      "82/82 [==============================] - 0s 5ms/step - loss: 1.0243 - accuracy: 0.9655 - val_loss: 0.9843 - val_accuracy: 0.9509\n",
      "Epoch 12/30\n",
      "82/82 [==============================] - 0s 5ms/step - loss: 0.9030 - accuracy: 0.9606 - val_loss: 0.8420 - val_accuracy: 0.9578\n",
      "Epoch 13/30\n",
      "82/82 [==============================] - 0s 5ms/step - loss: 0.7684 - accuracy: 0.9689 - val_loss: 0.7356 - val_accuracy: 0.9578\n",
      "Epoch 14/30\n",
      "82/82 [==============================] - 0s 5ms/step - loss: 0.6659 - accuracy: 0.9672 - val_loss: 0.6688 - val_accuracy: 0.9509\n",
      "Epoch 15/30\n",
      "82/82 [==============================] - 0s 5ms/step - loss: 0.5824 - accuracy: 0.9687 - val_loss: 0.5699 - val_accuracy: 0.9589\n",
      "Epoch 16/30\n",
      "82/82 [==============================] - 0s 5ms/step - loss: 0.5119 - accuracy: 0.9689 - val_loss: 0.5241 - val_accuracy: 0.9521\n",
      "Epoch 17/30\n",
      "82/82 [==============================] - 0s 5ms/step - loss: 0.4678 - accuracy: 0.9628 - val_loss: 0.4677 - val_accuracy: 0.9566\n",
      "Epoch 18/30\n",
      "82/82 [==============================] - 0s 5ms/step - loss: 0.4071 - accuracy: 0.9692 - val_loss: 0.4073 - val_accuracy: 0.9555\n",
      "Epoch 19/30\n",
      "82/82 [==============================] - 0s 5ms/step - loss: 0.3567 - accuracy: 0.9733 - val_loss: 0.3627 - val_accuracy: 0.9623\n",
      "Epoch 20/30\n",
      "82/82 [==============================] - 0s 5ms/step - loss: 0.3263 - accuracy: 0.9714 - val_loss: 0.3486 - val_accuracy: 0.9566\n",
      "Epoch 21/30\n",
      "82/82 [==============================] - 0s 5ms/step - loss: 0.3049 - accuracy: 0.9699 - val_loss: 0.3207 - val_accuracy: 0.9555\n",
      "Epoch 22/30\n",
      "82/82 [==============================] - 0s 5ms/step - loss: 0.2741 - accuracy: 0.9699 - val_loss: 0.2826 - val_accuracy: 0.9589\n",
      "Epoch 23/30\n",
      "82/82 [==============================] - 0s 5ms/step - loss: 0.2558 - accuracy: 0.9714 - val_loss: 0.3004 - val_accuracy: 0.9532\n",
      "Epoch 24/30\n",
      "82/82 [==============================] - 0s 5ms/step - loss: 0.2478 - accuracy: 0.9704 - val_loss: 0.2705 - val_accuracy: 0.9589\n",
      "Epoch 25/30\n",
      "82/82 [==============================] - 0s 5ms/step - loss: 0.2335 - accuracy: 0.9716 - val_loss: 0.2561 - val_accuracy: 0.9612\n",
      "Epoch 26/30\n",
      "82/82 [==============================] - 0s 5ms/step - loss: 0.2193 - accuracy: 0.9679 - val_loss: 0.2578 - val_accuracy: 0.9543\n",
      "Epoch 27/30\n",
      "82/82 [==============================] - 0s 4ms/step - loss: 0.2095 - accuracy: 0.9714 - val_loss: 0.2487 - val_accuracy: 0.9452\n",
      "Epoch 28/30\n",
      "82/82 [==============================] - 0s 5ms/step - loss: 0.2031 - accuracy: 0.9714 - val_loss: 0.2401 - val_accuracy: 0.9509\n",
      "Epoch 29/30\n",
      "82/82 [==============================] - 0s 5ms/step - loss: 0.1951 - accuracy: 0.9711 - val_loss: 0.2191 - val_accuracy: 0.9658\n",
      "Epoch 30/30\n",
      "82/82 [==============================] - 0s 5ms/step - loss: 0.1897 - accuracy: 0.9726 - val_loss: 0.2208 - val_accuracy: 0.9623\n"
     ]
    }
   ],
   "source": [
    "# Train Model\n",
    "num_epoch = 30\n",
    "batchsize = 50\n",
    "\n",
    "gd30x50_fit = gd30x50.fit(x=X_train_vec_30x50, y=y_train, validation_data=(X_val_vec_30x50, y_val), epochs=num_epoch, batch_size=batchsize, shuffle=True, callbacks=callbacks_list)"
   ]
  },
  {
   "cell_type": "markdown",
   "metadata": {
    "id": "9i9yI0KTAZbz"
   },
   "source": [
    "### i.3 Save Model"
   ]
  },
  {
   "cell_type": "code",
   "execution_count": 94,
   "metadata": {
    "id": "ToLCVDLCMshj"
   },
   "outputs": [],
   "source": [
    "# Load Weights of Trained Model\n",
    "gd30x50_go.load_weights(weightfilepath)\n",
    "gd30x50_go.compile(loss      = loss_func, \n",
    "                       optimizer = optmz, \n",
    "                       metrics   = ['accuracy'])\n",
    "\n",
    "\n",
    "# Save Model Architecture and Weights to File\n",
    "modelfolderpath = 'dl_training/model/'\n",
    "modelfilepath   = modelfolderpath + modelname + \".hdf5\"\n",
    "gd30x50_go.save(modelfilepath)"
   ]
  },
  {
   "cell_type": "markdown",
   "metadata": {
    "id": "-QBfKVgnAoYe"
   },
   "source": [
    "### i.4 Model Evaluation"
   ]
  },
  {
   "cell_type": "code",
   "execution_count": 95,
   "metadata": {
    "colab": {
     "base_uri": "https://localhost:8080/",
     "height": 531
    },
    "executionInfo": {
     "elapsed": 1960,
     "status": "ok",
     "timestamp": 1633005120554,
     "user": {
      "displayName": "JM Lim",
      "photoUrl": "https://lh3.googleusercontent.com/a/default-user=s64",
      "userId": "12752115953509725575"
     },
     "user_tz": -480
    },
    "id": "_6cV9aNkMsIl",
    "outputId": "44eaf999-8195-45df-d5ec-df4d0fe9021a"
   },
   "outputs": [
    {
     "name": "stdout",
     "output_type": "stream",
     "text": [
      "GloVe Word Embeddings - Dense Text Classifier\n",
      "---------------------------------------------------------\n",
      "Classification Report: \n",
      "---------------------------------------------------------\n",
      "              precision    recall  f1-score   support\n",
      "\n",
      "           0       0.97      0.99      0.98       736\n",
      "           1       0.95      0.85      0.90       140\n",
      "\n",
      "    accuracy                           0.97       876\n",
      "   macro avg       0.96      0.92      0.94       876\n",
      "weighted avg       0.97      0.97      0.97       876\n",
      "\n",
      "[[730   6]\n",
      " [ 21 119]]\n",
      "---------------------------------------------------------\n",
      "Evaluation Results:\n",
      "---------------------------------------------------------\n",
      "Train Data Accuracy       : 0.985\n",
      "Validation Data Accuracy  : 0.966\n",
      "Test Data Accuracy        : 0.969\n",
      "F1-Score                  : 0.898\n",
      "AUC Score                 : 0.980\n"
     ]
    },
    {
     "data": {
      "image/png": "[encoded data removed]",
      "text/plain": [
       "<Figure size 1944x432 with 3 Axes>"
      ]
     },
     "metadata": {
      "needs_background": "light"
     },
     "output_type": "display_data"
    }
   ],
   "source": [
    "# Model Evaluation\n",
    "gd30x50_result = pd.DataFrame(gd30x50_fit.history)\n",
    "\n",
    "# Accuracy Score\n",
    "gd30x50_trproba = gd30x50_go.predict(X_train_vec_30x50).ravel()\n",
    "gd30x50_trpred = (gd30x50_trproba > 0.5) * 1\n",
    "gd30x50_tracc = accuracy_score(y_train, gd30x50_trpred)\n",
    "\n",
    "gd30x50_tvproba = gd30x50_go.predict(X_val_vec_30x50).ravel()\n",
    "gd30x50_tvpred = (gd30x50_tvproba > 0.5) * 1\n",
    "gd30x50_tvacc = accuracy_score(y_val, gd30x50_tvpred)\n",
    "\n",
    "gd30x50_tsproba = gd30x50_go.predict(X_test_vec_30x50).ravel()\n",
    "gd30x50_tspred = (gd30x50_tsproba > 0.5) * 1\n",
    "gd30x50_tsacc = accuracy_score(y_test, gd30x50_tspred)\n",
    "\n",
    "# Classification Report & Confusion Matrix\n",
    "gd30x50_clr = classification_report(y_test, gd30x50_tspred)\n",
    "gd30x50_cfm = confusion_matrix(y_test, gd30x50_tspred)\n",
    "\n",
    "# F1 Score & AUC Score\n",
    "gd30x50_f1 = f1_score(y_test, gd30x50_tspred)\n",
    "gd30x50_auc = roc_auc_score(y_test, gd30x50_tsproba)\n",
    "gd30x50_fpr, gd30x50_tpr, _ = roc_curve(y_test, gd30x50_tsproba)\n",
    "\n",
    "# Displaying final model evaluation\n",
    "print('GloVe Word Embeddings - Dense Text Classifier')\n",
    "print('---------------------------------------------------------')\n",
    "print('Classification Report: ')\n",
    "print('---------------------------------------------------------')\n",
    "print(gd30x50_clr)\n",
    "print(gd30x50_cfm)\n",
    "print('---------------------------------------------------------')\n",
    "print('Evaluation Results:')\n",
    "print('---------------------------------------------------------')\n",
    "print('Train Data Accuracy       : {:.03f}'.format(gd30x50_tracc))\n",
    "print('Validation Data Accuracy  : {:.03f}'.format(gd30x50_tvacc))\n",
    "print('Test Data Accuracy        : {:.03f}'.format(gd30x50_tsacc))\n",
    "print('F1-Score                  : {:.03f}'.format(gd30x50_f1))\n",
    "print('AUC Score                 : {:.03f}'.format(gd30x50_auc))\n",
    "\n",
    "plt.figure(figsize=(27,6))\n",
    "# Plot Train and Validation Loss\n",
    "plt.subplot(131)\n",
    "plt.plot(gd30x50_result['loss'])\n",
    "plt.plot(gd30x50_result['val_loss'])\n",
    "plt.ylabel('loss')\n",
    "plt.xlabel('epoch')\n",
    "plt.title('Model Loss')\n",
    "plt.legend(['train', 'validation'], loc='upper left')\n",
    "# Plot Train and Validation Accuracy\n",
    "plt.subplot(132)\n",
    "plt.plot(gd30x50_result['accuracy'])\n",
    "plt.plot(gd30x50_result['val_accuracy'])\n",
    "plt.ylabel('accuracy')\n",
    "plt.xlabel('epoch')\n",
    "plt.title('Model Accuracy')\n",
    "plt.legend(['train', 'validation'], loc='upper left')\n",
    "# Plot of ROC Curve\n",
    "plt.subplot(133)\n",
    "plt.plot(gd30x50_fpr,gd30x50_tpr, color='blue')\n",
    "plt.plot([(0,0), (1,1)], linestyle=\"--\")\n",
    "plt.xlabel('False Positive Rate')\n",
    "plt.ylabel('True Positive Rate')\n",
    "plt.title('ROC Curve')\n",
    "plt.show()"
   ]
  },
  {
   "cell_type": "markdown",
   "metadata": {
    "id": "2q9TRAdZCbzT",
    "tags": []
   },
   "source": [
    "## ii. CNN Text Classifier (GloVE)"
   ]
  },
  {
   "cell_type": "markdown",
   "metadata": {
    "id": "S86jHgdMAE-S"
   },
   "source": [
    "### ii.1 Model Architecture"
   ]
  },
  {
   "cell_type": "code",
   "execution_count": 96,
   "metadata": {
    "colab": {
     "base_uri": "https://localhost:8080/"
    },
    "executionInfo": {
     "elapsed": 487,
     "status": "ok",
     "timestamp": 1633004461795,
     "user": {
      "displayName": "JM Lim",
      "photoUrl": "https://lh3.googleusercontent.com/a/default-user=s64",
      "userId": "12752115953509725575"
     },
     "user_tz": -480
    },
    "id": "nKHBpQf1CjEN",
    "outputId": "5c002144-865e-4968-e3c1-8eb04d823c53"
   },
   "outputs": [
    {
     "name": "stdout",
     "output_type": "stream",
     "text": [
      "Model: \"GloVe_CNN_30x50\"\n",
      "_________________________________________________________________\n",
      "Layer (type)                 Output Shape              Param #   \n",
      "=================================================================\n",
      "input_15 (InputLayer)        [(None, 30, 50)]          0         \n",
      "_________________________________________________________________\n",
      "conv1d_22 (Conv1D)           (None, 30, 48)            7248      \n",
      "_________________________________________________________________\n",
      "max_pooling1d_22 (MaxPooling (None, 15, 48)            0         \n",
      "_________________________________________________________________\n",
      "dropout_34 (Dropout)         (None, 15, 48)            0         \n",
      "_________________________________________________________________\n",
      "conv1d_23 (Conv1D)           (None, 15, 64)            9280      \n",
      "_________________________________________________________________\n",
      "max_pooling1d_23 (MaxPooling (None, 7, 64)             0         \n",
      "_________________________________________________________________\n",
      "dropout_35 (Dropout)         (None, 7, 64)             0         \n",
      "_________________________________________________________________\n",
      "conv1d_24 (Conv1D)           (None, 5, 96)             18528     \n",
      "_________________________________________________________________\n",
      "max_pooling1d_24 (MaxPooling (None, 2, 96)             0         \n",
      "_________________________________________________________________\n",
      "flatten_10 (Flatten)         (None, 192)               0         \n",
      "_________________________________________________________________\n",
      "dense_62 (Dense)             (None, 128)               24704     \n",
      "_________________________________________________________________\n",
      "dense_63 (Dense)             (None, 64)                8256      \n",
      "_________________________________________________________________\n",
      "dense_64 (Dense)             (None, 32)                2080      \n",
      "_________________________________________________________________\n",
      "dense_65 (Dense)             (None, 16)                528       \n",
      "_________________________________________________________________\n",
      "dense_66 (Dense)             (None, 1)                 17        \n",
      "=================================================================\n",
      "Total params: 70,641\n",
      "Trainable params: 70,641\n",
      "Non-trainable params: 0\n",
      "_________________________________________________________________\n",
      "Path to model: dl_training/weights/GloVe_CNN_30x50.hdf5\n",
      "Path to log:   dl_training/log/GloVe_CNN_30x50.csv\n"
     ]
    }
   ],
   "source": [
    "# Initilization\n",
    "glove_emb_shape = X_train_vec_30x50[0].shape # Word Embeddings shape per sms\n",
    "loss_func       = 'binary_crossentropy'\n",
    "optmz           = optimizers.Adam(learning_rate=0.0002)\n",
    "modelname       = 'GloVe_CNN_30x50'\n",
    "\n",
    "# Define Model\n",
    "def glove_CNN_30x50():\n",
    "    ipt = Input(shape=glove_emb_shape)\n",
    "    x = Conv1D(48, 3, padding='same', activation='relu')(ipt)\n",
    "    x = MaxPool1D(2)(x)\n",
    "    x = Dropout(0.3)(x)\n",
    "    x = Conv1D(64, 3, padding='same', activation='relu')(x)\n",
    "    x = MaxPool1D(2)(x)\n",
    "    x = Dropout(0.25)(x)\n",
    "    x = Conv1D(96, 3, activation='relu')(x)\n",
    "    x = MaxPool1D(2)(x)\n",
    "    x = Flatten()(x)\n",
    "    x = Dense(128, activation='relu')(x)\n",
    "    x = Dense(64, activation='relu')(x)\n",
    "    x = Dense(32, activation='relu', kernel_regularizer=regularizers.l2(0.15))(x)\n",
    "    x = Dense(16, activation='relu', kernel_regularizer=regularizers.l2(0.2))(x)\n",
    "    x = Dense(1, activation='sigmoid')(x)\n",
    "\n",
    "    model = Model(inputs=ipt, outputs=x, name=modelname)\n",
    "    \n",
    "    model.compile(loss      = loss_func,\n",
    "                  optimizer = optmz,\n",
    "                  metrics   = ['accuracy'])\n",
    "    \n",
    "    return model\n",
    "\n",
    "# Setup Model\n",
    "gCNN30x50     = glove_CNN_30x50()\n",
    "gCNN30x50_go  = glove_CNN_30x50() # For loading best model & predictions\n",
    "\n",
    "# Filepaths for callbacks\n",
    "weightfolderpath = 'dl_training/weights/'\n",
    "weightfilepath   = weightfolderpath + modelname + \".hdf5\"\n",
    "logfolderpath   = 'dl_training/log/'\n",
    "logfilepath     = logfolderpath + modelname + '.csv'\n",
    "\n",
    "# Checkpoint\n",
    "checkpoint      = ModelCheckpoint(weightfilepath, \n",
    "                                  monitor        = 'val_accuracy',\n",
    "                                  mode           = 'max',\n",
    "                                  save_best_only = True,\n",
    "                                  verbose        = 0)\n",
    "# Training Logger\n",
    "csv_logger      = CSVLogger(logfilepath)    \n",
    "\n",
    "# Model Callback Lists\n",
    "callbacks_list  = [checkpoint, csv_logger]                                    \n",
    "\n",
    "# Model Setup Summary\n",
    "gCNN30x50.summary()\n",
    "print(\"Path to model:\", weightfilepath)\n",
    "print(\"Path to log:  \", logfilepath)"
   ]
  },
  {
   "cell_type": "markdown",
   "metadata": {
    "id": "5VhI1Q7uAPzK"
   },
   "source": [
    "### ii.2 Train Model"
   ]
  },
  {
   "cell_type": "code",
   "execution_count": 97,
   "metadata": {
    "colab": {
     "base_uri": "https://localhost:8080/"
    },
    "executionInfo": {
     "elapsed": 203266,
     "status": "ok",
     "timestamp": 1633004665059,
     "user": {
      "displayName": "JM Lim",
      "photoUrl": "https://lh3.googleusercontent.com/a/default-user=s64",
      "userId": "12752115953509725575"
     },
     "user_tz": -480
    },
    "id": "MAkq5eltQ_zh",
    "outputId": "8859276c-217f-45f0-99b3-3491ad3d0402"
   },
   "outputs": [
    {
     "name": "stdout",
     "output_type": "stream",
     "text": [
      "Epoch 1/40\n",
      "82/82 [==============================] - 1s 9ms/step - loss: 10.2313 - accuracy: 0.8162 - val_loss: 9.2272 - val_accuracy: 0.8390\n",
      "Epoch 2/40\n",
      "82/82 [==============================] - 1s 7ms/step - loss: 8.4470 - accuracy: 0.8707 - val_loss: 7.6834 - val_accuracy: 0.9418\n",
      "Epoch 3/40\n",
      "82/82 [==============================] - 1s 6ms/step - loss: 7.0433 - accuracy: 0.9297 - val_loss: 6.4369 - val_accuracy: 0.9384\n",
      "Epoch 4/40\n",
      "82/82 [==============================] - 1s 7ms/step - loss: 5.8964 - accuracy: 0.9479 - val_loss: 5.3833 - val_accuracy: 0.9555\n",
      "Epoch 5/40\n",
      "82/82 [==============================] - 1s 7ms/step - loss: 4.9448 - accuracy: 0.9508 - val_loss: 4.5049 - val_accuracy: 0.9566\n",
      "Epoch 6/40\n",
      "82/82 [==============================] - 1s 7ms/step - loss: 4.1414 - accuracy: 0.9581 - val_loss: 3.7723 - val_accuracy: 0.9635\n",
      "Epoch 7/40\n",
      "82/82 [==============================] - 1s 7ms/step - loss: 3.4622 - accuracy: 0.9616 - val_loss: 3.1608 - val_accuracy: 0.9612\n",
      "Epoch 8/40\n",
      "82/82 [==============================] - 1s 6ms/step - loss: 2.8990 - accuracy: 0.9594 - val_loss: 2.6310 - val_accuracy: 0.9669\n",
      "Epoch 9/40\n",
      "82/82 [==============================] - 1s 7ms/step - loss: 2.4141 - accuracy: 0.9635 - val_loss: 2.2027 - val_accuracy: 0.9646\n",
      "Epoch 10/40\n",
      "82/82 [==============================] - 1s 7ms/step - loss: 2.0098 - accuracy: 0.9665 - val_loss: 1.8390 - val_accuracy: 0.9600\n",
      "Epoch 11/40\n",
      "82/82 [==============================] - 1s 7ms/step - loss: 1.6768 - accuracy: 0.9670 - val_loss: 1.5279 - val_accuracy: 0.9623\n",
      "Epoch 12/40\n",
      "82/82 [==============================] - 1s 6ms/step - loss: 1.4005 - accuracy: 0.9655 - val_loss: 1.2701 - val_accuracy: 0.9680\n",
      "Epoch 13/40\n",
      "82/82 [==============================] - 1s 7ms/step - loss: 1.1673 - accuracy: 0.9670 - val_loss: 1.0699 - val_accuracy: 0.9635\n",
      "Epoch 14/40\n",
      "82/82 [==============================] - 1s 7ms/step - loss: 0.9655 - accuracy: 0.9689 - val_loss: 0.8854 - val_accuracy: 0.9669\n",
      "Epoch 15/40\n",
      "82/82 [==============================] - 1s 7ms/step - loss: 0.8113 - accuracy: 0.9694 - val_loss: 0.7441 - val_accuracy: 0.9646\n",
      "Epoch 16/40\n",
      "82/82 [==============================] - 1s 7ms/step - loss: 0.6824 - accuracy: 0.9667 - val_loss: 0.6226 - val_accuracy: 0.9669\n",
      "Epoch 17/40\n",
      "82/82 [==============================] - 1s 7ms/step - loss: 0.5632 - accuracy: 0.9738 - val_loss: 0.5227 - val_accuracy: 0.9680\n",
      "Epoch 18/40\n",
      "82/82 [==============================] - 1s 6ms/step - loss: 0.4726 - accuracy: 0.9728 - val_loss: 0.4469 - val_accuracy: 0.9646\n",
      "Epoch 19/40\n",
      "82/82 [==============================] - 1s 7ms/step - loss: 0.3990 - accuracy: 0.9750 - val_loss: 0.3762 - val_accuracy: 0.9680\n",
      "Epoch 20/40\n",
      "82/82 [==============================] - 1s 7ms/step - loss: 0.3407 - accuracy: 0.9711 - val_loss: 0.3217 - val_accuracy: 0.9669\n",
      "Epoch 21/40\n",
      "82/82 [==============================] - 1s 7ms/step - loss: 0.2889 - accuracy: 0.9760 - val_loss: 0.2756 - val_accuracy: 0.9703\n",
      "Epoch 22/40\n",
      "82/82 [==============================] - 1s 7ms/step - loss: 0.2489 - accuracy: 0.9750 - val_loss: 0.2411 - val_accuracy: 0.9737\n",
      "Epoch 23/40\n",
      "82/82 [==============================] - 1s 7ms/step - loss: 0.2150 - accuracy: 0.9758 - val_loss: 0.2117 - val_accuracy: 0.9715\n",
      "Epoch 24/40\n",
      "82/82 [==============================] - 1s 7ms/step - loss: 0.1918 - accuracy: 0.9775 - val_loss: 0.1910 - val_accuracy: 0.9669\n",
      "Epoch 25/40\n",
      "82/82 [==============================] - 1s 7ms/step - loss: 0.1638 - accuracy: 0.9792 - val_loss: 0.1717 - val_accuracy: 0.9749\n",
      "Epoch 26/40\n",
      "82/82 [==============================] - 1s 7ms/step - loss: 0.1472 - accuracy: 0.9777 - val_loss: 0.1557 - val_accuracy: 0.9703\n",
      "Epoch 27/40\n",
      "82/82 [==============================] - 1s 6ms/step - loss: 0.1357 - accuracy: 0.9777 - val_loss: 0.1486 - val_accuracy: 0.9680\n",
      "Epoch 28/40\n",
      "82/82 [==============================] - 1s 7ms/step - loss: 0.1218 - accuracy: 0.9775 - val_loss: 0.1326 - val_accuracy: 0.9726\n",
      "Epoch 29/40\n",
      "82/82 [==============================] - 1s 7ms/step - loss: 0.1112 - accuracy: 0.9814 - val_loss: 0.1283 - val_accuracy: 0.9737\n",
      "Epoch 30/40\n",
      "82/82 [==============================] - 1s 6ms/step - loss: 0.1006 - accuracy: 0.9829 - val_loss: 0.1173 - val_accuracy: 0.9737\n",
      "Epoch 31/40\n",
      "82/82 [==============================] - 1s 7ms/step - loss: 0.0946 - accuracy: 0.9814 - val_loss: 0.1143 - val_accuracy: 0.9737\n",
      "Epoch 32/40\n",
      "82/82 [==============================] - 1s 7ms/step - loss: 0.0877 - accuracy: 0.9812 - val_loss: 0.1093 - val_accuracy: 0.9737\n",
      "Epoch 33/40\n",
      "82/82 [==============================] - 1s 7ms/step - loss: 0.0821 - accuracy: 0.9812 - val_loss: 0.1058 - val_accuracy: 0.9737\n",
      "Epoch 34/40\n",
      "82/82 [==============================] - 1s 7ms/step - loss: 0.0796 - accuracy: 0.9821 - val_loss: 0.1084 - val_accuracy: 0.9737\n",
      "Epoch 35/40\n",
      "82/82 [==============================] - 1s 7ms/step - loss: 0.0756 - accuracy: 0.9841 - val_loss: 0.1016 - val_accuracy: 0.9760\n",
      "Epoch 36/40\n",
      "82/82 [==============================] - 1s 7ms/step - loss: 0.0700 - accuracy: 0.9851 - val_loss: 0.1024 - val_accuracy: 0.9772\n",
      "Epoch 37/40\n",
      "82/82 [==============================] - 1s 7ms/step - loss: 0.0688 - accuracy: 0.9826 - val_loss: 0.0981 - val_accuracy: 0.9760\n",
      "Epoch 38/40\n",
      "82/82 [==============================] - 1s 7ms/step - loss: 0.0715 - accuracy: 0.9829 - val_loss: 0.0984 - val_accuracy: 0.9749\n",
      "Epoch 39/40\n",
      "82/82 [==============================] - 1s 6ms/step - loss: 0.0634 - accuracy: 0.9860 - val_loss: 0.1005 - val_accuracy: 0.9737\n",
      "Epoch 40/40\n",
      "82/82 [==============================] - 1s 6ms/step - loss: 0.0552 - accuracy: 0.9895 - val_loss: 0.0954 - val_accuracy: 0.9772\n"
     ]
    }
   ],
   "source": [
    "# Train Model\n",
    "num_epoch = 40\n",
    "batchsize = 50\n",
    "\n",
    "gCNN30x50_fit = gCNN30x50.fit(x=X_train_vec_30x50, y=y_train, validation_data=(X_val_vec_30x50, y_val), epochs=num_epoch, batch_size=batchsize, shuffle=True, callbacks=callbacks_list)"
   ]
  },
  {
   "cell_type": "markdown",
   "metadata": {
    "id": "BetkIR_jAdlC"
   },
   "source": [
    "### ii.3 Save Model"
   ]
  },
  {
   "cell_type": "code",
   "execution_count": 98,
   "metadata": {
    "id": "_xKTFCEYQ_w0"
   },
   "outputs": [],
   "source": [
    "# Load Trained Model\n",
    "gCNN30x50_go.load_weights(weightfilepath)\n",
    "gCNN30x50_go.compile(loss      = loss_func, \n",
    "                     optimizer = optmz, \n",
    "                     metrics   = ['accuracy'])\n",
    "\n",
    "# Save Model Architecture and Weights to File\n",
    "modelfolderpath = 'dl_training/model/'\n",
    "modelfilepath   = modelfolderpath + modelname + \".hdf5\"\n",
    "gCNN30x50_go.save(modelfilepath)"
   ]
  },
  {
   "cell_type": "markdown",
   "metadata": {
    "id": "5vKxLXInBAHy"
   },
   "source": [
    "### ii.4 Model Evaluation"
   ]
  },
  {
   "cell_type": "code",
   "execution_count": 99,
   "metadata": {
    "colab": {
     "base_uri": "https://localhost:8080/",
     "height": 531
    },
    "executionInfo": {
     "elapsed": 2455,
     "status": "ok",
     "timestamp": 1633004668383,
     "user": {
      "displayName": "JM Lim",
      "photoUrl": "https://lh3.googleusercontent.com/a/default-user=s64",
      "userId": "12752115953509725575"
     },
     "user_tz": -480
    },
    "id": "e6hwzvjkQ_uJ",
    "outputId": "5d9de64b-5b29-4fcb-f783-5275a0609153"
   },
   "outputs": [
    {
     "name": "stdout",
     "output_type": "stream",
     "text": [
      "GloVe Word Embeddings - Dense Text Classifier\n",
      "---------------------------------------------------------\n",
      "Classification Report: \n",
      "---------------------------------------------------------\n",
      "              precision    recall  f1-score   support\n",
      "\n",
      "           0       0.98      1.00      0.99       736\n",
      "           1       0.98      0.89      0.93       140\n",
      "\n",
      "    accuracy                           0.98       876\n",
      "   macro avg       0.98      0.94      0.96       876\n",
      "weighted avg       0.98      0.98      0.98       876\n",
      "\n",
      "[[734   2]\n",
      " [ 16 124]]\n",
      "---------------------------------------------------------\n",
      "Evaluation Results:\n",
      "---------------------------------------------------------\n",
      "Train Data Accuracy       : 0.992\n",
      "Validation Data Accuracy  : 0.977\n",
      "Test Data Accuracy        : 0.979\n",
      "F1-Score                  : 0.932\n",
      "AUC Score                 : 0.992\n"
     ]
    },
    {
     "data": {
      "image/png": "[encoded data removed]",
      "text/plain": [
       "<Figure size 1944x432 with 3 Axes>"
      ]
     },
     "metadata": {
      "needs_background": "light"
     },
     "output_type": "display_data"
    }
   ],
   "source": [
    "# Model Evaluation\n",
    "gCNN30x50_result = pd.DataFrame(gCNN30x50_fit.history)\n",
    "\n",
    "# Accuracy Score & ROC Curve\n",
    "gCNN30x50_trproba = gCNN30x50_go.predict(X_train_vec_30x50).ravel()\n",
    "gCNN30x50_trpred = (gCNN30x50_trproba > 0.5) * 1\n",
    "gCNN30x50_tracc = accuracy_score(y_train, gCNN30x50_trpred)\n",
    "\n",
    "gCNN30x50_tvproba = gCNN30x50_go.predict(X_val_vec_30x50).ravel()\n",
    "gCNN30x50_tvpred = (gCNN30x50_tvproba > 0.5) * 1\n",
    "gCNN30x50_tvacc = accuracy_score(y_val, gCNN30x50_tvpred)\n",
    "\n",
    "gCNN30x50_tsproba = gCNN30x50_go.predict(X_test_vec_30x50).ravel()\n",
    "gCNN30x50_tspred = (gCNN30x50_tsproba > 0.5) * 1\n",
    "gCNN30x50_tsacc = accuracy_score(y_test, gCNN30x50_tspred)\n",
    "\n",
    "# Classification Report & Confusion Matrix\n",
    "gCNN30x50_clr = classification_report(y_test, gCNN30x50_tspred)\n",
    "gCNN30x50_cfm = confusion_matrix(y_test, gCNN30x50_tspred)\n",
    "\n",
    "# F1 Score & AUC Score\n",
    "gCNN30x50_f1 = f1_score(y_test, gCNN30x50_tspred)\n",
    "gCNN30x50_auc = roc_auc_score(y_test, gCNN30x50_tsproba)\n",
    "gCNN30x50_fpr, gCNN30x50_tpr, _ = roc_curve(y_test, gCNN30x50_tsproba)\n",
    "\n",
    "# Displaying final model evaluation\n",
    "print('GloVe Word Embeddings - Dense Text Classifier')\n",
    "print('---------------------------------------------------------')\n",
    "print('Classification Report: ')\n",
    "print('---------------------------------------------------------')\n",
    "print(gCNN30x50_clr)\n",
    "print(gCNN30x50_cfm)\n",
    "print('---------------------------------------------------------')\n",
    "print('Evaluation Results:')\n",
    "print('---------------------------------------------------------')\n",
    "print('Train Data Accuracy       : {:.03f}'.format(gCNN30x50_tracc))\n",
    "print('Validation Data Accuracy  : {:.03f}'.format(gCNN30x50_tvacc))\n",
    "print('Test Data Accuracy        : {:.03f}'.format(gCNN30x50_tsacc))\n",
    "print('F1-Score                  : {:.03f}'.format(gCNN30x50_f1))\n",
    "print('AUC Score                 : {:.03f}'.format(gCNN30x50_auc))\n",
    "\n",
    "plt.figure(figsize=(27,6))\n",
    "# Plot Train and Validation Loss\n",
    "plt.subplot(131)\n",
    "plt.plot(gCNN30x50_result['loss'])\n",
    "plt.plot(gCNN30x50_result['val_loss'])\n",
    "plt.ylabel('loss')\n",
    "plt.xlabel('epoch')\n",
    "plt.title('Model Loss')\n",
    "plt.legend(['train', 'validation'], loc='upper left')\n",
    "# Plot Train and Validation Accuracy\n",
    "plt.subplot(132)\n",
    "plt.plot(gCNN30x50_result['accuracy'])\n",
    "plt.plot(gCNN30x50_result['val_accuracy'])\n",
    "plt.ylabel('accuracy')\n",
    "plt.xlabel('epoch')\n",
    "plt.title('Model Accuracy')\n",
    "plt.legend(['train', 'validation'], loc='upper left')\n",
    "# Plot of ROC Curve\n",
    "plt.subplot(133)\n",
    "plt.plot(gCNN30x50_fpr,gCNN30x50_tpr, color='blue')\n",
    "plt.plot([(0,0), (1,1)], linestyle=\"--\")\n",
    "plt.xlabel('False Positive Rate')\n",
    "plt.ylabel('True Positive Rate')\n",
    "plt.title('ROC Curve')\n",
    "plt.show()"
   ]
  },
  {
   "cell_type": "markdown",
   "metadata": {
    "id": "YwPeRQwoCjZC"
   },
   "source": [
    "## iii. LSTM Text Classifier (GloVE)"
   ]
  },
  {
   "cell_type": "markdown",
   "metadata": {
    "id": "XtpCHTsbAGNC"
   },
   "source": [
    "### iii.1 Model Architecture"
   ]
  },
  {
   "cell_type": "code",
   "execution_count": 100,
   "metadata": {
    "colab": {
     "base_uri": "https://localhost:8080/"
    },
    "executionInfo": {
     "elapsed": 4481,
     "status": "ok",
     "timestamp": 1633005701598,
     "user": {
      "displayName": "JM Lim",
      "photoUrl": "https://lh3.googleusercontent.com/a/default-user=s64",
      "userId": "12752115953509725575"
     },
     "user_tz": -480
    },
    "id": "T07U8h7zCnQe",
    "outputId": "33cfac0c-6d73-4ea4-92ae-932f92c0cf8c"
   },
   "outputs": [
    {
     "name": "stdout",
     "output_type": "stream",
     "text": [
      "Model: \"GloVe_LSTM_30x50\"\n",
      "_________________________________________________________________\n",
      "Layer (type)                 Output Shape              Param #   \n",
      "=================================================================\n",
      "input_17 (InputLayer)        [(None, 30, 50)]          0         \n",
      "_________________________________________________________________\n",
      "lstm_14 (LSTM)               (None, 30, 48)            19008     \n",
      "_________________________________________________________________\n",
      "lstm_15 (LSTM)               (None, 30, 48)            18624     \n",
      "_________________________________________________________________\n",
      "lstm_16 (LSTM)               (None, 30, 64)            28928     \n",
      "_________________________________________________________________\n",
      "lstm_17 (LSTM)               (None, 64)                33024     \n",
      "_________________________________________________________________\n",
      "dense_72 (Dense)             (None, 48)                3120      \n",
      "_________________________________________________________________\n",
      "dense_73 (Dense)             (None, 24)                1176      \n",
      "_________________________________________________________________\n",
      "dense_74 (Dense)             (None, 16)                400       \n",
      "_________________________________________________________________\n",
      "dense_75 (Dense)             (None, 1)                 17        \n",
      "=================================================================\n",
      "Total params: 104,297\n",
      "Trainable params: 104,297\n",
      "Non-trainable params: 0\n",
      "_________________________________________________________________\n",
      "Path to model: dl_training/weights/GloVe_LSTM_30x50.hdf5\n",
      "Path to log:   dl_training/log/GloVe_LSTM_30x50.csv\n"
     ]
    }
   ],
   "source": [
    "# Initilization\n",
    "glove_emb_shape = X_train_vec_30x50[0].shape # Word Embeddings shape per sms\n",
    "loss_func       = 'binary_crossentropy'\n",
    "optmz           = optimizers.Adam(learning_rate=0.0001)\n",
    "modelname       = 'GloVe_LSTM_30x50'\n",
    "\n",
    "# Define Model\n",
    "def glove_LSTM_30x50():\n",
    "    ipt = Input(shape=glove_emb_shape)\n",
    "    x = LSTM(48, return_sequences=True, dropout=0.2, kernel_regularizer=regularizers.l2(0.01))(ipt)\n",
    "    x = LSTM(48, return_sequences=True, dropout=0.2)(x)\n",
    "    x = LSTM(64, return_sequences=True)(x)\n",
    "    x = LSTM(64)(x)\n",
    "    x = Dense(48, activation='relu')(x)\n",
    "    x = Dense(24, activation='relu')(x)\n",
    "    x = Dense(16, activation='relu')(x)\n",
    "    x = Dense(1, activation='sigmoid')(x)\n",
    "\n",
    "    model = Model(inputs=ipt, outputs=x, name=modelname)\n",
    "    \n",
    "    model.compile(loss      = loss_func,\n",
    "                  optimizer = optmz,\n",
    "                  metrics   = ['accuracy'])\n",
    "    \n",
    "    return model\n",
    "\n",
    "# Setup Model\n",
    "gLSTM30x50     = glove_LSTM_30x50()\n",
    "gLSTM30x50_go  = glove_LSTM_30x50() # For loading best model & predictions\n",
    "\n",
    "# Filepaths for callbacks\n",
    "weightfolderpath = 'dl_training/weights/'\n",
    "weightfilepath   = weightfolderpath + modelname + \".hdf5\"\n",
    "logfolderpath   = 'dl_training/log/'\n",
    "logfilepath     = logfolderpath + modelname + '.csv'\n",
    "\n",
    "# Checkpoint\n",
    "checkpoint      = ModelCheckpoint(weightfilepath, \n",
    "                                  monitor        = 'val_accuracy',\n",
    "                                  mode           = 'max',\n",
    "                                  save_best_only = True,\n",
    "                                  verbose        = 0)\n",
    "# Training Logger\n",
    "csv_logger      = CSVLogger(logfilepath)    \n",
    "\n",
    "# Model Callback Lists\n",
    "callbacks_list  = [checkpoint, csv_logger]                                    \n",
    "\n",
    "# Model Setup Summary\n",
    "gLSTM30x50.summary()\n",
    "print(\"Path to model:\", weightfilepath)\n",
    "print(\"Path to log:  \", logfilepath)"
   ]
  },
  {
   "cell_type": "markdown",
   "metadata": {
    "id": "CMGwjywtARNf"
   },
   "source": [
    "### iii.2 Train Model"
   ]
  },
  {
   "cell_type": "code",
   "execution_count": 101,
   "metadata": {
    "colab": {
     "background_save": true,
     "base_uri": "https://localhost:8080/"
    },
    "id": "gknYJCdy0icv",
    "outputId": "bfbc2140-6f3c-492f-f054-dadaf0d6192d"
   },
   "outputs": [
    {
     "name": "stdout",
     "output_type": "stream",
     "text": [
      "Epoch 1/40\n",
      "137/137 [==============================] - 6s 19ms/step - loss: 1.2392 - accuracy: 0.8357 - val_loss: 1.0294 - val_accuracy: 0.8390\n",
      "Epoch 2/40\n",
      "137/137 [==============================] - 2s 13ms/step - loss: 0.8718 - accuracy: 0.8399 - val_loss: 0.7136 - val_accuracy: 0.8390\n",
      "Epoch 3/40\n",
      "137/137 [==============================] - 2s 13ms/step - loss: 0.6433 - accuracy: 0.9165 - val_loss: 0.5706 - val_accuracy: 0.9521\n",
      "Epoch 4/40\n",
      "137/137 [==============================] - 2s 13ms/step - loss: 0.5362 - accuracy: 0.9452 - val_loss: 0.4736 - val_accuracy: 0.9578\n",
      "Epoch 5/40\n",
      "137/137 [==============================] - 2s 15ms/step - loss: 0.4547 - accuracy: 0.9496 - val_loss: 0.3996 - val_accuracy: 0.9589\n",
      "Epoch 6/40\n",
      "137/137 [==============================] - 2s 13ms/step - loss: 0.3850 - accuracy: 0.9552 - val_loss: 0.3492 - val_accuracy: 0.9623\n",
      "Epoch 7/40\n",
      "137/137 [==============================] - 2s 13ms/step - loss: 0.3467 - accuracy: 0.9528 - val_loss: 0.3048 - val_accuracy: 0.9635\n",
      "Epoch 8/40\n",
      "137/137 [==============================] - 2s 13ms/step - loss: 0.3096 - accuracy: 0.9567 - val_loss: 0.2704 - val_accuracy: 0.9646\n",
      "Epoch 9/40\n",
      "137/137 [==============================] - 2s 14ms/step - loss: 0.2735 - accuracy: 0.9601 - val_loss: 0.2466 - val_accuracy: 0.9635\n",
      "Epoch 10/40\n",
      "137/137 [==============================] - 2s 13ms/step - loss: 0.2540 - accuracy: 0.9579 - val_loss: 0.2224 - val_accuracy: 0.9680\n",
      "Epoch 11/40\n",
      "137/137 [==============================] - 2s 14ms/step - loss: 0.2319 - accuracy: 0.9633 - val_loss: 0.2103 - val_accuracy: 0.9692\n",
      "Epoch 12/40\n",
      "137/137 [==============================] - 2s 14ms/step - loss: 0.2264 - accuracy: 0.9599 - val_loss: 0.1995 - val_accuracy: 0.9680\n",
      "Epoch 13/40\n",
      "137/137 [==============================] - 2s 13ms/step - loss: 0.2081 - accuracy: 0.9635 - val_loss: 0.2132 - val_accuracy: 0.9543\n",
      "Epoch 14/40\n",
      "137/137 [==============================] - 2s 14ms/step - loss: 0.1961 - accuracy: 0.9625 - val_loss: 0.1822 - val_accuracy: 0.9680\n",
      "Epoch 15/40\n",
      "137/137 [==============================] - 2s 13ms/step - loss: 0.1883 - accuracy: 0.9638 - val_loss: 0.1705 - val_accuracy: 0.9669\n",
      "Epoch 16/40\n",
      "137/137 [==============================] - 2s 12ms/step - loss: 0.1842 - accuracy: 0.9630 - val_loss: 0.1725 - val_accuracy: 0.9703\n",
      "Epoch 17/40\n",
      "137/137 [==============================] - 2s 13ms/step - loss: 0.1815 - accuracy: 0.9643 - val_loss: 0.1609 - val_accuracy: 0.9715\n",
      "Epoch 18/40\n",
      "137/137 [==============================] - 2s 14ms/step - loss: 0.1720 - accuracy: 0.9679 - val_loss: 0.1579 - val_accuracy: 0.9646\n",
      "Epoch 19/40\n",
      "137/137 [==============================] - 2s 13ms/step - loss: 0.1672 - accuracy: 0.9665 - val_loss: 0.1573 - val_accuracy: 0.9703\n",
      "Epoch 20/40\n",
      "137/137 [==============================] - 2s 14ms/step - loss: 0.1628 - accuracy: 0.9674 - val_loss: 0.1635 - val_accuracy: 0.9669\n",
      "Epoch 21/40\n",
      "137/137 [==============================] - 2s 13ms/step - loss: 0.1614 - accuracy: 0.9662 - val_loss: 0.1524 - val_accuracy: 0.9715\n",
      "Epoch 22/40\n",
      "137/137 [==============================] - 2s 13ms/step - loss: 0.1566 - accuracy: 0.9677 - val_loss: 0.1408 - val_accuracy: 0.9726\n",
      "Epoch 23/40\n",
      "137/137 [==============================] - 2s 13ms/step - loss: 0.1547 - accuracy: 0.9670 - val_loss: 0.1409 - val_accuracy: 0.9726\n",
      "Epoch 24/40\n",
      "137/137 [==============================] - 2s 13ms/step - loss: 0.1548 - accuracy: 0.9655 - val_loss: 0.1393 - val_accuracy: 0.9749\n",
      "Epoch 25/40\n",
      "137/137 [==============================] - 2s 14ms/step - loss: 0.1560 - accuracy: 0.9660 - val_loss: 0.1583 - val_accuracy: 0.9669\n",
      "Epoch 26/40\n",
      "137/137 [==============================] - 2s 13ms/step - loss: 0.1615 - accuracy: 0.9621 - val_loss: 0.1552 - val_accuracy: 0.9669\n",
      "Epoch 27/40\n",
      "137/137 [==============================] - 2s 15ms/step - loss: 0.1463 - accuracy: 0.9714 - val_loss: 0.1357 - val_accuracy: 0.9737\n",
      "Epoch 28/40\n",
      "137/137 [==============================] - 2s 13ms/step - loss: 0.1468 - accuracy: 0.9674 - val_loss: 0.1338 - val_accuracy: 0.9772\n",
      "Epoch 29/40\n",
      "137/137 [==============================] - 2s 13ms/step - loss: 0.1456 - accuracy: 0.9684 - val_loss: 0.1306 - val_accuracy: 0.9783\n",
      "Epoch 30/40\n",
      "137/137 [==============================] - 2s 13ms/step - loss: 0.1370 - accuracy: 0.9718 - val_loss: 0.1276 - val_accuracy: 0.9749\n",
      "Epoch 31/40\n",
      "137/137 [==============================] - 2s 13ms/step - loss: 0.1351 - accuracy: 0.9726 - val_loss: 0.1284 - val_accuracy: 0.9703\n",
      "Epoch 32/40\n",
      "137/137 [==============================] - 2s 12ms/step - loss: 0.1332 - accuracy: 0.9696 - val_loss: 0.1283 - val_accuracy: 0.9715\n",
      "Epoch 33/40\n",
      "137/137 [==============================] - 2s 13ms/step - loss: 0.1345 - accuracy: 0.9711 - val_loss: 0.1376 - val_accuracy: 0.9715\n",
      "Epoch 34/40\n",
      "137/137 [==============================] - 2s 14ms/step - loss: 0.1304 - accuracy: 0.9709 - val_loss: 0.1310 - val_accuracy: 0.9703\n",
      "Epoch 35/40\n",
      "137/137 [==============================] - 2s 13ms/step - loss: 0.1403 - accuracy: 0.9674 - val_loss: 0.1287 - val_accuracy: 0.9749\n",
      "Epoch 36/40\n",
      "137/137 [==============================] - 2s 12ms/step - loss: 0.1333 - accuracy: 0.9677 - val_loss: 0.1229 - val_accuracy: 0.9737\n",
      "Epoch 37/40\n",
      "137/137 [==============================] - 2s 14ms/step - loss: 0.1383 - accuracy: 0.9677 - val_loss: 0.1247 - val_accuracy: 0.9772\n",
      "Epoch 38/40\n",
      "137/137 [==============================] - 2s 14ms/step - loss: 0.1295 - accuracy: 0.9718 - val_loss: 0.1210 - val_accuracy: 0.9749\n",
      "Epoch 39/40\n",
      "137/137 [==============================] - 2s 13ms/step - loss: 0.1303 - accuracy: 0.9692 - val_loss: 0.1280 - val_accuracy: 0.9680\n",
      "Epoch 40/40\n",
      "137/137 [==============================] - 2s 14ms/step - loss: 0.1257 - accuracy: 0.9694 - val_loss: 0.1205 - val_accuracy: 0.9703\n"
     ]
    }
   ],
   "source": [
    "# Train Model\n",
    "num_epoch = 40\n",
    "batchsize = 30\n",
    "\n",
    "gLSTM30x50_fit = gLSTM30x50.fit(x=X_train_vec_30x50, y=y_train, validation_data=(X_val_vec_30x50, y_val), epochs=num_epoch, batch_size=batchsize, shuffle=True, callbacks=callbacks_list)"
   ]
  },
  {
   "cell_type": "markdown",
   "metadata": {
    "id": "jtth_1IdAhER"
   },
   "source": [
    "### iii.3 Save Model"
   ]
  },
  {
   "cell_type": "code",
   "execution_count": 102,
   "metadata": {
    "colab": {
     "background_save": true
    },
    "id": "KXIF60JS0ia1"
   },
   "outputs": [],
   "source": [
    "# Load Trained Model\n",
    "gLSTM30x50_go.load_weights(weightfilepath)\n",
    "gLSTM30x50_go.compile(loss      = loss_func, \n",
    "                      optimizer = optmz, \n",
    "                      metrics   = ['accuracy'])\n",
    "\n",
    "# Save Model Architecture and Weights to File\n",
    "modelfolderpath = 'dl_training/model/'\n",
    "modelfilepath   = modelfolderpath + modelname + \".hdf5\"\n",
    "gLSTM30x50_go.save(modelfilepath)"
   ]
  },
  {
   "cell_type": "markdown",
   "metadata": {
    "id": "7lb8xX15BHPR"
   },
   "source": [
    "### iii.4 Model Evaluation"
   ]
  },
  {
   "cell_type": "code",
   "execution_count": 103,
   "metadata": {
    "colab": {
     "background_save": true
    },
    "id": "Xl4N86yK0iX6",
    "outputId": "32b28649-4497-4566-dab3-9e50ae89311e"
   },
   "outputs": [
    {
     "name": "stdout",
     "output_type": "stream",
     "text": [
      "GloVe Word Embeddings - LSTM Text Classifier\n",
      "---------------------------------------------------------\n",
      "Classification Report: \n",
      "---------------------------------------------------------\n",
      "              precision    recall  f1-score   support\n",
      "\n",
      "           0       0.98      0.99      0.98       736\n",
      "           1       0.95      0.88      0.91       140\n",
      "\n",
      "    accuracy                           0.97       876\n",
      "   macro avg       0.96      0.93      0.95       876\n",
      "weighted avg       0.97      0.97      0.97       876\n",
      "\n",
      "[[729   7]\n",
      " [ 17 123]]\n",
      "---------------------------------------------------------\n",
      "Evaluation Results:\n",
      "---------------------------------------------------------\n",
      "Train Data Accuracy       : 0.976\n",
      "Validation Data Accuracy  : 0.978\n",
      "Test Data Accuracy        : 0.973\n",
      "F1-Score                  : 0.911\n",
      "AUC Score                 : 0.991\n"
     ]
    },
    {
     "data": {
      "image/png": "[encoded data removed]",
      "text/plain": [
       "<Figure size 1944x432 with 3 Axes>"
      ]
     },
     "metadata": {
      "needs_background": "light"
     },
     "output_type": "display_data"
    }
   ],
   "source": [
    "# Model Evaluation\n",
    "gLSTM30x50_result = pd.DataFrame(gLSTM30x50_fit.history)\n",
    "\n",
    "# Accuracy Score & ROC Curve\n",
    "gLSTM30x50_trproba = gLSTM30x50_go.predict(X_train_vec_30x50).ravel()\n",
    "gLSTM30x50_trpred = (gLSTM30x50_trproba > 0.5) * 1\n",
    "gLSTM30x50_tracc = accuracy_score(y_train, gLSTM30x50_trpred)\n",
    "\n",
    "gLSTM30x50_tvproba = gLSTM30x50_go.predict(X_val_vec_30x50).ravel()\n",
    "gLSTM30x50_tvpred = (gLSTM30x50_tvproba > 0.5) * 1\n",
    "gLSTM30x50_tvacc = accuracy_score(y_val, gLSTM30x50_tvpred)\n",
    "\n",
    "gLSTM30x50_tsproba = gLSTM30x50_go.predict(X_test_vec_30x50).ravel()\n",
    "gLSTM30x50_tspred = (gLSTM30x50_tsproba > 0.5) * 1\n",
    "gLSTM30x50_tsacc = accuracy_score(y_test, gLSTM30x50_tspred)\n",
    "\n",
    "# Classification Report & Confusion Matrix\n",
    "gLSTM30x50_clr = classification_report(y_test, gLSTM30x50_tspred)\n",
    "gLSTM30x50_cfm = confusion_matrix(y_test, gLSTM30x50_tspred)\n",
    "\n",
    "# F1 Score & AUC Score\n",
    "gLSTM30x50_f1 = f1_score(y_test, gLSTM30x50_tspred)\n",
    "gLSTM30x50_auc = roc_auc_score(y_test, gLSTM30x50_tsproba)\n",
    "gLSTM30x50_fpr, gLSTM30x50_tpr, _ = roc_curve(y_test, gLSTM30x50_tsproba)\n",
    "\n",
    "# Displaying final model evaluation\n",
    "print('GloVe Word Embeddings - LSTM Text Classifier')\n",
    "print('---------------------------------------------------------')\n",
    "print('Classification Report: ')\n",
    "print('---------------------------------------------------------')\n",
    "print(gLSTM30x50_clr)\n",
    "print(gLSTM30x50_cfm)\n",
    "print('---------------------------------------------------------')\n",
    "print('Evaluation Results:')\n",
    "print('---------------------------------------------------------')\n",
    "print('Train Data Accuracy       : {:.03f}'.format(gLSTM30x50_tracc))\n",
    "print('Validation Data Accuracy  : {:.03f}'.format(gLSTM30x50_tvacc))\n",
    "print('Test Data Accuracy        : {:.03f}'.format(gLSTM30x50_tsacc))\n",
    "print('F1-Score                  : {:.03f}'.format(gLSTM30x50_f1))\n",
    "print('AUC Score                 : {:.03f}'.format(gLSTM30x50_auc))\n",
    "\n",
    "plt.figure(figsize=(27,6))\n",
    "# Plot Train and Validation Loss\n",
    "plt.subplot(131)\n",
    "plt.plot(gLSTM30x50_result['loss'])\n",
    "plt.plot(gLSTM30x50_result['val_loss'])\n",
    "plt.ylabel('loss')\n",
    "plt.xlabel('epoch')\n",
    "plt.title('Model Loss')\n",
    "plt.legend(['train', 'validation'], loc='upper left')\n",
    "# Plot Train and Validation Accuracy\n",
    "plt.subplot(132)\n",
    "plt.plot(gLSTM30x50_result['accuracy'])\n",
    "plt.plot(gLSTM30x50_result['val_accuracy'])\n",
    "plt.ylabel('accuracy')\n",
    "plt.xlabel('epoch')\n",
    "plt.title('Model Accuracy')\n",
    "plt.legend(['train', 'validation'], loc='upper left')\n",
    "# Plot of ROC Curve\n",
    "plt.subplot(133)\n",
    "plt.plot(gLSTM30x50_fpr,gLSTM30x50_tpr, color='blue')\n",
    "plt.plot([(0,0), (1,1)], linestyle=\"--\")\n",
    "plt.xlabel('False Positive Rate')\n",
    "plt.ylabel('True Positive Rate')\n",
    "plt.title('ROC Curve')\n",
    "plt.show()"
   ]
  },
  {
   "cell_type": "markdown",
   "metadata": {
    "id": "Ygup-PLYCngi"
   },
   "source": [
    "## iv. CNN-LSTM Text Classifier (GloVE)"
   ]
  },
  {
   "cell_type": "markdown",
   "metadata": {
    "id": "LTq5B_elAG5h"
   },
   "source": [
    "### iv.1 Model Architecture"
   ]
  },
  {
   "cell_type": "code",
   "execution_count": 104,
   "metadata": {
    "id": "p7oY-satCrBj"
   },
   "outputs": [
    {
     "name": "stdout",
     "output_type": "stream",
     "text": [
      "Model: \"GloVe_CNNLSTM_30x50\"\n",
      "_________________________________________________________________\n",
      "Layer (type)                 Output Shape              Param #   \n",
      "=================================================================\n",
      "input_19 (InputLayer)        [(None, 30, 50)]          0         \n",
      "_________________________________________________________________\n",
      "conv1d_28 (Conv1D)           (None, 30, 48)            7248      \n",
      "_________________________________________________________________\n",
      "max_pooling1d_28 (MaxPooling (None, 15, 48)            0         \n",
      "_________________________________________________________________\n",
      "dropout_38 (Dropout)         (None, 15, 48)            0         \n",
      "_________________________________________________________________\n",
      "conv1d_29 (Conv1D)           (None, 15, 64)            9280      \n",
      "_________________________________________________________________\n",
      "max_pooling1d_29 (MaxPooling (None, 7, 64)             0         \n",
      "_________________________________________________________________\n",
      "lstm_22 (LSTM)               (None, 7, 64)             33024     \n",
      "_________________________________________________________________\n",
      "lstm_23 (LSTM)               (None, 7, 64)             33024     \n",
      "_________________________________________________________________\n",
      "lstm_24 (LSTM)               (None, 64)                33024     \n",
      "_________________________________________________________________\n",
      "dense_80 (Dense)             (None, 32)                2080      \n",
      "_________________________________________________________________\n",
      "dense_81 (Dense)             (None, 16)                528       \n",
      "_________________________________________________________________\n",
      "dense_82 (Dense)             (None, 1)                 17        \n",
      "=================================================================\n",
      "Total params: 118,225\n",
      "Trainable params: 118,225\n",
      "Non-trainable params: 0\n",
      "_________________________________________________________________\n",
      "Path to model: dl_training/weights/GloVe_CNNLSTM_30x50.hdf5\n",
      "Path to log:   dl_training/log/GloVe_CNNLSTM_30x50.csv\n"
     ]
    }
   ],
   "source": [
    "# Initilization\n",
    "glove_emb_shape = X_train_vec_30x50[0].shape # Word Embeddings shape per sms\n",
    "loss_func       = 'binary_crossentropy'\n",
    "optmz           = optimizers.Adam(learning_rate=0.0001)\n",
    "modelname       = 'GloVe_CNNLSTM_30x50'\n",
    "\n",
    "# Define Model\n",
    "def glove_CNNLSTM_30x50():\n",
    "    ipt = Input(shape=glove_emb_shape)\n",
    "    x = Conv1D(48, 3, padding='same', activation='relu', kernel_regularizer=regularizers.l2(0.01))(ipt)\n",
    "    x = MaxPool1D(2)(x)\n",
    "    x = Dropout(0.25)(x)\n",
    "    x = Conv1D(64, 3, padding='same', activation='relu', kernel_regularizer=regularizers.l2(0.05))(x)\n",
    "    x = MaxPool1D(2)(x)\n",
    "    # x = Dropout(0.2)(x)\n",
    "    # x = Conv1D(64, 3, padding='same', activation='relu')(x)\n",
    "    # x = MaxPool1D(2)(x)\n",
    "    x = LSTM(64, return_sequences=True, dropout=0.2, kernel_regularizer=regularizers.l2(0.05))(x)\n",
    "    x = LSTM(64, return_sequences=True)(x)\n",
    "    x = LSTM(64)(x)\n",
    "    # x = Dense(64, activation='relu')(x)\n",
    "    x = Dense(32, activation='relu')(x)\n",
    "    x = Dense(16, activation='relu', kernel_regularizer=regularizers.l2(0.05))(x)\n",
    "    x = Dense(1, activation='sigmoid')(x)\n",
    "\n",
    "    model = Model(inputs=ipt, outputs=x, name=modelname)\n",
    "    \n",
    "    model.compile(loss      = loss_func,\n",
    "                  optimizer = optmz,\n",
    "                  metrics   = ['accuracy'])\n",
    "    \n",
    "    return model\n",
    "\n",
    "# Setup Model\n",
    "gCNNLSTM30x50     = glove_CNNLSTM_30x50()\n",
    "gCNNLSTM30x50_go  = glove_CNNLSTM_30x50() # For loading best model & predictions\n",
    "\n",
    "# Filepaths for callbacks\n",
    "weightfolderpath = 'dl_training/weights/'\n",
    "weightfilepath   = weightfolderpath + modelname + \".hdf5\"\n",
    "logfolderpath   = 'dl_training/log/'\n",
    "logfilepath     = logfolderpath + modelname + '.csv'\n",
    "\n",
    "# Checkpoint\n",
    "checkpoint      = ModelCheckpoint(weightfilepath, \n",
    "                                  monitor        = 'val_accuracy',\n",
    "                                  mode           = 'max',\n",
    "                                  save_best_only = True,\n",
    "                                  verbose        = 0)\n",
    "# Training Logger\n",
    "csv_logger      = CSVLogger(logfilepath)    \n",
    "\n",
    "# Model Callback Lists\n",
    "callbacks_list  = [checkpoint, csv_logger]                                    \n",
    "\n",
    "# Model Setup Summary\n",
    "gCNNLSTM30x50.summary()\n",
    "print(\"Path to model:\", weightfilepath)\n",
    "print(\"Path to log:  \", logfilepath)"
   ]
  },
  {
   "cell_type": "markdown",
   "metadata": {
    "id": "oB4p0N-WAS5-"
   },
   "source": [
    "### iv.2 Train Model"
   ]
  },
  {
   "cell_type": "code",
   "execution_count": 105,
   "metadata": {
    "id": "d6M4gNd93qfA"
   },
   "outputs": [
    {
     "name": "stdout",
     "output_type": "stream",
     "text": [
      "Epoch 1/40\n",
      "409/409 [==============================] - 8s 14ms/step - loss: 6.9308 - accuracy: 0.8397 - val_loss: 4.5173 - val_accuracy: 0.8390\n",
      "Epoch 2/40\n",
      "409/409 [==============================] - 5s 11ms/step - loss: 3.0758 - accuracy: 0.8903 - val_loss: 2.0135 - val_accuracy: 0.9566\n",
      "Epoch 3/40\n",
      "409/409 [==============================] - 5s 11ms/step - loss: 1.5015 - accuracy: 0.9427 - val_loss: 1.0881 - val_accuracy: 0.9498\n",
      "Epoch 4/40\n",
      "409/409 [==============================] - 4s 11ms/step - loss: 0.8710 - accuracy: 0.9535 - val_loss: 0.6950 - val_accuracy: 0.9623\n",
      "Epoch 5/40\n",
      "409/409 [==============================] - 4s 11ms/step - loss: 0.5957 - accuracy: 0.9557 - val_loss: 0.4905 - val_accuracy: 0.9669\n",
      "Epoch 6/40\n",
      "409/409 [==============================] - 4s 10ms/step - loss: 0.4476 - accuracy: 0.9594 - val_loss: 0.3904 - val_accuracy: 0.9600\n",
      "Epoch 7/40\n",
      "409/409 [==============================] - 4s 11ms/step - loss: 0.3654 - accuracy: 0.9581 - val_loss: 0.3222 - val_accuracy: 0.9669\n",
      "Epoch 8/40\n",
      "409/409 [==============================] - 4s 11ms/step - loss: 0.3024 - accuracy: 0.9643 - val_loss: 0.2764 - val_accuracy: 0.9703\n",
      "Epoch 9/40\n",
      "409/409 [==============================] - 5s 11ms/step - loss: 0.2710 - accuracy: 0.9628 - val_loss: 0.2449 - val_accuracy: 0.9692\n",
      "Epoch 10/40\n",
      "409/409 [==============================] - 4s 10ms/step - loss: 0.2352 - accuracy: 0.9679 - val_loss: 0.2319 - val_accuracy: 0.9646\n",
      "Epoch 11/40\n",
      "409/409 [==============================] - 5s 11ms/step - loss: 0.2153 - accuracy: 0.9684 - val_loss: 0.2270 - val_accuracy: 0.9658\n",
      "Epoch 12/40\n",
      "409/409 [==============================] - 5s 12ms/step - loss: 0.2051 - accuracy: 0.9670 - val_loss: 0.2058 - val_accuracy: 0.9715\n",
      "Epoch 13/40\n",
      "409/409 [==============================] - 4s 11ms/step - loss: 0.1877 - accuracy: 0.9723 - val_loss: 0.1897 - val_accuracy: 0.9703\n",
      "Epoch 14/40\n",
      "409/409 [==============================] - 4s 11ms/step - loss: 0.1740 - accuracy: 0.9733 - val_loss: 0.1883 - val_accuracy: 0.9680\n",
      "Epoch 15/40\n",
      "409/409 [==============================] - 5s 11ms/step - loss: 0.1657 - accuracy: 0.9745 - val_loss: 0.1823 - val_accuracy: 0.9726\n",
      "Epoch 16/40\n",
      "409/409 [==============================] - 4s 11ms/step - loss: 0.1590 - accuracy: 0.9775 - val_loss: 0.1736 - val_accuracy: 0.9726\n",
      "Epoch 17/40\n",
      "409/409 [==============================] - 4s 11ms/step - loss: 0.1522 - accuracy: 0.9799 - val_loss: 0.1755 - val_accuracy: 0.9726\n",
      "Epoch 18/40\n",
      "409/409 [==============================] - 4s 11ms/step - loss: 0.1403 - accuracy: 0.9824 - val_loss: 0.1765 - val_accuracy: 0.9703\n",
      "Epoch 19/40\n",
      "409/409 [==============================] - 4s 11ms/step - loss: 0.1344 - accuracy: 0.9826 - val_loss: 0.1626 - val_accuracy: 0.9749\n",
      "Epoch 20/40\n",
      "409/409 [==============================] - 4s 11ms/step - loss: 0.1332 - accuracy: 0.9807 - val_loss: 0.1612 - val_accuracy: 0.9737\n",
      "Epoch 21/40\n",
      "409/409 [==============================] - 4s 10ms/step - loss: 0.1283 - accuracy: 0.9836 - val_loss: 0.1566 - val_accuracy: 0.9715\n",
      "Epoch 22/40\n",
      "409/409 [==============================] - 4s 11ms/step - loss: 0.1173 - accuracy: 0.9863 - val_loss: 0.1577 - val_accuracy: 0.9749\n",
      "Epoch 23/40\n",
      "409/409 [==============================] - 4s 10ms/step - loss: 0.1141 - accuracy: 0.9870 - val_loss: 0.1530 - val_accuracy: 0.9737\n",
      "Epoch 24/40\n",
      "409/409 [==============================] - 4s 11ms/step - loss: 0.1087 - accuracy: 0.9885 - val_loss: 0.1613 - val_accuracy: 0.9749\n",
      "Epoch 25/40\n",
      "409/409 [==============================] - 4s 11ms/step - loss: 0.1078 - accuracy: 0.9868 - val_loss: 0.1635 - val_accuracy: 0.9726\n",
      "Epoch 26/40\n",
      "409/409 [==============================] - 4s 11ms/step - loss: 0.0994 - accuracy: 0.9905 - val_loss: 0.1622 - val_accuracy: 0.9737\n",
      "Epoch 27/40\n",
      "409/409 [==============================] - 4s 11ms/step - loss: 0.1021 - accuracy: 0.9882 - val_loss: 0.1454 - val_accuracy: 0.9726\n",
      "Epoch 28/40\n",
      "409/409 [==============================] - 4s 11ms/step - loss: 0.0999 - accuracy: 0.9878 - val_loss: 0.1527 - val_accuracy: 0.9737\n",
      "Epoch 29/40\n",
      "409/409 [==============================] - 4s 11ms/step - loss: 0.0951 - accuracy: 0.9900 - val_loss: 0.1444 - val_accuracy: 0.9715\n",
      "Epoch 30/40\n",
      "409/409 [==============================] - 5s 11ms/step - loss: 0.0874 - accuracy: 0.9914 - val_loss: 0.1434 - val_accuracy: 0.9726\n",
      "Epoch 31/40\n",
      "409/409 [==============================] - 4s 11ms/step - loss: 0.0923 - accuracy: 0.9897 - val_loss: 0.1645 - val_accuracy: 0.9737\n",
      "Epoch 32/40\n",
      "409/409 [==============================] - 4s 11ms/step - loss: 0.0887 - accuracy: 0.9909 - val_loss: 0.1501 - val_accuracy: 0.9749\n",
      "Epoch 33/40\n",
      "409/409 [==============================] - 4s 11ms/step - loss: 0.0918 - accuracy: 0.9885 - val_loss: 0.1492 - val_accuracy: 0.9726\n",
      "Epoch 34/40\n",
      "409/409 [==============================] - 4s 11ms/step - loss: 0.0833 - accuracy: 0.9919 - val_loss: 0.1486 - val_accuracy: 0.9749\n",
      "Epoch 35/40\n",
      "409/409 [==============================] - 4s 11ms/step - loss: 0.0834 - accuracy: 0.9907 - val_loss: 0.1439 - val_accuracy: 0.9726\n",
      "Epoch 36/40\n",
      "409/409 [==============================] - 4s 11ms/step - loss: 0.0892 - accuracy: 0.9892 - val_loss: 0.1344 - val_accuracy: 0.9726\n",
      "Epoch 37/40\n",
      "409/409 [==============================] - 4s 11ms/step - loss: 0.0809 - accuracy: 0.9919 - val_loss: 0.1538 - val_accuracy: 0.9749\n",
      "Epoch 38/40\n",
      "409/409 [==============================] - 4s 11ms/step - loss: 0.0765 - accuracy: 0.9934 - val_loss: 0.1334 - val_accuracy: 0.9760\n",
      "Epoch 39/40\n",
      "409/409 [==============================] - 4s 11ms/step - loss: 0.0775 - accuracy: 0.9919 - val_loss: 0.1720 - val_accuracy: 0.9715\n",
      "Epoch 40/40\n",
      "409/409 [==============================] - 4s 11ms/step - loss: 0.0829 - accuracy: 0.9905 - val_loss: 0.1265 - val_accuracy: 0.9772\n"
     ]
    }
   ],
   "source": [
    "# Train Model\n",
    "num_epoch = 40\n",
    "batchsize = 10\n",
    "\n",
    "gCNNLSTM30x50_fit = gCNNLSTM30x50.fit(x=X_train_vec_30x50, y=y_train, validation_data=(X_val_vec_30x50, y_val), epochs=num_epoch, batch_size=batchsize, shuffle=True, callbacks=callbacks_list)"
   ]
  },
  {
   "cell_type": "markdown",
   "metadata": {
    "id": "1PuqWg20AiPF"
   },
   "source": [
    "### iv.3 Save Model"
   ]
  },
  {
   "cell_type": "code",
   "execution_count": 106,
   "metadata": {
    "id": "OBtiBoV33qc0"
   },
   "outputs": [],
   "source": [
    "# Load Trained Model\n",
    "gCNNLSTM30x50_go.load_weights(weightfilepath)\n",
    "gCNNLSTM30x50_go.compile(loss      = loss_func, \n",
    "                      optimizer = optmz, \n",
    "                      metrics   = ['accuracy'])\n",
    "\n",
    "# Save Model Architecture and Weights to File\n",
    "modelfolderpath = 'dl_training/model/'\n",
    "modelfilepath   = modelfolderpath + modelname + \".hdf5\"\n",
    "gCNNLSTM30x50_go.save(modelfilepath)"
   ]
  },
  {
   "cell_type": "markdown",
   "metadata": {
    "id": "f4wxioEGBP6g"
   },
   "source": [
    "### iv.4 Model Evaluation"
   ]
  },
  {
   "cell_type": "code",
   "execution_count": 107,
   "metadata": {
    "id": "Oe57FzGJ3qaG"
   },
   "outputs": [
    {
     "name": "stdout",
     "output_type": "stream",
     "text": [
      "GloVe Word Embeddings - Dense Text Classifier\n",
      "---------------------------------------------------------\n",
      "Classification Report: \n",
      "---------------------------------------------------------\n",
      "              precision    recall  f1-score   support\n",
      "\n",
      "           0       0.99      0.98      0.99       736\n",
      "           1       0.92      0.93      0.92       140\n",
      "\n",
      "    accuracy                           0.97       876\n",
      "   macro avg       0.95      0.96      0.95       876\n",
      "weighted avg       0.98      0.97      0.97       876\n",
      "\n",
      "[[724  12]\n",
      " [ 10 130]]\n",
      "---------------------------------------------------------\n",
      "Evaluation Results:\n",
      "----------------------------------------------\n",
      "Train Data Accuracy       : 0.998\n",
      "Validation Data Accuracy  : 0.977\n",
      "Test Data Accuracy        : 0.975\n",
      "F1-Score                  : 0.922\n",
      "AUC Score                 : 0.992\n"
     ]
    },
    {
     "data": {
      "image/png": "[encoded data removed]",
      "text/plain": [
       "<Figure size 1944x432 with 3 Axes>"
      ]
     },
     "metadata": {
      "needs_background": "light"
     },
     "output_type": "display_data"
    }
   ],
   "source": [
    "# Model Evaluation\n",
    "gCNNLSTM30x50_result = pd.DataFrame(gCNNLSTM30x50_fit.history)\n",
    "\n",
    "# Accuracy Score & ROC Curve\n",
    "gCNNLSTM30x50_trproba = gCNNLSTM30x50_go.predict(X_train_vec_30x50).ravel()\n",
    "gCNNLSTM30x50_trpred = (gCNNLSTM30x50_trproba > 0.5) * 1\n",
    "gCNNLSTM30x50_tracc = accuracy_score(y_train, gCNNLSTM30x50_trpred)\n",
    "\n",
    "gCNNLSTM30x50_tvproba = gCNNLSTM30x50_go.predict(X_val_vec_30x50).ravel()\n",
    "gCNNLSTM30x50_tvpred = (gCNNLSTM30x50_tvproba > 0.5) * 1\n",
    "gCNNLSTM30x50_tvacc = accuracy_score(y_val, gCNNLSTM30x50_tvpred)\n",
    "\n",
    "gCNNLSTM30x50_tsproba = gCNNLSTM30x50_go.predict(X_test_vec_30x50).ravel()\n",
    "gCNNLSTM30x50_tspred = (gCNNLSTM30x50_tsproba > 0.5) * 1\n",
    "gCNNLSTM30x50_tsacc = accuracy_score(y_test, gCNNLSTM30x50_tspred)\n",
    "\n",
    "# Classification Report & Confusion Matrix\n",
    "gCNNLSTM30x50_clr = classification_report(y_test, gCNNLSTM30x50_tspred)\n",
    "gCNNLSTM30x50_cfm = confusion_matrix(y_test, gCNNLSTM30x50_tspred)\n",
    "\n",
    "# F1 Score & AUC Score\n",
    "gCNNLSTM30x50_f1 = f1_score(y_test, gCNNLSTM30x50_tspred)\n",
    "gCNNLSTM30x50_auc = roc_auc_score(y_test, gCNNLSTM30x50_tsproba)\n",
    "gCNNLSTM30x50_fpr, gCNNLSTM30x50_tpr, _ = roc_curve(y_test, gCNNLSTM30x50_tsproba)\n",
    "\n",
    "# Displaying final model evaluation\n",
    "print('GloVe Word Embeddings - Dense Text Classifier')\n",
    "print('---------------------------------------------------------')\n",
    "print('Classification Report: ')\n",
    "print('---------------------------------------------------------')\n",
    "print(gCNNLSTM30x50_clr)\n",
    "print(gCNNLSTM30x50_cfm)\n",
    "print('---------------------------------------------------------')\n",
    "print('Evaluation Results:')\n",
    "print('----------------------------------------------')\n",
    "print('Train Data Accuracy       : {:.03f}'.format(gCNNLSTM30x50_tracc))\n",
    "print('Validation Data Accuracy  : {:.03f}'.format(gCNNLSTM30x50_tvacc))\n",
    "print('Test Data Accuracy        : {:.03f}'.format(gCNNLSTM30x50_tsacc))\n",
    "print('F1-Score                  : {:.03f}'.format(gCNNLSTM30x50_f1))\n",
    "print('AUC Score                 : {:.03f}'.format(gCNNLSTM30x50_auc))\n",
    "\n",
    "plt.figure(figsize=(27,6))\n",
    "# Plot Train and Validation Loss\n",
    "plt.subplot(131)\n",
    "plt.plot(gCNNLSTM30x50_result['loss'])\n",
    "plt.plot(gCNNLSTM30x50_result['val_loss'])\n",
    "plt.ylabel('loss')\n",
    "plt.xlabel('epoch')\n",
    "plt.title('Model Loss')\n",
    "plt.legend(['train', 'validation'], loc='upper left')\n",
    "# Plot Train and Validation Accuracy\n",
    "plt.subplot(132)\n",
    "plt.plot(gCNNLSTM30x50_result['accuracy'])\n",
    "plt.plot(gCNNLSTM30x50_result['val_accuracy'])\n",
    "plt.ylabel('accuracy')\n",
    "plt.xlabel('epoch')\n",
    "plt.title('Model Accuracy')\n",
    "plt.legend(['train', 'validation'], loc='upper left')\n",
    "# Plot of ROC Curve\n",
    "plt.subplot(133)\n",
    "plt.plot(gCNNLSTM30x50_fpr,gCNNLSTM30x50_tpr, color='blue')\n",
    "plt.plot([(0,0), (1,1)], linestyle=\"--\")\n",
    "plt.xlabel('False Positive Rate')\n",
    "plt.ylabel('True Positive Rate')\n",
    "plt.title('ROC Curve')\n",
    "plt.show()"
   ]
  },
  {
   "cell_type": "markdown",
   "metadata": {
    "id": "jxNM-q77DN_P"
   },
   "source": [
    "# 3. Networks Using Trained Word Embeddings from Dataset"
   ]
  },
  {
   "cell_type": "markdown",
   "metadata": {
    "id": "GkcC6zOlDWMt"
   },
   "source": [
    "## i. Dense Classifier (Self-Trained)"
   ]
  },
  {
   "cell_type": "markdown",
   "metadata": {
    "id": "5tyjXh1DAIKQ"
   },
   "source": [
    "### i.1 Model Architecture"
   ]
  },
  {
   "cell_type": "code",
   "execution_count": 108,
   "metadata": {
    "id": "fCvR7YTrDVwS"
   },
   "outputs": [
    {
     "name": "stdout",
     "output_type": "stream",
     "text": [
      "Model: \"EmbTrain_Dense_30x30\"\n",
      "_________________________________________________________________\n",
      "Layer (type)                 Output Shape              Param #   \n",
      "=================================================================\n",
      "input_21 (InputLayer)        [(None, 30)]              0         \n",
      "_________________________________________________________________\n",
      "embedding_12 (Embedding)     (None, 30, 30)            191670    \n",
      "_________________________________________________________________\n",
      "flatten_12 (Flatten)         (None, 900)               0         \n",
      "_________________________________________________________________\n",
      "dense_86 (Dense)             (None, 512)               461312    \n",
      "_________________________________________________________________\n",
      "dropout_40 (Dropout)         (None, 512)               0         \n",
      "_________________________________________________________________\n",
      "dense_87 (Dense)             (None, 128)               65664     \n",
      "_________________________________________________________________\n",
      "dropout_41 (Dropout)         (None, 128)               0         \n",
      "_________________________________________________________________\n",
      "dense_88 (Dense)             (None, 32)                4128      \n",
      "_________________________________________________________________\n",
      "dropout_42 (Dropout)         (None, 32)                0         \n",
      "_________________________________________________________________\n",
      "dense_89 (Dense)             (None, 16)                528       \n",
      "_________________________________________________________________\n",
      "dense_90 (Dense)             (None, 1)                 17        \n",
      "=================================================================\n",
      "Total params: 723,319\n",
      "Trainable params: 723,319\n",
      "Non-trainable params: 0\n",
      "_________________________________________________________________\n",
      "Path to model: dl_training/weights/EmbTrain_Dense_30x30.hdf5\n",
      "Path to log:   dl_training/log/EmbTrain_Dense_30x30.csv\n"
     ]
    }
   ],
   "source": [
    "# Initilization\n",
    "train_idx_shape = X_train_30idx[0].shape # Dimension of Word Sequencing Index Vectors per sms\n",
    "loss_func       = 'binary_crossentropy'\n",
    "optmz           = optimizers.Adam(learning_rate=0.0002)\n",
    "modelname       = 'EmbTrain_Dense_30x30'\n",
    "vocab_size      = tk_size\n",
    "emb_dim         = 30\n",
    "\n",
    "# Define Model\n",
    "def etrain_dense_30x30():\n",
    "    ipt = Input(shape=train_idx_shape)\n",
    "    x = Embedding(vocab_size, output_dim=emb_dim)(ipt)\n",
    "    x = Flatten()(x)\n",
    "    # x = Dense(1024, activation='relu', kernel_regularizer=regularizers.l2(0.01))(x)\n",
    "    # x = Dropout(0.2)(x)\n",
    "    x = Dense(512, activation='relu', kernel_regularizer=regularizers.l2(0.1))(x)\n",
    "    x = Dropout(0.4)(x)\n",
    "    # x = Dense(256, activation='relu')(x)\n",
    "    # x = Dropout(0.3)(x)\n",
    "    x = Dense(128, activation='relu')(x)\n",
    "    x = Dropout(0.4)(x)\n",
    "    # x = Dense(64, activation='relu')(x)\n",
    "    # x = Dropout(0.3)(x)\n",
    "    x = Dense(32, activation='relu')(x)\n",
    "    x = Dropout(0.3)(x)\n",
    "    x = Dense(16, activation='relu')(x)\n",
    "    x = Dense(1, activation='sigmoid')(x)\n",
    "\n",
    "    model = Model(inputs=ipt, outputs=x, name=modelname)\n",
    "    \n",
    "    model.compile(loss      = loss_func,\n",
    "                  optimizer = optmz,\n",
    "                  metrics   = ['accuracy'])\n",
    "    \n",
    "    return model\n",
    "\n",
    "# Setup Model\n",
    "ed30x30     = etrain_dense_30x30()\n",
    "ed30x30_go  = etrain_dense_30x30() # For loading best model & predictions\n",
    "\n",
    "# Filepaths for callbacks\n",
    "weightfolderpath = 'dl_training/weights/'\n",
    "weightfilepath   = weightfolderpath + modelname + \".hdf5\"\n",
    "logfolderpath   = 'dl_training/log/'\n",
    "logfilepath     = logfolderpath + modelname + '.csv'\n",
    "\n",
    "# Checkpoint\n",
    "checkpoint      = ModelCheckpoint(weightfilepath, \n",
    "                                  monitor        = 'val_accuracy',\n",
    "                                  mode           = 'max',\n",
    "                                  save_best_only = True,\n",
    "                                  verbose        = 0)\n",
    "# Training Logger\n",
    "csv_logger      = CSVLogger(logfilepath)    \n",
    "\n",
    "# Model Callback Lists\n",
    "callbacks_list  = [checkpoint, csv_logger]                                     \n",
    "\n",
    "# Model Setup Summary\n",
    "ed30x30.summary()\n",
    "print(\"Path to model:\", weightfilepath)\n",
    "print(\"Path to log:  \", logfilepath)"
   ]
  },
  {
   "cell_type": "markdown",
   "metadata": {
    "id": "_IB62YRXAUgK"
   },
   "source": [
    "### i.2 Train Model"
   ]
  },
  {
   "cell_type": "code",
   "execution_count": 109,
   "metadata": {
    "id": "WJKU1PrIAU_7"
   },
   "outputs": [
    {
     "name": "stdout",
     "output_type": "stream",
     "text": [
      "Epoch 1/30\n",
      "82/82 [==============================] - 1s 8ms/step - loss: 45.8465 - accuracy: 0.8353 - val_loss: 29.5704 - val_accuracy: 0.8390\n",
      "Epoch 2/30\n",
      "82/82 [==============================] - 1s 6ms/step - loss: 20.1139 - accuracy: 0.8399 - val_loss: 12.5612 - val_accuracy: 0.8390\n",
      "Epoch 3/30\n",
      "82/82 [==============================] - 1s 6ms/step - loss: 8.3251 - accuracy: 0.8428 - val_loss: 5.0099 - val_accuracy: 0.9053\n",
      "Epoch 4/30\n",
      "82/82 [==============================] - 0s 6ms/step - loss: 3.2523 - accuracy: 0.9018 - val_loss: 1.9106 - val_accuracy: 0.9429\n",
      "Epoch 5/30\n",
      "82/82 [==============================] - 1s 6ms/step - loss: 1.2255 - accuracy: 0.9621 - val_loss: 0.7185 - val_accuracy: 0.9726\n",
      "Epoch 6/30\n",
      "82/82 [==============================] - 1s 6ms/step - loss: 0.4589 - accuracy: 0.9807 - val_loss: 0.2848 - val_accuracy: 0.9749\n",
      "Epoch 7/30\n",
      "82/82 [==============================] - 0s 6ms/step - loss: 0.1918 - accuracy: 0.9860 - val_loss: 0.1533 - val_accuracy: 0.9760\n",
      "Epoch 8/30\n",
      "82/82 [==============================] - 1s 6ms/step - loss: 0.1010 - accuracy: 0.9900 - val_loss: 0.1263 - val_accuracy: 0.9760\n",
      "Epoch 9/30\n",
      "82/82 [==============================] - 0s 6ms/step - loss: 0.0736 - accuracy: 0.9905 - val_loss: 0.1038 - val_accuracy: 0.9795\n",
      "Epoch 10/30\n",
      "82/82 [==============================] - 0s 6ms/step - loss: 0.0602 - accuracy: 0.9917 - val_loss: 0.0940 - val_accuracy: 0.9783\n",
      "Epoch 11/30\n",
      "82/82 [==============================] - 1s 6ms/step - loss: 0.0512 - accuracy: 0.9956 - val_loss: 0.0800 - val_accuracy: 0.9817\n",
      "Epoch 12/30\n",
      "82/82 [==============================] - 1s 7ms/step - loss: 0.0512 - accuracy: 0.9936 - val_loss: 0.0886 - val_accuracy: 0.9817\n",
      "Epoch 13/30\n",
      "82/82 [==============================] - 1s 6ms/step - loss: 0.0441 - accuracy: 0.9939 - val_loss: 0.1274 - val_accuracy: 0.9760\n",
      "Epoch 14/30\n",
      "82/82 [==============================] - 1s 6ms/step - loss: 0.0403 - accuracy: 0.9968 - val_loss: 0.0710 - val_accuracy: 0.9817\n",
      "Epoch 15/30\n",
      "82/82 [==============================] - 1s 7ms/step - loss: 0.0425 - accuracy: 0.9946 - val_loss: 0.0763 - val_accuracy: 0.9817\n",
      "Epoch 16/30\n",
      "82/82 [==============================] - 1s 6ms/step - loss: 0.0349 - accuracy: 0.9958 - val_loss: 0.0988 - val_accuracy: 0.9829\n",
      "Epoch 17/30\n",
      "82/82 [==============================] - 1s 7ms/step - loss: 0.0337 - accuracy: 0.9971 - val_loss: 0.0823 - val_accuracy: 0.9840\n",
      "Epoch 18/30\n",
      "82/82 [==============================] - 1s 6ms/step - loss: 0.0336 - accuracy: 0.9968 - val_loss: 0.1057 - val_accuracy: 0.9795\n",
      "Epoch 19/30\n",
      "82/82 [==============================] - 1s 6ms/step - loss: 0.0268 - accuracy: 0.9978 - val_loss: 0.1229 - val_accuracy: 0.9737\n",
      "Epoch 20/30\n",
      "82/82 [==============================] - 1s 6ms/step - loss: 0.0288 - accuracy: 0.9983 - val_loss: 0.0890 - val_accuracy: 0.9783\n",
      "Epoch 21/30\n",
      "82/82 [==============================] - 1s 6ms/step - loss: 0.0222 - accuracy: 0.9978 - val_loss: 0.1261 - val_accuracy: 0.9760\n",
      "Epoch 22/30\n",
      "82/82 [==============================] - 1s 6ms/step - loss: 0.0255 - accuracy: 0.9973 - val_loss: 0.0998 - val_accuracy: 0.9817\n",
      "Epoch 23/30\n",
      "82/82 [==============================] - 0s 6ms/step - loss: 0.0281 - accuracy: 0.9980 - val_loss: 0.0824 - val_accuracy: 0.9806\n",
      "Epoch 24/30\n",
      "82/82 [==============================] - 1s 7ms/step - loss: 0.0213 - accuracy: 0.9988 - val_loss: 0.0897 - val_accuracy: 0.9806\n",
      "Epoch 25/30\n",
      "82/82 [==============================] - 1s 7ms/step - loss: 0.0225 - accuracy: 0.9985 - val_loss: 0.1101 - val_accuracy: 0.9783\n",
      "Epoch 26/30\n",
      "82/82 [==============================] - 1s 7ms/step - loss: 0.0243 - accuracy: 0.9983 - val_loss: 0.0996 - val_accuracy: 0.9817\n",
      "Epoch 27/30\n",
      "82/82 [==============================] - 1s 7ms/step - loss: 0.0199 - accuracy: 0.9985 - val_loss: 0.0942 - val_accuracy: 0.9806\n",
      "Epoch 28/30\n",
      "82/82 [==============================] - 1s 6ms/step - loss: 0.0204 - accuracy: 0.9983 - val_loss: 0.1030 - val_accuracy: 0.9783\n",
      "Epoch 29/30\n",
      "82/82 [==============================] - 1s 6ms/step - loss: 0.0159 - accuracy: 0.9983 - val_loss: 0.1292 - val_accuracy: 0.9760\n",
      "Epoch 30/30\n",
      "82/82 [==============================] - 1s 6ms/step - loss: 0.0271 - accuracy: 0.9983 - val_loss: 0.1573 - val_accuracy: 0.9737\n"
     ]
    }
   ],
   "source": [
    "# Train Model\n",
    "num_epoch = 30\n",
    "batchsize = 50\n",
    "\n",
    "ed30x30_fit = ed30x30.fit(x=X_train_30idx, y=y_train, validation_data=(X_val_30idx, y_val), epochs=num_epoch, batch_size=batchsize, shuffle=True, callbacks=callbacks_list)"
   ]
  },
  {
   "cell_type": "markdown",
   "metadata": {
    "id": "gYhjHRkYBYZj"
   },
   "source": [
    "### i.3 Save Model"
   ]
  },
  {
   "cell_type": "code",
   "execution_count": 110,
   "metadata": {
    "id": "kzPka3m3Bac8"
   },
   "outputs": [],
   "source": [
    "# Load Weights of Trained Model\n",
    "ed30x30_go.load_weights(weightfilepath)\n",
    "ed30x30_go.compile(loss      = loss_func, \n",
    "                       optimizer = optmz, \n",
    "                       metrics   = ['accuracy'])\n",
    "\n",
    "\n",
    "# Save Model Architecture and Weights to File\n",
    "modelfolderpath = 'dl_training/model/'\n",
    "modelfilepath   = modelfolderpath + modelname + \".hdf5\"\n",
    "ed30x30_go.save(modelfilepath)"
   ]
  },
  {
   "cell_type": "markdown",
   "metadata": {
    "id": "olqHp2S3Bavh"
   },
   "source": [
    "### i.4 Model Evaluation"
   ]
  },
  {
   "cell_type": "code",
   "execution_count": 111,
   "metadata": {
    "id": "gtjxNXjABckZ"
   },
   "outputs": [
    {
     "name": "stdout",
     "output_type": "stream",
     "text": [
      "Self-Trained Word Embeddings - Dense Text Classifier\n",
      "---------------------------------------------------------\n",
      "Classification Report: \n",
      "---------------------------------------------------------\n",
      "              precision    recall  f1-score   support\n",
      "\n",
      "           0       0.98      0.99      0.99       736\n",
      "           1       0.95      0.91      0.93       140\n",
      "\n",
      "    accuracy                           0.98       876\n",
      "   macro avg       0.97      0.95      0.96       876\n",
      "weighted avg       0.98      0.98      0.98       876\n",
      "\n",
      "[[729   7]\n",
      " [ 12 128]]\n",
      "---------------------------------------------------------\n",
      "Evaluation Results:\n",
      "---------------------------------------------------------\n",
      "Train Data Accuracy       : 0.999\n",
      "Validation Data Accuracy  : 0.984\n",
      "Test Data Accuracy        : 0.978\n",
      "F1-Score                  : 0.931\n",
      "AUC Score                 : 0.991\n"
     ]
    },
    {
     "data": {
      "image/png": "[encoded data removed]",
      "text/plain": [
       "<Figure size 1944x432 with 3 Axes>"
      ]
     },
     "metadata": {
      "needs_background": "light"
     },
     "output_type": "display_data"
    }
   ],
   "source": [
    "# Model Evaluation\n",
    "ed30x30_result = pd.DataFrame(ed30x30_fit.history)\n",
    "\n",
    "# Accuracy Score\n",
    "ed30x30_trproba = ed30x30_go.predict(X_train_30idx).ravel()\n",
    "ed30x30_trpred = (ed30x30_trproba > 0.5) * 1\n",
    "ed30x30_tracc = accuracy_score(y_train, ed30x30_trpred)\n",
    "\n",
    "ed30x30_tvproba = ed30x30_go.predict(X_val_30idx).ravel()\n",
    "ed30x30_tvpred = (ed30x30_tvproba > 0.5) * 1\n",
    "ed30x30_tvacc = accuracy_score(y_val, ed30x30_tvpred)\n",
    "\n",
    "ed30x30_tsproba = ed30x30_go.predict(X_test_30idx).ravel()\n",
    "ed30x30_tspred = (ed30x30_tsproba > 0.5) * 1\n",
    "ed30x30_tsacc = accuracy_score(y_test, ed30x30_tspred)\n",
    "\n",
    "# Classification Report & Confusion Matrix\n",
    "ed30x30_clr = classification_report(y_test, ed30x30_tspred)\n",
    "ed30x30_cfm = confusion_matrix(y_test, ed30x30_tspred)\n",
    "\n",
    "# F1 Score & AUC Score\n",
    "ed30x30_f1 = f1_score(y_test, ed30x30_tspred)\n",
    "ed30x30_auc = roc_auc_score(y_test, ed30x30_tsproba)\n",
    "ed30x30_fpr, ed30x30_tpr, _ = roc_curve(y_test, ed30x30_tsproba)\n",
    "\n",
    "# Displaying final model evaluation\n",
    "print('Self-Trained Word Embeddings - Dense Text Classifier')\n",
    "print('---------------------------------------------------------')\n",
    "print('Classification Report: ')\n",
    "print('---------------------------------------------------------')\n",
    "print(ed30x30_clr)\n",
    "print(ed30x30_cfm)\n",
    "print('---------------------------------------------------------')\n",
    "print('Evaluation Results:')\n",
    "print('---------------------------------------------------------')\n",
    "print('Train Data Accuracy       : {:.03f}'.format(ed30x30_tracc))\n",
    "print('Validation Data Accuracy  : {:.03f}'.format(ed30x30_tvacc))\n",
    "print('Test Data Accuracy        : {:.03f}'.format(ed30x30_tsacc))\n",
    "print('F1-Score                  : {:.03f}'.format(ed30x30_f1))\n",
    "print('AUC Score                 : {:.03f}'.format(ed30x30_auc))\n",
    "\n",
    "plt.figure(figsize=(27,6))\n",
    "# Plot Train and Validation Loss\n",
    "plt.subplot(131)\n",
    "plt.plot(ed30x30_result['loss'])\n",
    "plt.plot(ed30x30_result['val_loss'])\n",
    "plt.ylabel('loss')\n",
    "plt.xlabel('epoch')\n",
    "plt.title('Model Loss')\n",
    "plt.legend(['train', 'validation'], loc='upper left')\n",
    "# Plot Train and Validation Accuracy\n",
    "plt.subplot(132)\n",
    "plt.plot(ed30x30_result['accuracy'])\n",
    "plt.plot(ed30x30_result['val_accuracy'])\n",
    "plt.ylabel('accuracy')\n",
    "plt.xlabel('epoch')\n",
    "plt.title('Model Accuracy')\n",
    "plt.legend(['train', 'validation'], loc='upper left')\n",
    "# Plot of ROC Curve\n",
    "plt.subplot(133)\n",
    "plt.plot(ed30x30_fpr,ed30x30_tpr, color='blue')\n",
    "plt.plot([(0,0), (1,1)], linestyle=\"--\")\n",
    "plt.xlabel('False Positive Rate')\n",
    "plt.ylabel('True Positive Rate')\n",
    "plt.title('ROC Curve')\n",
    "plt.show()"
   ]
  },
  {
   "cell_type": "markdown",
   "metadata": {
    "id": "qVia65TwDbYG"
   },
   "source": [
    "## ii. CNN Text Classifier (Self-Trained)"
   ]
  },
  {
   "cell_type": "markdown",
   "metadata": {
    "id": "rOuxUOReAIw9"
   },
   "source": [
    "### ii.1 Model Architecture"
   ]
  },
  {
   "cell_type": "code",
   "execution_count": 112,
   "metadata": {
    "id": "mwg_43KuDbnd"
   },
   "outputs": [
    {
     "name": "stdout",
     "output_type": "stream",
     "text": [
      "Model: \"EmbTrain_CNN_30x50\"\n",
      "_________________________________________________________________\n",
      "Layer (type)                 Output Shape              Param #   \n",
      "=================================================================\n",
      "input_23 (InputLayer)        [(None, 30)]              0         \n",
      "_________________________________________________________________\n",
      "embedding_14 (Embedding)     (None, 30, 50)            319450    \n",
      "_________________________________________________________________\n",
      "conv1d_32 (Conv1D)           (None, 28, 32)            4832      \n",
      "_________________________________________________________________\n",
      "max_pooling1d_32 (MaxPooling (None, 14, 32)            0         \n",
      "_________________________________________________________________\n",
      "dropout_46 (Dropout)         (None, 14, 32)            0         \n",
      "_________________________________________________________________\n",
      "conv1d_33 (Conv1D)           (None, 12, 48)            4656      \n",
      "_________________________________________________________________\n",
      "max_pooling1d_33 (MaxPooling (None, 6, 48)             0         \n",
      "_________________________________________________________________\n",
      "dropout_47 (Dropout)         (None, 6, 48)             0         \n",
      "_________________________________________________________________\n",
      "conv1d_34 (Conv1D)           (None, 4, 64)             9280      \n",
      "_________________________________________________________________\n",
      "max_pooling1d_34 (MaxPooling (None, 2, 64)             0         \n",
      "_________________________________________________________________\n",
      "flatten_14 (Flatten)         (None, 128)               0         \n",
      "_________________________________________________________________\n",
      "dense_96 (Dense)             (None, 96)                12384     \n",
      "_________________________________________________________________\n",
      "dropout_48 (Dropout)         (None, 96)                0         \n",
      "_________________________________________________________________\n",
      "dense_97 (Dense)             (None, 64)                6208      \n",
      "_________________________________________________________________\n",
      "dense_98 (Dense)             (None, 32)                2080      \n",
      "_________________________________________________________________\n",
      "dense_99 (Dense)             (None, 16)                528       \n",
      "_________________________________________________________________\n",
      "dense_100 (Dense)            (None, 1)                 17        \n",
      "=================================================================\n",
      "Total params: 359,435\n",
      "Trainable params: 359,435\n",
      "Non-trainable params: 0\n",
      "_________________________________________________________________\n",
      "Path to model: dl_training/weights/EmbTrain_CNN_30x50.hdf5\n",
      "Path to log:   dl_training/log/EmbTrain_CNN_30x50.csv\n"
     ]
    }
   ],
   "source": [
    "### Initilization\n",
    "train_idx_shape = X_train_30idx[0].shape # Dimension of Word Sequencing Index Vectors per sms\n",
    "loss_func       = 'binary_crossentropy'\n",
    "optmz           = optimizers.Adam(learning_rate=0.00015)\n",
    "modelname       = 'EmbTrain_CNN_30x50'\n",
    "vocab_size      = tk_size\n",
    "emb_dim         = 50\n",
    "\n",
    "# Define Model\n",
    "def etrain_CNN_30x50():\n",
    "    ipt = Input(shape=train_idx_shape)\n",
    "    x = Embedding(vocab_size, output_dim=emb_dim)(ipt)\n",
    "    x = Conv1D(32, 3, activation='relu', kernel_regularizer=regularizers.l2(0.01))(x)\n",
    "    x = MaxPool1D(2)(x)\n",
    "    x = Dropout(0.25)(x)\n",
    "    x = Conv1D(48, 3, activation='relu', kernel_regularizer=regularizers.l2(0.05))(x)\n",
    "    x = MaxPool1D(2)(x)\n",
    "    x = Dropout(0.25)(x)\n",
    "    x = Conv1D(64, 3, activation='relu', kernel_regularizer=regularizers.l2(0.05))(x)\n",
    "    x = MaxPool1D(2)(x)\n",
    "    x = Flatten()(x)\n",
    "    x = Dense(96, activation='relu')(x)\n",
    "    x = Dropout(0.1)(x)\n",
    "    x = Dense(64, activation='relu')(x)\n",
    "    x = Dense(32, activation='relu', kernel_regularizer=regularizers.l2(0.1))(x)\n",
    "    x = Dense(16, activation='relu', kernel_regularizer=regularizers.l2(0.15))(x)\n",
    "    x = Dense(1, activation='sigmoid')(x)\n",
    "\n",
    "    model = Model(inputs=ipt, outputs=x, name=modelname)\n",
    "    \n",
    "    model.compile(loss      = loss_func,\n",
    "                  optimizer = optmz,\n",
    "                  metrics   = ['accuracy'])\n",
    "    \n",
    "    return model\n",
    "\n",
    "# Setup Model\n",
    "eCNN30x50     = etrain_CNN_30x50()\n",
    "eCNN30x50_go  = etrain_CNN_30x50() # For loading best model & predictions\n",
    "\n",
    "# Filepaths for callbacks\n",
    "weightfolderpath = 'dl_training/weights/'\n",
    "weightfilepath   = weightfolderpath + modelname + \".hdf5\"\n",
    "logfolderpath   = 'dl_training/log/'\n",
    "logfilepath     = logfolderpath + modelname + '.csv'\n",
    "\n",
    "# Checkpoint\n",
    "checkpoint      = ModelCheckpoint(weightfilepath, \n",
    "                                  monitor        = 'val_accuracy',\n",
    "                                  mode           = 'max',\n",
    "                                  save_best_only = True,\n",
    "                                  verbose        = 0)\n",
    "# Training Logger\n",
    "csv_logger      = CSVLogger(logfilepath)    \n",
    "\n",
    "\n",
    "# Model Callback Lists\n",
    "callbacks_list  = [checkpoint, csv_logger]                                \n",
    "\n",
    "# Model Setup Summary\n",
    "eCNN30x50.summary()\n",
    "print(\"Path to model:\", weightfilepath)\n",
    "print(\"Path to log:  \", logfilepath)"
   ]
  },
  {
   "cell_type": "markdown",
   "metadata": {
    "id": "QUkMP7uoAVgB"
   },
   "source": [
    "### ii.2 Train Model"
   ]
  },
  {
   "cell_type": "code",
   "execution_count": 113,
   "metadata": {
    "id": "gKwQn0z7AV1S"
   },
   "outputs": [
    {
     "name": "stdout",
     "output_type": "stream",
     "text": [
      "Epoch 1/40\n",
      "409/409 [==============================] - 4s 9ms/step - loss: 8.8311 - accuracy: 0.8387 - val_loss: 5.6707 - val_accuracy: 0.8390\n",
      "Epoch 2/40\n",
      "409/409 [==============================] - 4s 9ms/step - loss: 3.9341 - accuracy: 0.8472 - val_loss: 2.6383 - val_accuracy: 0.8710\n",
      "Epoch 3/40\n",
      "409/409 [==============================] - 4s 9ms/step - loss: 1.8953 - accuracy: 0.9290 - val_loss: 1.3330 - val_accuracy: 0.9326\n",
      "Epoch 4/40\n",
      "409/409 [==============================] - 4s 9ms/step - loss: 0.9868 - accuracy: 0.9670 - val_loss: 0.7293 - val_accuracy: 0.9715\n",
      "Epoch 5/40\n",
      "409/409 [==============================] - 4s 9ms/step - loss: 0.5686 - accuracy: 0.9763 - val_loss: 0.4605 - val_accuracy: 0.9669\n",
      "Epoch 6/40\n",
      "409/409 [==============================] - 4s 9ms/step - loss: 0.3657 - accuracy: 0.9834 - val_loss: 0.3254 - val_accuracy: 0.9749\n",
      "Epoch 7/40\n",
      "409/409 [==============================] - 4s 10ms/step - loss: 0.2697 - accuracy: 0.9848 - val_loss: 0.2602 - val_accuracy: 0.9749\n",
      "Epoch 8/40\n",
      "409/409 [==============================] - 4s 9ms/step - loss: 0.2206 - accuracy: 0.9878 - val_loss: 0.2297 - val_accuracy: 0.9737\n",
      "Epoch 9/40\n",
      "409/409 [==============================] - 4s 9ms/step - loss: 0.1928 - accuracy: 0.9882 - val_loss: 0.2024 - val_accuracy: 0.9795\n",
      "Epoch 10/40\n",
      "409/409 [==============================] - 3s 8ms/step - loss: 0.1721 - accuracy: 0.9887 - val_loss: 0.1881 - val_accuracy: 0.9795\n",
      "Epoch 11/40\n",
      "409/409 [==============================] - 4s 9ms/step - loss: 0.1562 - accuracy: 0.9900 - val_loss: 0.1818 - val_accuracy: 0.9783\n",
      "Epoch 12/40\n",
      "409/409 [==============================] - 4s 9ms/step - loss: 0.1444 - accuracy: 0.9912 - val_loss: 0.1670 - val_accuracy: 0.9795\n",
      "Epoch 13/40\n",
      "409/409 [==============================] - 4s 9ms/step - loss: 0.1348 - accuracy: 0.9909 - val_loss: 0.1647 - val_accuracy: 0.9772\n",
      "Epoch 14/40\n",
      "409/409 [==============================] - 3s 8ms/step - loss: 0.1276 - accuracy: 0.9924 - val_loss: 0.1600 - val_accuracy: 0.9772\n",
      "Epoch 15/40\n",
      "409/409 [==============================] - 4s 9ms/step - loss: 0.1191 - accuracy: 0.9927 - val_loss: 0.1728 - val_accuracy: 0.9692\n",
      "Epoch 16/40\n",
      "409/409 [==============================] - 4s 9ms/step - loss: 0.1150 - accuracy: 0.9931 - val_loss: 0.1383 - val_accuracy: 0.9829\n",
      "Epoch 17/40\n",
      "409/409 [==============================] - 3s 8ms/step - loss: 0.1094 - accuracy: 0.9924 - val_loss: 0.1512 - val_accuracy: 0.9749\n",
      "Epoch 18/40\n",
      "409/409 [==============================] - 3s 8ms/step - loss: 0.1037 - accuracy: 0.9934 - val_loss: 0.1261 - val_accuracy: 0.9840\n",
      "Epoch 19/40\n",
      "409/409 [==============================] - 4s 10ms/step - loss: 0.0991 - accuracy: 0.9931 - val_loss: 0.1216 - val_accuracy: 0.9874\n",
      "Epoch 20/40\n",
      "409/409 [==============================] - 4s 10ms/step - loss: 0.0969 - accuracy: 0.9936 - val_loss: 0.1185 - val_accuracy: 0.9852\n",
      "Epoch 21/40\n",
      "409/409 [==============================] - 4s 10ms/step - loss: 0.0911 - accuracy: 0.9936 - val_loss: 0.1171 - val_accuracy: 0.9852\n",
      "Epoch 22/40\n",
      "409/409 [==============================] - 4s 10ms/step - loss: 0.0934 - accuracy: 0.9941 - val_loss: 0.1211 - val_accuracy: 0.9829\n",
      "Epoch 23/40\n",
      "409/409 [==============================] - 4s 10ms/step - loss: 0.0866 - accuracy: 0.9946 - val_loss: 0.1198 - val_accuracy: 0.9817\n",
      "Epoch 24/40\n",
      "409/409 [==============================] - 4s 10ms/step - loss: 0.0817 - accuracy: 0.9966 - val_loss: 0.1236 - val_accuracy: 0.9760\n",
      "Epoch 25/40\n",
      "409/409 [==============================] - 3s 8ms/step - loss: 0.0817 - accuracy: 0.9949 - val_loss: 0.1078 - val_accuracy: 0.9852\n",
      "Epoch 26/40\n",
      "409/409 [==============================] - 4s 9ms/step - loss: 0.0802 - accuracy: 0.9946 - val_loss: 0.1172 - val_accuracy: 0.9795\n",
      "Epoch 27/40\n",
      "409/409 [==============================] - 4s 10ms/step - loss: 0.0796 - accuracy: 0.9941 - val_loss: 0.1317 - val_accuracy: 0.9760\n",
      "Epoch 28/40\n",
      "409/409 [==============================] - 4s 9ms/step - loss: 0.0764 - accuracy: 0.9956 - val_loss: 0.1144 - val_accuracy: 0.9806\n",
      "Epoch 29/40\n",
      "409/409 [==============================] - 4s 9ms/step - loss: 0.0716 - accuracy: 0.9956 - val_loss: 0.1019 - val_accuracy: 0.9829\n",
      "Epoch 30/40\n",
      "409/409 [==============================] - 4s 9ms/step - loss: 0.0710 - accuracy: 0.9953 - val_loss: 0.1064 - val_accuracy: 0.9806\n",
      "Epoch 31/40\n",
      "409/409 [==============================] - 4s 9ms/step - loss: 0.0702 - accuracy: 0.9953 - val_loss: 0.1112 - val_accuracy: 0.9806\n",
      "Epoch 32/40\n",
      "409/409 [==============================] - 3s 8ms/step - loss: 0.0690 - accuracy: 0.9958 - val_loss: 0.1095 - val_accuracy: 0.9795\n",
      "Epoch 33/40\n",
      "409/409 [==============================] - 4s 9ms/step - loss: 0.0660 - accuracy: 0.9956 - val_loss: 0.1078 - val_accuracy: 0.9817\n",
      "Epoch 34/40\n",
      "409/409 [==============================] - 4s 9ms/step - loss: 0.0659 - accuracy: 0.9961 - val_loss: 0.0972 - val_accuracy: 0.9829\n",
      "Epoch 35/40\n",
      "409/409 [==============================] - 4s 9ms/step - loss: 0.0666 - accuracy: 0.9953 - val_loss: 0.1055 - val_accuracy: 0.9817\n",
      "Epoch 36/40\n",
      "409/409 [==============================] - 4s 9ms/step - loss: 0.0646 - accuracy: 0.9961 - val_loss: 0.1099 - val_accuracy: 0.9795\n",
      "Epoch 37/40\n",
      "409/409 [==============================] - 4s 10ms/step - loss: 0.0620 - accuracy: 0.9961 - val_loss: 0.1005 - val_accuracy: 0.9806\n",
      "Epoch 38/40\n",
      "409/409 [==============================] - 4s 9ms/step - loss: 0.0615 - accuracy: 0.9956 - val_loss: 0.1041 - val_accuracy: 0.9806\n",
      "Epoch 39/40\n",
      "409/409 [==============================] - 4s 9ms/step - loss: 0.0593 - accuracy: 0.9963 - val_loss: 0.0899 - val_accuracy: 0.9852\n",
      "Epoch 40/40\n",
      "409/409 [==============================] - 3s 8ms/step - loss: 0.0596 - accuracy: 0.9953 - val_loss: 0.0901 - val_accuracy: 0.9829\n"
     ]
    }
   ],
   "source": [
    "# Train Model\n",
    "num_epoch = 40\n",
    "batchsize = 10\n",
    "\n",
    "eCNN30x50_fit = eCNN30x50.fit(x=X_train_30idx, y=y_train, validation_data=(X_val_30idx, y_val), epochs=num_epoch, batch_size=batchsize, shuffle=True, callbacks=callbacks_list)"
   ]
  },
  {
   "cell_type": "markdown",
   "metadata": {
    "id": "ADfgySL3AjbO"
   },
   "source": [
    "### ii.3 Save Model"
   ]
  },
  {
   "cell_type": "code",
   "execution_count": 114,
   "metadata": {
    "id": "jgbp7TPwAjr8"
   },
   "outputs": [],
   "source": [
    "# Load Weights of Trained Model\n",
    "eCNN30x50_go.load_weights(weightfilepath)\n",
    "eCNN30x50_go.compile(loss      = loss_func, \n",
    "                       optimizer = optmz, \n",
    "                       metrics   = ['accuracy'])\n",
    "\n",
    "\n",
    "\n",
    "# Save Model Architecture and Weights to File\n",
    "modelfolderpath = 'dl_training/model/'\n",
    "modelfilepath   = modelfolderpath + modelname + \".hdf5\"\n",
    "eCNN30x50_go.save(modelfilepath)"
   ]
  },
  {
   "cell_type": "markdown",
   "metadata": {
    "id": "_jVqVo4lBhiN"
   },
   "source": [
    "### ii.4 Model Evaluation"
   ]
  },
  {
   "cell_type": "code",
   "execution_count": 115,
   "metadata": {
    "id": "6v_mEBdFBjd4"
   },
   "outputs": [
    {
     "name": "stdout",
     "output_type": "stream",
     "text": [
      "Self-Trained Word Embeddings - CNN Text Classifier\n",
      "---------------------------------------------------------\n",
      "Classification Report: \n",
      "---------------------------------------------------------\n",
      "              precision    recall  f1-score   support\n",
      "\n",
      "           0       0.99      0.99      0.99       736\n",
      "           1       0.94      0.95      0.95       140\n",
      "\n",
      "    accuracy                           0.98       876\n",
      "   macro avg       0.97      0.97      0.97       876\n",
      "weighted avg       0.98      0.98      0.98       876\n",
      "\n",
      "[[728   8]\n",
      " [  7 133]]\n",
      "---------------------------------------------------------\n",
      "Evaluation Results:\n",
      "---------------------------------------------------------\n",
      "Train Data Accuracy       : 0.996\n",
      "Validation Data Accuracy  : 0.987\n",
      "Test Data Accuracy        : 0.983\n",
      "F1-Score                  : 0.947\n",
      "AUC Score                 : 0.992\n"
     ]
    },
    {
     "data": {
      "image/png": "[encoded data removed]",
      "text/plain": [
       "<Figure size 1944x432 with 3 Axes>"
      ]
     },
     "metadata": {
      "needs_background": "light"
     },
     "output_type": "display_data"
    }
   ],
   "source": [
    "# Model Evaluation\n",
    "eCNN30x50_result = pd.DataFrame(eCNN30x50_fit.history)\n",
    "\n",
    "# Accuracy Score\n",
    "eCNN30x50_trproba = eCNN30x50_go.predict(X_train_30idx).ravel()\n",
    "eCNN30x50_trpred = (eCNN30x50_trproba > 0.5) * 1\n",
    "eCNN30x50_tracc = accuracy_score(y_train, eCNN30x50_trpred)\n",
    "\n",
    "eCNN30x50_tvproba = eCNN30x50_go.predict(X_val_30idx).ravel()\n",
    "eCNN30x50_tvpred = (eCNN30x50_tvproba > 0.5) * 1\n",
    "eCNN30x50_tvacc = accuracy_score(y_val, eCNN30x50_tvpred)\n",
    "\n",
    "\n",
    "eCNN30x50_tsproba = eCNN30x50_go.predict(X_test_30idx).ravel()\n",
    "eCNN30x50_tspred = (eCNN30x50_tsproba > 0.5) * 1\n",
    "eCNN30x50_tsacc = accuracy_score(y_test, eCNN30x50_tspred)\n",
    "\n",
    "# Classification Report & Confusion Matrix\n",
    "eCNN30x50_clr = classification_report(y_test, eCNN30x50_tspred)\n",
    "eCNN30x50_cfm = confusion_matrix(y_test, eCNN30x50_tspred)\n",
    "\n",
    "# F1 Score & AUC Score\n",
    "eCNN30x50_f1 = f1_score(y_test, eCNN30x50_tspred)\n",
    "eCNN30x50_auc = roc_auc_score(y_test, eCNN30x50_tsproba)\n",
    "eCNN30x50_fpr, eCNN30x50_tpr, _ = roc_curve(y_test, eCNN30x50_tsproba)\n",
    "\n",
    "# Displaying final model evaluation\n",
    "print('Self-Trained Word Embeddings - CNN Text Classifier')\n",
    "print('---------------------------------------------------------')\n",
    "print('Classification Report: ')\n",
    "print('---------------------------------------------------------')\n",
    "print(eCNN30x50_clr)\n",
    "print(eCNN30x50_cfm)\n",
    "print('---------------------------------------------------------')\n",
    "print('Evaluation Results:')\n",
    "print('---------------------------------------------------------')\n",
    "print('Train Data Accuracy       : {:.03f}'.format(eCNN30x50_tracc))\n",
    "print('Validation Data Accuracy  : {:.03f}'.format(eCNN30x50_tvacc))\n",
    "print('Test Data Accuracy        : {:.03f}'.format(eCNN30x50_tsacc))\n",
    "print('F1-Score                  : {:.03f}'.format(eCNN30x50_f1))\n",
    "print('AUC Score                 : {:.03f}'.format(eCNN30x50_auc))\n",
    "\n",
    "plt.figure(figsize=(27,6))\n",
    "# Plot Train and Validation Loss\n",
    "plt.subplot(131)\n",
    "plt.plot(eCNN30x50_result['loss'])\n",
    "plt.plot(eCNN30x50_result['val_loss'])\n",
    "plt.ylabel('loss')\n",
    "plt.xlabel('epoch')\n",
    "plt.title('Model Loss')\n",
    "plt.legend(['train', 'validation'], loc='upper left')\n",
    "# Plot Train and Validation Accuracy\n",
    "plt.subplot(132)\n",
    "plt.plot(eCNN30x50_result['accuracy'])\n",
    "plt.plot(eCNN30x50_result['val_accuracy'])\n",
    "plt.ylabel('accuracy')\n",
    "plt.xlabel('epoch')\n",
    "plt.title('Model Accuracy')\n",
    "plt.legend(['train', 'validation'], loc='upper left')\n",
    "# Plot of ROC Curve\n",
    "plt.subplot(133)\n",
    "plt.plot(eCNN30x50_fpr,eCNN30x50_tpr, color='blue')\n",
    "plt.plot([(0,0), (1,1)], linestyle=\"--\")\n",
    "plt.xlabel('False Positive Rate')\n",
    "plt.ylabel('True Positive Rate')\n",
    "plt.title('ROC Curve')\n",
    "plt.show()"
   ]
  },
  {
   "cell_type": "markdown",
   "metadata": {
    "id": "xfnWUlWDDegl"
   },
   "source": [
    "## iii. LSTM Text Classifier (Self-Trained)"
   ]
  },
  {
   "cell_type": "markdown",
   "metadata": {
    "id": "3dGKNrsmAJJy"
   },
   "source": [
    "### iii.1 Model Architecture"
   ]
  },
  {
   "cell_type": "code",
   "execution_count": 116,
   "metadata": {
    "id": "wQw6NNg6DhcT"
   },
   "outputs": [
    {
     "name": "stdout",
     "output_type": "stream",
     "text": [
      "Model: \"EmbTrain_LSTM_30x50\"\n",
      "_________________________________________________________________\n",
      "Layer (type)                 Output Shape              Param #   \n",
      "=================================================================\n",
      "input_25 (InputLayer)        [(None, 30)]              0         \n",
      "_________________________________________________________________\n",
      "embedding_16 (Embedding)     (None, 30, 50)            319450    \n",
      "_________________________________________________________________\n",
      "lstm_28 (LSTM)               (None, 30, 48)            19008     \n",
      "_________________________________________________________________\n",
      "lstm_29 (LSTM)               (None, 30, 48)            18624     \n",
      "_________________________________________________________________\n",
      "lstm_30 (LSTM)               (None, 30, 64)            28928     \n",
      "_________________________________________________________________\n",
      "lstm_31 (LSTM)               (None, 64)                33024     \n",
      "_________________________________________________________________\n",
      "dense_106 (Dense)            (None, 48)                3120      \n",
      "_________________________________________________________________\n",
      "dropout_52 (Dropout)         (None, 48)                0         \n",
      "_________________________________________________________________\n",
      "dense_107 (Dense)            (None, 24)                1176      \n",
      "_________________________________________________________________\n",
      "dense_108 (Dense)            (None, 1)                 25        \n",
      "=================================================================\n",
      "Total params: 423,355\n",
      "Trainable params: 423,355\n",
      "Non-trainable params: 0\n",
      "_________________________________________________________________\n",
      "Path to model: dl_training/weights/EmbTrain_LSTM_30x50.hdf5\n",
      "Path to log:   dl_training/log/EmbTrain_LSTM_30x50.csv\n"
     ]
    }
   ],
   "source": [
    "### Initilization\n",
    "train_idx_shape = X_train_30idx[0].shape # Dimension of Word Sequencing Index Vectors per sms\n",
    "loss_func       = 'binary_crossentropy'\n",
    "optmz           = optimizers.Adam(learning_rate=0.00004)\n",
    "modelname       = 'EmbTrain_LSTM_30x50'\n",
    "vocab_size      = tk_size\n",
    "emb_dim         = 50\n",
    "\n",
    "# Define Model\n",
    "def etrain_LSTM_30x50():\n",
    "    ipt = Input(shape=train_idx_shape)\n",
    "    x = Embedding(vocab_size, output_dim=emb_dim)(ipt)\n",
    "    x = LSTM(48, return_sequences=True, dropout=0.3, kernel_regularizer=regularizers.l2(0.1))(x)\n",
    "    x = LSTM(48, return_sequences=True, dropout=0.3, kernel_regularizer=regularizers.l2(0.05))(x)\n",
    "    # x = LSTM(64, return_sequences=True, dropout=0.3, kernel_regularizer=regularizers.l2(0.05))(x)\n",
    "    x = LSTM(64, return_sequences=True)(x)\n",
    "    x = LSTM(64, dropout=0.3)(x)\n",
    "    # x = Dropout(0.3)(x)\n",
    "    # x = Dense(64, activation='relu')(x)\n",
    "    # x = Dropout(0.3)(x)\n",
    "    x = Dense(48, activation='relu')(x)\n",
    "    x = Dropout(0.3)(x)\n",
    "    # x = Dense(24, activation='relu')(x)\n",
    "    x = Dense(24, activation='relu')(x)\n",
    "    # x = Dense(8, activation='relu')(x)\n",
    "    x = Dense(1, activation='sigmoid')(x)\n",
    "\n",
    "    model = Model(inputs=ipt, outputs=x, name=modelname)\n",
    "    \n",
    "    model.compile(loss      = loss_func,\n",
    "                  optimizer = optmz,\n",
    "                  metrics   = ['accuracy'])\n",
    "    \n",
    "    return model\n",
    "\n",
    "# Setup Model\n",
    "eLSTM30x50     = etrain_LSTM_30x50()\n",
    "eLSTM30x50_go  = etrain_LSTM_30x50() # For loading best model & predictions\n",
    "\n",
    "# Filepaths for callbacks\n",
    "weightfolderpath = 'dl_training/weights/'\n",
    "weightfilepath   = weightfolderpath + modelname + \".hdf5\"\n",
    "logfolderpath   = 'dl_training/log/'\n",
    "logfilepath     = logfolderpath + modelname + '.csv'\n",
    "\n",
    "# Checkpoint\n",
    "checkpoint      = ModelCheckpoint(weightfilepath, \n",
    "                                  monitor        = 'val_accuracy',\n",
    "                                  mode           = 'max',\n",
    "                                  save_best_only = True,\n",
    "                                  verbose        = 0)\n",
    "# Training Logger\n",
    "csv_logger      = CSVLogger(logfilepath)    \n",
    "\n",
    "# Model Callback Lists\n",
    "callbacks_list  = [checkpoint, csv_logger]                                     \n",
    "\n",
    "# Model Setup Summary\n",
    "eLSTM30x50.summary()\n",
    "print(\"Path to model:\", weightfilepath)\n",
    "print(\"Path to log:  \", logfilepath)"
   ]
  },
  {
   "cell_type": "markdown",
   "metadata": {
    "id": "juHAxS2NAkIs"
   },
   "source": [
    "### iii.2 Train Model"
   ]
  },
  {
   "cell_type": "code",
   "execution_count": 117,
   "metadata": {
    "id": "En0-m00eAkam"
   },
   "outputs": [
    {
     "name": "stdout",
     "output_type": "stream",
     "text": [
      "Epoch 1/40\n",
      "409/409 [==============================] - 10s 17ms/step - loss: 10.6017 - accuracy: 0.8357 - val_loss: 8.9071 - val_accuracy: 0.8390\n",
      "Epoch 2/40\n",
      "409/409 [==============================] - 6s 14ms/step - loss: 7.6096 - accuracy: 0.8974 - val_loss: 6.4409 - val_accuracy: 0.9646\n",
      "Epoch 3/40\n",
      "409/409 [==============================] - 6s 14ms/step - loss: 5.4967 - accuracy: 0.9689 - val_loss: 4.6332 - val_accuracy: 0.9737\n",
      "Epoch 4/40\n",
      "409/409 [==============================] - 6s 14ms/step - loss: 3.9196 - accuracy: 0.9770 - val_loss: 3.3025 - val_accuracy: 0.9749\n",
      "Epoch 5/40\n",
      "409/409 [==============================] - 6s 14ms/step - loss: 2.7744 - accuracy: 0.9792 - val_loss: 2.3480 - val_accuracy: 0.9726\n",
      "Epoch 6/40\n",
      "409/409 [==============================] - 6s 14ms/step - loss: 1.9372 - accuracy: 0.9851 - val_loss: 1.6370 - val_accuracy: 0.9749\n",
      "Epoch 7/40\n",
      "409/409 [==============================] - 6s 15ms/step - loss: 1.3307 - accuracy: 0.9897 - val_loss: 1.1295 - val_accuracy: 0.9783\n",
      "Epoch 8/40\n",
      "409/409 [==============================] - 6s 14ms/step - loss: 0.9086 - accuracy: 0.9885 - val_loss: 0.7735 - val_accuracy: 0.9806\n",
      "Epoch 9/40\n",
      "409/409 [==============================] - 6s 15ms/step - loss: 0.6114 - accuracy: 0.9924 - val_loss: 0.5268 - val_accuracy: 0.9817\n",
      "Epoch 10/40\n",
      "409/409 [==============================] - 6s 14ms/step - loss: 0.4112 - accuracy: 0.9949 - val_loss: 0.3848 - val_accuracy: 0.9783\n",
      "Epoch 11/40\n",
      "409/409 [==============================] - 6s 14ms/step - loss: 0.2816 - accuracy: 0.9924 - val_loss: 0.2757 - val_accuracy: 0.9840\n",
      "Epoch 12/40\n",
      "409/409 [==============================] - 6s 14ms/step - loss: 0.2098 - accuracy: 0.9931 - val_loss: 0.2434 - val_accuracy: 0.9749\n",
      "Epoch 13/40\n",
      "409/409 [==============================] - 6s 14ms/step - loss: 0.1521 - accuracy: 0.9961 - val_loss: 0.1912 - val_accuracy: 0.9795\n",
      "Epoch 14/40\n",
      "409/409 [==============================] - 6s 14ms/step - loss: 0.1244 - accuracy: 0.9956 - val_loss: 0.1544 - val_accuracy: 0.9840\n",
      "Epoch 15/40\n",
      "409/409 [==============================] - 6s 14ms/step - loss: 0.1019 - accuracy: 0.9963 - val_loss: 0.1452 - val_accuracy: 0.9840\n",
      "Epoch 16/40\n",
      "409/409 [==============================] - 6s 14ms/step - loss: 0.0866 - accuracy: 0.9961 - val_loss: 0.1596 - val_accuracy: 0.9760\n",
      "Epoch 17/40\n",
      "409/409 [==============================] - 6s 14ms/step - loss: 0.0786 - accuracy: 0.9951 - val_loss: 0.1412 - val_accuracy: 0.9795\n",
      "Epoch 18/40\n",
      "409/409 [==============================] - 6s 15ms/step - loss: 0.0691 - accuracy: 0.9958 - val_loss: 0.1622 - val_accuracy: 0.9749\n",
      "Epoch 19/40\n",
      "409/409 [==============================] - 6s 15ms/step - loss: 0.0639 - accuracy: 0.9963 - val_loss: 0.1217 - val_accuracy: 0.9840\n",
      "Epoch 20/40\n",
      "409/409 [==============================] - 6s 14ms/step - loss: 0.0597 - accuracy: 0.9961 - val_loss: 0.1201 - val_accuracy: 0.9795\n",
      "Epoch 21/40\n",
      "409/409 [==============================] - 6s 14ms/step - loss: 0.0517 - accuracy: 0.9980 - val_loss: 0.1178 - val_accuracy: 0.9817\n",
      "Epoch 22/40\n",
      "409/409 [==============================] - 6s 14ms/step - loss: 0.0471 - accuracy: 0.9968 - val_loss: 0.1602 - val_accuracy: 0.9737\n",
      "Epoch 23/40\n",
      "409/409 [==============================] - 6s 14ms/step - loss: 0.0438 - accuracy: 0.9971 - val_loss: 0.1334 - val_accuracy: 0.9772\n",
      "Epoch 24/40\n",
      "409/409 [==============================] - 6s 14ms/step - loss: 0.0398 - accuracy: 0.9976 - val_loss: 0.1428 - val_accuracy: 0.9760\n",
      "Epoch 25/40\n",
      "409/409 [==============================] - 6s 14ms/step - loss: 0.0347 - accuracy: 0.9983 - val_loss: 0.1308 - val_accuracy: 0.9783\n",
      "Epoch 26/40\n",
      "409/409 [==============================] - 5s 13ms/step - loss: 0.0361 - accuracy: 0.9973 - val_loss: 0.1233 - val_accuracy: 0.9806\n",
      "Epoch 27/40\n",
      "409/409 [==============================] - 5s 13ms/step - loss: 0.0313 - accuracy: 0.9983 - val_loss: 0.1306 - val_accuracy: 0.9783\n",
      "Epoch 28/40\n",
      "409/409 [==============================] - 6s 14ms/step - loss: 0.0305 - accuracy: 0.9966 - val_loss: 0.1281 - val_accuracy: 0.9806\n",
      "Epoch 29/40\n",
      "409/409 [==============================] - 6s 15ms/step - loss: 0.0245 - accuracy: 0.9988 - val_loss: 0.1447 - val_accuracy: 0.9795\n",
      "Epoch 30/40\n",
      "409/409 [==============================] - 5s 13ms/step - loss: 0.0282 - accuracy: 0.9978 - val_loss: 0.1383 - val_accuracy: 0.9795\n",
      "Epoch 31/40\n",
      "409/409 [==============================] - 5s 13ms/step - loss: 0.0210 - accuracy: 0.9990 - val_loss: 0.1737 - val_accuracy: 0.9760\n",
      "Epoch 32/40\n",
      "409/409 [==============================] - 5s 13ms/step - loss: 0.0206 - accuracy: 0.9988 - val_loss: 0.1396 - val_accuracy: 0.9806\n",
      "Epoch 33/40\n",
      "409/409 [==============================] - 5s 13ms/step - loss: 0.0180 - accuracy: 0.9993 - val_loss: 0.1414 - val_accuracy: 0.9795\n",
      "Epoch 34/40\n",
      "409/409 [==============================] - 5s 13ms/step - loss: 0.0197 - accuracy: 0.9978 - val_loss: 0.1213 - val_accuracy: 0.9806\n",
      "Epoch 35/40\n",
      "409/409 [==============================] - 5s 13ms/step - loss: 0.0181 - accuracy: 0.9988 - val_loss: 0.2602 - val_accuracy: 0.9635\n",
      "Epoch 36/40\n",
      "409/409 [==============================] - 5s 13ms/step - loss: 0.0144 - accuracy: 0.9995 - val_loss: 0.1533 - val_accuracy: 0.9795\n",
      "Epoch 37/40\n",
      "409/409 [==============================] - 5s 13ms/step - loss: 0.0140 - accuracy: 0.9993 - val_loss: 0.1353 - val_accuracy: 0.9840\n",
      "Epoch 38/40\n",
      "409/409 [==============================] - 5s 13ms/step - loss: 0.0155 - accuracy: 0.9988 - val_loss: 0.1478 - val_accuracy: 0.9783\n",
      "Epoch 39/40\n",
      "409/409 [==============================] - 5s 13ms/step - loss: 0.0114 - accuracy: 0.9995 - val_loss: 0.1525 - val_accuracy: 0.9806\n",
      "Epoch 40/40\n",
      "409/409 [==============================] - 5s 13ms/step - loss: 0.0157 - accuracy: 0.9976 - val_loss: 0.1407 - val_accuracy: 0.9817\n"
     ]
    }
   ],
   "source": [
    "# Train Model\n",
    "num_epoch = 40\n",
    "batchsize = 10\n",
    "\n",
    "eLSTM30x50_fit = eLSTM30x50.fit(x=X_train_30idx, y=y_train, validation_data=(X_val_30idx, y_val), epochs=num_epoch, batch_size=batchsize, shuffle=True, callbacks=callbacks_list)"
   ]
  },
  {
   "cell_type": "markdown",
   "metadata": {
    "id": "jennuOGWAWWj"
   },
   "source": [
    "### iii.3 Save Model"
   ]
  },
  {
   "cell_type": "code",
   "execution_count": 118,
   "metadata": {
    "id": "L3iyRvJTAWog"
   },
   "outputs": [],
   "source": [
    "# Load Weights of Trained Model\n",
    "eLSTM30x50_go.load_weights(weightfilepath)\n",
    "eLSTM30x50_go.compile(loss      = loss_func, \n",
    "                       optimizer = optmz, \n",
    "                       metrics   = ['accuracy'])\n",
    "\n",
    "\n",
    "\n",
    "# Save Model Architecture and Weights to File\n",
    "modelfolderpath = 'dl_training/model/'\n",
    "modelfilepath   = modelfolderpath + modelname + \".hdf5\"\n",
    "eLSTM30x50_go.save(modelfilepath)"
   ]
  },
  {
   "cell_type": "markdown",
   "metadata": {
    "id": "Df_qXiLAAkvH"
   },
   "source": [
    "### iii.4 Model Evaluation"
   ]
  },
  {
   "cell_type": "code",
   "execution_count": 119,
   "metadata": {
    "id": "lqkC5OFPBoor"
   },
   "outputs": [
    {
     "name": "stdout",
     "output_type": "stream",
     "text": [
      "Self-Trained Word Embeddings - LSTM Text Classifier\n",
      "---------------------------------------------------------\n",
      "Classification Report: \n",
      "---------------------------------------------------------\n",
      "              precision    recall  f1-score   support\n",
      "\n",
      "           0       0.98      0.99      0.98       736\n",
      "           1       0.93      0.90      0.92       140\n",
      "\n",
      "    accuracy                           0.97       876\n",
      "   macro avg       0.96      0.94      0.95       876\n",
      "weighted avg       0.97      0.97      0.97       876\n",
      "\n",
      "[[727   9]\n",
      " [ 14 126]]\n",
      "---------------------------------------------------------\n",
      "Evaluation Results:\n",
      "---------------------------------------------------------\n",
      "Train Data Accuracy       : 0.996\n",
      "Validation Data Accuracy  : 0.984\n",
      "Test Data Accuracy        : 0.974\n",
      "F1-Score                  : 0.916\n",
      "AUC Score                 : 0.991\n"
     ]
    },
    {
     "data": {
      "image/png": "[encoded data removed]",
      "text/plain": [
       "<Figure size 1944x432 with 3 Axes>"
      ]
     },
     "metadata": {
      "needs_background": "light"
     },
     "output_type": "display_data"
    }
   ],
   "source": [
    "# Model Evaluation\n",
    "eLSTM30x50_result = pd.DataFrame(eLSTM30x50_fit.history)\n",
    "\n",
    "# Accuracy Score\n",
    "eLSTM30x50_trproba = eLSTM30x50_go.predict(X_train_30idx).ravel()\n",
    "eLSTM30x50_trpred = (eLSTM30x50_trproba > 0.5) * 1\n",
    "eLSTM30x50_tracc = accuracy_score(y_train, eLSTM30x50_trpred)\n",
    "\n",
    "eLSTM30x50_tvproba = eLSTM30x50_go.predict(X_val_30idx).ravel()\n",
    "eLSTM30x50_tvpred = (eLSTM30x50_tvproba > 0.5) * 1\n",
    "eLSTM30x50_tvacc = accuracy_score(y_val, eLSTM30x50_tvpred)\n",
    "\n",
    "\n",
    "eLSTM30x50_tsproba = eLSTM30x50_go.predict(X_test_30idx).ravel()\n",
    "eLSTM30x50_tspred = (eLSTM30x50_tsproba > 0.5) * 1\n",
    "eLSTM30x50_tsacc = accuracy_score(y_test, eLSTM30x50_tspred)\n",
    "\n",
    "# Classification Report & Confusion Matrix\n",
    "eLSTM30x50_clr = classification_report(y_test, eLSTM30x50_tspred)\n",
    "eLSTM30x50_cfm = confusion_matrix(y_test, eLSTM30x50_tspred)\n",
    "\n",
    "# F1 Score & AUC Score\n",
    "eLSTM30x50_f1 = f1_score(y_test, eLSTM30x50_tspred)\n",
    "eLSTM30x50_auc = roc_auc_score(y_test, eLSTM30x50_tsproba)\n",
    "eLSTM30x50_fpr, eLSTM30x50_tpr, _ = roc_curve(y_test, eLSTM30x50_tsproba)\n",
    "\n",
    "# Displaying final model evaluation\n",
    "print('Self-Trained Word Embeddings - LSTM Text Classifier')\n",
    "print('---------------------------------------------------------')\n",
    "print('Classification Report: ')\n",
    "print('---------------------------------------------------------')\n",
    "print(eLSTM30x50_clr)\n",
    "print(eLSTM30x50_cfm)\n",
    "print('---------------------------------------------------------')\n",
    "print('Evaluation Results:')\n",
    "print('---------------------------------------------------------')\n",
    "print('Train Data Accuracy       : {:.03f}'.format(eLSTM30x50_tracc))\n",
    "print('Validation Data Accuracy  : {:.03f}'.format(eLSTM30x50_tvacc))\n",
    "print('Test Data Accuracy        : {:.03f}'.format(eLSTM30x50_tsacc))\n",
    "print('F1-Score                  : {:.03f}'.format(eLSTM30x50_f1))\n",
    "print('AUC Score                 : {:.03f}'.format(eLSTM30x50_auc))\n",
    "\n",
    "plt.figure(figsize=(27,6))\n",
    "# Plot Train and Validation Loss\n",
    "plt.subplot(131)\n",
    "plt.plot(eLSTM30x50_result['loss'])\n",
    "plt.plot(eLSTM30x50_result['val_loss'])\n",
    "plt.ylabel('loss')\n",
    "plt.xlabel('epoch')\n",
    "plt.title('Model Loss')\n",
    "plt.legend(['train', 'validation'], loc='upper left')\n",
    "# Plot Train and Validation Accuracy\n",
    "plt.subplot(132)\n",
    "plt.plot(eLSTM30x50_result['accuracy'])\n",
    "plt.plot(eLSTM30x50_result['val_accuracy'])\n",
    "plt.ylabel('accuracy')\n",
    "plt.xlabel('epoch')\n",
    "plt.title('Model Accuracy')\n",
    "plt.legend(['train', 'validation'], loc='upper left')\n",
    "# Plot of ROC Curve\n",
    "plt.subplot(133)\n",
    "plt.plot(eLSTM30x50_fpr,eLSTM30x50_tpr, color='blue')\n",
    "plt.plot([(0,0), (1,1)], linestyle=\"--\")\n",
    "plt.xlabel('False Positive Rate')\n",
    "plt.ylabel('True Positive Rate')\n",
    "plt.title('ROC Curve')\n",
    "plt.show()"
   ]
  },
  {
   "cell_type": "markdown",
   "metadata": {
    "id": "i1xFSmaRDhy_"
   },
   "source": [
    "## iv. CNN-LSTM Text Classifier (Self-Trained)"
   ]
  },
  {
   "cell_type": "markdown",
   "metadata": {
    "id": "NpOZxdrHAJ20"
   },
   "source": [
    "### iv.1 Model Architecture"
   ]
  },
  {
   "cell_type": "code",
   "execution_count": 132,
   "metadata": {
    "id": "Ci8lp45JDlXn"
   },
   "outputs": [
    {
     "name": "stdout",
     "output_type": "stream",
     "text": [
      "Model: \"EmbTrain_CNNLSTM_30x50\"\n",
      "_________________________________________________________________\n",
      "Layer (type)                 Output Shape              Param #   \n",
      "=================================================================\n",
      "input_129 (InputLayer)       [(None, 30)]              0         \n",
      "_________________________________________________________________\n",
      "embedding_120 (Embedding)    (None, 30, 50)            319450    \n",
      "_________________________________________________________________\n",
      "conv1d_292 (Conv1D)          (None, 28, 48)            7248      \n",
      "_________________________________________________________________\n",
      "max_pooling1d_292 (MaxPoolin (None, 14, 48)            0         \n",
      "_________________________________________________________________\n",
      "dropout_308 (Dropout)        (None, 14, 48)            0         \n",
      "_________________________________________________________________\n",
      "conv1d_293 (Conv1D)          (None, 12, 64)            9280      \n",
      "_________________________________________________________________\n",
      "max_pooling1d_293 (MaxPoolin (None, 6, 64)             0         \n",
      "_________________________________________________________________\n",
      "dropout_309 (Dropout)        (None, 6, 64)             0         \n",
      "_________________________________________________________________\n",
      "lstm_192 (LSTM)              (None, 6, 48)             21696     \n",
      "_________________________________________________________________\n",
      "lstm_193 (LSTM)              (None, 6, 48)             18624     \n",
      "_________________________________________________________________\n",
      "lstm_194 (LSTM)              (None, 64)                28928     \n",
      "_________________________________________________________________\n",
      "dense_518 (Dense)            (None, 32)                2080      \n",
      "_________________________________________________________________\n",
      "dense_519 (Dense)            (None, 16)                528       \n",
      "_________________________________________________________________\n",
      "dense_520 (Dense)            (None, 1)                 17        \n",
      "=================================================================\n",
      "Total params: 407,851\n",
      "Trainable params: 407,851\n",
      "Non-trainable params: 0\n",
      "_________________________________________________________________\n",
      "Path to model: dl_training/weights/EmbTrain_CNNLSTM_30x50.hdf5\n",
      "Path to log:   dl_training/log/EmbTrain_CNNLSTM_30x50.csv\n"
     ]
    }
   ],
   "source": [
    "### Initilization\n",
    "train_idx_shape = X_train_30idx[0].shape # Dimension of Word Sequencing Index Vectors per sms\n",
    "loss_func       = 'binary_crossentropy'\n",
    "optmz           = optimizers.Adam(learning_rate=0.00004)\n",
    "modelname       = 'EmbTrain_CNNLSTM_30x50'\n",
    "vocab_size      = tk_size\n",
    "emb_dim         = 50\n",
    "\n",
    "# Define Model\n",
    "def etrain_CNNLSTM_30x50():\n",
    "    ipt = Input(shape=train_idx_shape)\n",
    "    x = Embedding(vocab_size, output_dim=emb_dim)(ipt)\n",
    "    x = Conv1D(48, 3, activation='relu', kernel_regularizer=regularizers.l2(0.1))(x)\n",
    "    x = MaxPool1D(2)(x)\n",
    "    x = Dropout(0.3)(x)\n",
    "    x = Conv1D(64, 3, activation='relu', kernel_regularizer=regularizers.l2(0.1))(x)\n",
    "    x = MaxPool1D(2)(x)\n",
    "    x = Dropout(0.3)(x)\n",
    "    # x = Conv1D(64, 3, activation='relu')(x)\n",
    "    # x = MaxPool1D(2)(x)\n",
    "    # x = LSTM(48, return_sequences=True)(x)\n",
    "    x = LSTM(48, return_sequences=True, dropout=0.2, kernel_regularizer=regularizers.l2(0.05))(x)\n",
    "    x = LSTM(48, return_sequences=True)(x)\n",
    "    x = LSTM(64)(x)\n",
    "    # x = Dense(64, activation='relu')(x)\n",
    "    x = Dense(32, activation='relu')(x)\n",
    "    x = Dense(16, activation='relu')(x)\n",
    "    x = Dense(1, activation='sigmoid')(x)\n",
    "\n",
    "    model = Model(inputs=ipt, outputs=x, name=modelname)\n",
    "    \n",
    "    model.compile(loss      = loss_func,\n",
    "                  optimizer = optmz,\n",
    "                  metrics   = ['accuracy'])\n",
    "    \n",
    "    return model\n",
    "\n",
    "# Setup Model\n",
    "eCNNLSTM30x50     = etrain_CNNLSTM_30x50()\n",
    "eCNNLSTM30x50_go  = etrain_CNNLSTM_30x50() # For loading best model & predictions\n",
    "\n",
    "# Filepaths for callbacks\n",
    "weightfolderpath = 'dl_training/weights/'\n",
    "weightfilepath   = weightfolderpath + modelname + \".hdf5\"\n",
    "logfolderpath   = 'dl_training/log/'\n",
    "logfilepath     = logfolderpath + modelname + '.csv'\n",
    "\n",
    "# Checkpoint\n",
    "checkpoint      = ModelCheckpoint(weightfilepath, \n",
    "                                  monitor        = 'val_accuracy',\n",
    "                                  mode           = 'max',\n",
    "                                  save_best_only = True,\n",
    "                                  verbose        = 0)\n",
    "# Training Logger\n",
    "csv_logger      = CSVLogger(logfilepath)    \n",
    "\n",
    "# Model Callback Lists\n",
    "callbacks_list  = [checkpoint, csv_logger]                                     \n",
    "\n",
    "# Model Setup Summary\n",
    "eCNNLSTM30x50.summary()\n",
    "print(\"Path to model:\", weightfilepath)\n",
    "print(\"Path to log:  \", logfilepath)"
   ]
  },
  {
   "cell_type": "markdown",
   "metadata": {
    "id": "3asuVzFvAW71"
   },
   "source": [
    "### iv.2 Train Model"
   ]
  },
  {
   "cell_type": "code",
   "execution_count": 133,
   "metadata": {
    "id": "x0oMyIEtAXMT"
   },
   "outputs": [
    {
     "name": "stdout",
     "output_type": "stream",
     "text": [
      "Epoch 1/40\n",
      "409/409 [==============================] - 10s 13ms/step - loss: 13.4280 - accuracy: 0.8357 - val_loss: 11.1598 - val_accuracy: 0.8390\n",
      "Epoch 2/40\n",
      "409/409 [==============================] - 5s 11ms/step - loss: 9.4399 - accuracy: 0.8399 - val_loss: 7.8967 - val_accuracy: 0.8390\n",
      "Epoch 3/40\n",
      "409/409 [==============================] - 5s 12ms/step - loss: 6.6381 - accuracy: 0.8399 - val_loss: 5.5104 - val_accuracy: 0.8390\n",
      "Epoch 4/40\n",
      "409/409 [==============================] - 5s 12ms/step - loss: 4.5995 - accuracy: 0.8399 - val_loss: 3.7838 - val_accuracy: 0.8390\n",
      "Epoch 5/40\n",
      "409/409 [==============================] - 5s 12ms/step - loss: 3.1420 - accuracy: 0.8409 - val_loss: 2.5669 - val_accuracy: 0.8413\n",
      "Epoch 6/40\n",
      "409/409 [==============================] - 4s 11ms/step - loss: 2.1186 - accuracy: 0.8612 - val_loss: 1.7222 - val_accuracy: 0.8790\n",
      "Epoch 7/40\n",
      "409/409 [==============================] - 5s 12ms/step - loss: 1.4217 - accuracy: 0.9062 - val_loss: 1.1478 - val_accuracy: 0.9212\n",
      "Epoch 8/40\n",
      "409/409 [==============================] - 5s 12ms/step - loss: 0.9422 - accuracy: 0.9471 - val_loss: 0.7592 - val_accuracy: 0.9578A: 0s - los\n",
      "Epoch 9/40\n",
      "409/409 [==============================] - 5s 11ms/step - loss: 0.6196 - accuracy: 0.9687 - val_loss: 0.5041 - val_accuracy: 0.9669\n",
      "Epoch 10/40\n",
      "409/409 [==============================] - 5s 12ms/step - loss: 0.4069 - accuracy: 0.9799 - val_loss: 0.3373 - val_accuracy: 0.9737\n",
      "Epoch 11/40\n",
      "409/409 [==============================] - 5s 11ms/step - loss: 0.2702 - accuracy: 0.9838 - val_loss: 0.2335 - val_accuracy: 0.9795\n",
      "Epoch 12/40\n",
      "409/409 [==============================] - 5s 11ms/step - loss: 0.2012 - accuracy: 0.9853 - val_loss: 0.1853 - val_accuracy: 0.9806\n",
      "Epoch 13/40\n",
      "409/409 [==============================] - 5s 11ms/step - loss: 0.1595 - accuracy: 0.9870 - val_loss: 0.1542 - val_accuracy: 0.9840\n",
      "Epoch 14/40\n",
      "409/409 [==============================] - 5s 12ms/step - loss: 0.1359 - accuracy: 0.9873 - val_loss: 0.1563 - val_accuracy: 0.9795\n",
      "Epoch 15/40\n",
      "409/409 [==============================] - 5s 12ms/step - loss: 0.1251 - accuracy: 0.9858 - val_loss: 0.1380 - val_accuracy: 0.9806\n",
      "Epoch 16/40\n",
      "409/409 [==============================] - 5s 13ms/step - loss: 0.1071 - accuracy: 0.9897 - val_loss: 0.1393 - val_accuracy: 0.9806\n",
      "Epoch 17/40\n",
      "409/409 [==============================] - 5s 12ms/step - loss: 0.0976 - accuracy: 0.9922 - val_loss: 0.1246 - val_accuracy: 0.9817\n",
      "Epoch 18/40\n",
      "409/409 [==============================] - 5s 12ms/step - loss: 0.0919 - accuracy: 0.9912 - val_loss: 0.1181 - val_accuracy: 0.9829\n",
      "Epoch 19/40\n",
      "409/409 [==============================] - 5s 12ms/step - loss: 0.0835 - accuracy: 0.9917 - val_loss: 0.1068 - val_accuracy: 0.9817\n",
      "Epoch 20/40\n",
      "409/409 [==============================] - 5s 12ms/step - loss: 0.0831 - accuracy: 0.9917 - val_loss: 0.1081 - val_accuracy: 0.9840\n",
      "Epoch 21/40\n",
      "409/409 [==============================] - 5s 12ms/step - loss: 0.0818 - accuracy: 0.9914 - val_loss: 0.0987 - val_accuracy: 0.9829\n",
      "Epoch 22/40\n",
      "409/409 [==============================] - 5s 12ms/step - loss: 0.0767 - accuracy: 0.9912 - val_loss: 0.0949 - val_accuracy: 0.9840\n",
      "Epoch 23/40\n",
      "409/409 [==============================] - 5s 12ms/step - loss: 0.0680 - accuracy: 0.9941 - val_loss: 0.1090 - val_accuracy: 0.9795\n",
      "Epoch 24/40\n",
      "409/409 [==============================] - 5s 11ms/step - loss: 0.0653 - accuracy: 0.9936 - val_loss: 0.1353 - val_accuracy: 0.9737\n",
      "Epoch 25/40\n",
      "409/409 [==============================] - 5s 12ms/step - loss: 0.0618 - accuracy: 0.9939 - val_loss: 0.0792 - val_accuracy: 0.9863\n",
      "Epoch 26/40\n",
      "409/409 [==============================] - 5s 12ms/step - loss: 0.0571 - accuracy: 0.9951 - val_loss: 0.0834 - val_accuracy: 0.9863\n",
      "Epoch 27/40\n",
      "409/409 [==============================] - 5s 11ms/step - loss: 0.0545 - accuracy: 0.9944 - val_loss: 0.0802 - val_accuracy: 0.9863\n",
      "Epoch 28/40\n",
      "409/409 [==============================] - 5s 11ms/step - loss: 0.0552 - accuracy: 0.9934 - val_loss: 0.0965 - val_accuracy: 0.9829\n",
      "Epoch 29/40\n",
      "409/409 [==============================] - 5s 12ms/step - loss: 0.0521 - accuracy: 0.9946 - val_loss: 0.0918 - val_accuracy: 0.9829\n",
      "Epoch 30/40\n",
      "409/409 [==============================] - 6s 14ms/step - loss: 0.0520 - accuracy: 0.9949 - val_loss: 0.0819 - val_accuracy: 0.9840\n",
      "Epoch 31/40\n",
      "409/409 [==============================] - 5s 13ms/step - loss: 0.0456 - accuracy: 0.9971 - val_loss: 0.0715 - val_accuracy: 0.9863\n",
      "Epoch 32/40\n",
      "409/409 [==============================] - 5s 12ms/step - loss: 0.0489 - accuracy: 0.9946 - val_loss: 0.1026 - val_accuracy: 0.9806\n",
      "Epoch 33/40\n",
      "409/409 [==============================] - 5s 11ms/step - loss: 0.0460 - accuracy: 0.9956 - val_loss: 0.0812 - val_accuracy: 0.9840\n",
      "Epoch 34/40\n",
      "409/409 [==============================] - 5s 12ms/step - loss: 0.0456 - accuracy: 0.9941 - val_loss: 0.1011 - val_accuracy: 0.9817\n",
      "Epoch 35/40\n",
      "409/409 [==============================] - 5s 12ms/step - loss: 0.0481 - accuracy: 0.9953 - val_loss: 0.0967 - val_accuracy: 0.9817\n",
      "Epoch 36/40\n",
      "409/409 [==============================] - 5s 12ms/step - loss: 0.0468 - accuracy: 0.9941 - val_loss: 0.0941 - val_accuracy: 0.9806\n",
      "Epoch 37/40\n",
      "409/409 [==============================] - 5s 12ms/step - loss: 0.0434 - accuracy: 0.9956 - val_loss: 0.1240 - val_accuracy: 0.9760\n",
      "Epoch 38/40\n",
      "409/409 [==============================] - 5s 11ms/step - loss: 0.0430 - accuracy: 0.9961 - val_loss: 0.0997 - val_accuracy: 0.9806\n",
      "Epoch 39/40\n",
      "409/409 [==============================] - 5s 12ms/step - loss: 0.0428 - accuracy: 0.9961 - val_loss: 0.0716 - val_accuracy: 0.9852\n",
      "Epoch 40/40\n",
      "409/409 [==============================] - 5s 12ms/step - loss: 0.0403 - accuracy: 0.9963 - val_loss: 0.0997 - val_accuracy: 0.9795\n"
     ]
    }
   ],
   "source": [
    "# Train Model\n",
    "num_epoch = 40\n",
    "batchsize = 10\n",
    "\n",
    "eCNNLSTM30x50_fit = eCNNLSTM30x50.fit(x=X_train_30idx, y=y_train, validation_data=(X_val_30idx, y_val), epochs=num_epoch, batch_size=batchsize, shuffle=True, callbacks=callbacks_list)"
   ]
  },
  {
   "cell_type": "markdown",
   "metadata": {
    "id": "PIrLqaMbAln_"
   },
   "source": [
    "### iv.3 Save Model"
   ]
  },
  {
   "cell_type": "code",
   "execution_count": 134,
   "metadata": {
    "id": "etv4AjDFAl2p"
   },
   "outputs": [],
   "source": [
    "# Load Weights of Trained Model\n",
    "eCNNLSTM30x50_go.load_weights(weightfilepath)\n",
    "eCNNLSTM30x50_go.compile(loss      = loss_func, \n",
    "                       optimizer = optmz, \n",
    "                       metrics   = ['accuracy'])\n",
    "\n",
    "\n",
    "\n",
    "# Save Model Architecture and Weights to File\n",
    "modelfolderpath = 'dl_training/model/'\n",
    "modelfilepath   = modelfolderpath + modelname + \".hdf5\"\n",
    "eCNNLSTM30x50_go.save(modelfilepath)"
   ]
  },
  {
   "cell_type": "markdown",
   "metadata": {
    "id": "EJT2e4AuBwrH"
   },
   "source": [
    "### iv.4 Model Evaluation"
   ]
  },
  {
   "cell_type": "code",
   "execution_count": 135,
   "metadata": {
    "id": "WteIMPR_Bw-m"
   },
   "outputs": [
    {
     "name": "stdout",
     "output_type": "stream",
     "text": [
      "Self-Trained Word Embeddings - LSTM Text Classifier\n",
      "---------------------------------------------------------\n",
      "Classification Report: \n",
      "---------------------------------------------------------\n",
      "              precision    recall  f1-score   support\n",
      "\n",
      "           0       0.99      0.99      0.99       736\n",
      "           1       0.95      0.94      0.94       140\n",
      "\n",
      "    accuracy                           0.98       876\n",
      "   macro avg       0.97      0.96      0.97       876\n",
      "weighted avg       0.98      0.98      0.98       876\n",
      "\n",
      "[[729   7]\n",
      " [  9 131]]\n",
      "---------------------------------------------------------\n",
      "Evaluation Results:\n",
      "---------------------------------------------------------\n",
      "Train Data Accuracy       : 0.997\n",
      "Validation Data Accuracy  : 0.986\n",
      "Test Data Accuracy        : 0.982\n",
      "F1-Score                  : 0.942\n",
      "AUC Score                 : 0.992\n"
     ]
    },
    {
     "data": {
      "image/png": "[encoded data removed]",
      "text/plain": [
       "<Figure size 1944x432 with 3 Axes>"
      ]
     },
     "metadata": {
      "needs_background": "light"
     },
     "output_type": "display_data"
    }
   ],
   "source": [
    "# Model Evaluation\n",
    "eCNNLSTM30x50_result = pd.DataFrame(eCNNLSTM30x50_fit.history)\n",
    "\n",
    "# Accuracy Score\n",
    "eCNNLSTM30x50_trproba = eCNNLSTM30x50_go.predict(X_train_30idx).ravel()\n",
    "eCNNLSTM30x50_trpred = (eCNNLSTM30x50_trproba > 0.5) * 1\n",
    "eCNNLSTM30x50_tracc = accuracy_score(y_train, eCNNLSTM30x50_trpred)\n",
    "\n",
    "eCNNLSTM30x50_tvproba = eCNNLSTM30x50_go.predict(X_val_30idx).ravel()\n",
    "eCNNLSTM30x50_tvpred = (eCNNLSTM30x50_tvproba > 0.5) * 1\n",
    "eCNNLSTM30x50_tvacc = accuracy_score(y_val, eCNNLSTM30x50_tvpred)\n",
    "\n",
    "\n",
    "eCNNLSTM30x50_tsproba = eCNNLSTM30x50_go.predict(X_test_30idx).ravel()\n",
    "eCNNLSTM30x50_tspred = (eCNNLSTM30x50_tsproba > 0.5) * 1\n",
    "eCNNLSTM30x50_tsacc = accuracy_score(y_test, eCNNLSTM30x50_tspred)\n",
    "\n",
    "# Classification Report & Confusion Matrix\n",
    "eCNNLSTM30x50_clr = classification_report(y_test, eCNNLSTM30x50_tspred)\n",
    "eCNNLSTM30x50_cfm = confusion_matrix(y_test, eCNNLSTM30x50_tspred)\n",
    "\n",
    "# F1 Score & AUC Score\n",
    "eCNNLSTM30x50_f1 = f1_score(y_test, eCNNLSTM30x50_tspred)\n",
    "eCNNLSTM30x50_auc = roc_auc_score(y_test, eCNNLSTM30x50_tsproba)\n",
    "eCNNLSTM30x50_fpr, eCNNLSTM30x50_tpr, _ = roc_curve(y_test, eCNNLSTM30x50_tsproba)\n",
    "\n",
    "# Displaying final model evaluation\n",
    "print('Self-Trained Word Embeddings - LSTM Text Classifier')\n",
    "print('---------------------------------------------------------')\n",
    "print('Classification Report: ')\n",
    "print('---------------------------------------------------------')\n",
    "print(eCNNLSTM30x50_clr)\n",
    "print(eCNNLSTM30x50_cfm)\n",
    "print('---------------------------------------------------------')\n",
    "print('Evaluation Results:')\n",
    "print('---------------------------------------------------------')\n",
    "print('Train Data Accuracy       : {:.03f}'.format(eCNNLSTM30x50_tracc))\n",
    "print('Validation Data Accuracy  : {:.03f}'.format(eCNNLSTM30x50_tvacc))\n",
    "print('Test Data Accuracy        : {:.03f}'.format(eCNNLSTM30x50_tsacc))\n",
    "print('F1-Score                  : {:.03f}'.format(eCNNLSTM30x50_f1))\n",
    "print('AUC Score                 : {:.03f}'.format(eCNNLSTM30x50_auc))\n",
    "\n",
    "plt.figure(figsize=(27,6))\n",
    "# Plot Train and Validation Loss\n",
    "plt.subplot(131)\n",
    "plt.plot(eCNNLSTM30x50_result['loss'])\n",
    "plt.plot(eCNNLSTM30x50_result['val_loss'])\n",
    "plt.ylabel('loss')\n",
    "plt.xlabel('epoch')\n",
    "plt.title('Model Loss')\n",
    "plt.legend(['train', 'validation'], loc='upper left')\n",
    "# Plot Train and Validation Accuracy\n",
    "plt.subplot(132)\n",
    "plt.plot(eCNNLSTM30x50_result['accuracy'])\n",
    "plt.plot(eCNNLSTM30x50_result['val_accuracy'])\n",
    "plt.ylabel('accuracy')\n",
    "plt.xlabel('epoch')\n",
    "plt.title('Model Accuracy')\n",
    "plt.legend(['train', 'validation'], loc='upper left')\n",
    "# Plot of ROC Curve\n",
    "plt.subplot(133)\n",
    "plt.plot(eCNNLSTM30x50_fpr,eCNNLSTM30x50_tpr, color='blue')\n",
    "plt.plot([(0,0), (1,1)], linestyle=\"--\")\n",
    "plt.xlabel('False Positive Rate')\n",
    "plt.ylabel('True Positive Rate')\n",
    "plt.title('ROC Curve')\n",
    "plt.show()"
   ]
  },
  {
   "cell_type": "markdown",
   "metadata": {},
   "source": [
    "# 4. K-Fold Cross Validation for Candidate Models and Model Selection"
   ]
  },
  {
   "cell_type": "markdown",
   "metadata": {},
   "source": [
    "Based on the model training summary, it seems that models based on self-trained word embeddings performed better than that of GloVe word embeddings. <br>\n",
    "Hence, we pick the top 2 performing self-trained word embedding models for k-fold cross validation to compare final performance and model selection. <br>\n",
    "The number of fold used here is 5 and the k-fold procedure is repeated 5 times."
   ]
  },
  {
   "cell_type": "code",
   "execution_count": 124,
   "metadata": {},
   "outputs": [
    {
     "name": "stdout",
     "output_type": "stream",
     "text": [
      "Dimension of full dataset is: (5837, 30)\n",
      "Dimension of full labels is:  (5837,)\n"
     ]
    }
   ],
   "source": [
    "# Concatenate Full Dataset\n",
    "X_30idx = np.concatenate((X_train_30idx, X_val_30idx, X_test_30idx), axis=0)\n",
    "y       = np.concatenate((y_train, y_val, y_test), axis=0)\n",
    "\n",
    "print('Dimension of full dataset is: ' + str(X_30idx.shape))\n",
    "print('Dimension of full labels is:  ' + str(y.shape))"
   ]
  },
  {
   "cell_type": "code",
   "execution_count": 125,
   "metadata": {},
   "outputs": [
    {
     "name": "stdout",
     "output_type": "stream",
     "text": [
      "Total number of train-test split sets: 25\n"
     ]
    }
   ],
   "source": [
    "# Performed the Dataset Split using Repeated Stratified K-fold\n",
    "\n",
    "rskf = RepeatedStratifiedKFold(n_splits=5, n_repeats=5, random_state=seed)\n",
    "\n",
    "splits_idx = []\n",
    "for train_idx, test_idx in rskf.split(X_30idx, y):\n",
    "    fold_set = (train_idx, test_idx)\n",
    "    splits_idx.append(fold_set)\n",
    "\n",
    "print('Total number of train-test split sets: ' + str(len(splits_idx)))"
   ]
  },
  {
   "cell_type": "markdown",
   "metadata": {},
   "source": [
    "## i. CNN Text Classifier (Self-Trained)"
   ]
  },
  {
   "cell_type": "code",
   "execution_count": 126,
   "metadata": {},
   "outputs": [
    {
     "name": "stdout",
     "output_type": "stream",
     "text": [
      "Path to model: dl_training/weights/EmbTrain_CNN_30x50_KFold.hdf5\n",
      "Path to log:   dl_training/log/EmbTrain_CNN_30x50_KFold.csv\n"
     ]
    }
   ],
   "source": [
    "# Model Parameters\n",
    "train_idx_shape = X_30idx[0].shape\n",
    "loss_func       = 'binary_crossentropy'\n",
    "modelname       = 'EmbTrain_CNN_30x50_KFold'\n",
    "vocab_size      = tk_size\n",
    "emb_dim         = 50\n",
    "num_epoch       = 40\n",
    "batchsize       = 10\n",
    "\n",
    "# Filepaths for callbacks\n",
    "weightfolderpath = 'dl_training/weights/'\n",
    "weightfilepath   = weightfolderpath + modelname + \".hdf5\"\n",
    "logfolderpath   = 'dl_training/log/'\n",
    "logfilepath     = logfolderpath + modelname + '.csv'\n",
    "\n",
    "print(\"Path to model:\", weightfilepath)\n",
    "print(\"Path to log:  \", logfilepath)\n",
    "\n",
    "# Checkpoint\n",
    "checkpoint      = ModelCheckpoint(weightfilepath, \n",
    "                                  monitor        = 'val_accuracy',\n",
    "                                  mode           = 'max',\n",
    "                                  save_best_only = True,\n",
    "                                  verbose        = 0)\n",
    "# Training Logger\n",
    "csv_logger      = CSVLogger(logfilepath)    \n",
    "\n",
    "# Model Callback Lists\n",
    "callbacks_list  = [checkpoint, csv_logger]                                     \n"
   ]
  },
  {
   "cell_type": "code",
   "execution_count": 127,
   "metadata": {},
   "outputs": [
    {
     "name": "stdout",
     "output_type": "stream",
     "text": [
      "K-Fold Cross Validation Completed!\n",
      " \n",
      "Total of 25 folds trained and evaluated\n",
      "=====================================================\n",
      "Final Scores Metrics:\n",
      "-----------------------------------------------------\n",
      "Average Training Score: 99.5\n",
      "Average Testing Score:  99.39\n",
      "Average f1 Score:       98.06\n",
      "Average AUC:            99.81\n",
      "-----------------------------------------------------\n"
     ]
    }
   ],
   "source": [
    "# Fit and Calculate Evaluation Metrics\n",
    "\n",
    "eCNN30x50_tracc_kf = []\n",
    "eCNN30x50_tsacc_kf = []\n",
    "eCNN30x50_f1_kf = []\n",
    "eCNN30x50_auc_kf = []\n",
    "\n",
    "for i in range(len(splits_idx)):\n",
    "    # Printing Info\n",
    "    clear_output(wait=True)\n",
    "    print('Training fold {0:2d} '.format(i+1))\n",
    "    print('=================================================================')\n",
    "    print('Model:                           ' + modelname)\n",
    "    print('Word Embeddings Vocabulary Size: ' + str(vocab_size))\n",
    "    print('Word Embeddings Dimension:       ' + str(emb_dim))\n",
    "    print('Number of Epoch:                 ' + str(num_epoch))\n",
    "    print('Batch Size:                      ' + str(batchsize))\n",
    "    print('-----------------------------------------------------------------')\n",
    "    print(\"Path to model:\", weightfilepath)\n",
    "    print(\"Path to log:  \", logfilepath)\n",
    "    print('=================================================================')\n",
    "    \n",
    "    # Initialize Dataset Split\n",
    "    train_idx = splits_idx[i][0]\n",
    "    test_idx = splits_idx[i][1]\n",
    "    X_train_kf = X_30idx[train_idx]\n",
    "    y_train_kf = y[train_idx]\n",
    "    X_test_kf = X_30idx[test_idx]\n",
    "    y_test_kf = y[test_idx]\n",
    "\n",
    "    # Initialize Models\n",
    "    optmz    = optimizers.Adam(learning_rate=0.00015) # Reinitialize Optimizer \n",
    "    model    = etrain_CNN_30x50()\n",
    "    model_go = etrain_CNN_30x50() # For loading optimal weights\n",
    "    \n",
    "    # Model Fit\n",
    "    model_fit = model.fit(x=X_train_kf, y=y_train_kf, validation_data=(X_test_kf, y_test_kf), epochs=num_epoch, batch_size=batchsize, shuffle=True, callbacks=callbacks_list)\n",
    "    \n",
    "    # Reload Optimal Weights\n",
    "    model_go.load_weights(weightfilepath)\n",
    "    model_go.compile(loss      = loss_func, \n",
    "                     optimizer = optmz, \n",
    "                     metrics   = ['accuracy'])\n",
    "    \n",
    "    # Calculate Evaluation Metrics\n",
    "    trproba = model_go.predict(X_train_kf).ravel()\n",
    "    trpred = (trproba > 0.5) * 1\n",
    "    tracc = accuracy_score(y_train_kf, trpred)\n",
    "\n",
    "    tsproba = model_go.predict(X_test_kf).ravel()\n",
    "    tspred = (tsproba > 0.5) * 1\n",
    "    tsacc = accuracy_score(y_test_kf, tspred)\n",
    "\n",
    "    f1 = f1_score(y_test_kf, tspred)\n",
    "    auc = roc_auc_score(y_test_kf, tsproba)\n",
    "    \n",
    "    # Append Results\n",
    "    eCNN30x50_tracc_kf.append(tracc)\n",
    "    eCNN30x50_tsacc_kf.append(tsacc)\n",
    "    eCNN30x50_f1_kf.append(f1)\n",
    "    eCNN30x50_auc_kf.append(auc)\n",
    "\n",
    "clear_output(wait=True)\n",
    "print('K-Fold Cross Validation Completed!')\n",
    "eCNN30x50_tracc_kf_avg = np.array(eCNN30x50_tracc_kf, dtype=np.float).mean()\n",
    "eCNN30x50_tsacc_kf_avg = np.array(eCNN30x50_tsacc_kf, dtype=np.float).mean()\n",
    "eCNN30x50_f1_kf_avg = np.array(eCNN30x50_f1_kf, dtype=np.float).mean()\n",
    "eCNN30x50_auc_kf_avg = np.array(eCNN30x50_auc_kf, dtype=np.float).mean()\n",
    "print(' ')\n",
    "print('Total of {0:2d} folds trained and evaluated'.format(len(eCNN30x50_tracc_kf)))\n",
    "print('=====================================================')\n",
    "print('Final Scores Metrics:')\n",
    "print('-----------------------------------------------------')\n",
    "print('Average Training Score: ' + str(round(eCNN30x50_tracc_kf_avg*100, 2)))\n",
    "print('Average Testing Score:  ' + str(round(eCNN30x50_tsacc_kf_avg*100, 2)))\n",
    "print('Average f1 Score:       ' + str(round(eCNN30x50_f1_kf_avg*100, 2)))\n",
    "print('Average AUC:            ' + str(round(eCNN30x50_auc_kf_avg*100, 2)))\n",
    "print('-----------------------------------------------------')\n",
    "    "
   ]
  },
  {
   "cell_type": "markdown",
   "metadata": {},
   "source": [
    "## ii. CNN-LSTM Text Classifier (Self-Trained)"
   ]
  },
  {
   "cell_type": "code",
   "execution_count": 128,
   "metadata": {},
   "outputs": [
    {
     "name": "stdout",
     "output_type": "stream",
     "text": [
      "Path to model: dl_training/weights/EmbTrain_CNNLSTM_30x50_KFold.hdf5\n",
      "Path to log:   dl_training/log/EmbTrain_CNNLSTM_30x50_KFold.csv\n"
     ]
    }
   ],
   "source": [
    "# Model Parameters\n",
    "train_idx_shape = X_30idx[0].shape\n",
    "loss_func       = 'binary_crossentropy'\n",
    "modelname       = 'EmbTrain_CNNLSTM_30x50_KFold'\n",
    "vocab_size      = tk_size\n",
    "emb_dim         = 50\n",
    "num_epoch       = 40\n",
    "batchsize       = 10\n",
    "\n",
    "# Filepaths for callbacks\n",
    "weightfolderpath = 'dl_training/weights/'\n",
    "weightfilepath   = weightfolderpath + modelname + \".hdf5\"\n",
    "logfolderpath   = 'dl_training/log/'\n",
    "logfilepath     = logfolderpath + modelname + '.csv'\n",
    "\n",
    "print(\"Path to model:\", weightfilepath)\n",
    "print(\"Path to log:  \", logfilepath)\n",
    "\n",
    "# Checkpoint\n",
    "checkpoint      = ModelCheckpoint(weightfilepath, \n",
    "                                  monitor        = 'val_accuracy',\n",
    "                                  mode           = 'max',\n",
    "                                  save_best_only = True,\n",
    "                                  verbose        = 0)\n",
    "# Training Logger\n",
    "csv_logger      = CSVLogger(logfilepath)    \n",
    "\n",
    "# Model Callback Lists\n",
    "callbacks_list  = [checkpoint, csv_logger]                                     \n"
   ]
  },
  {
   "cell_type": "code",
   "execution_count": 129,
   "metadata": {},
   "outputs": [
    {
     "name": "stdout",
     "output_type": "stream",
     "text": [
      "K-Fold Cross Validation Completed!\n",
      " \n",
      "Total of 25 folds trained and evaluated\n",
      "=====================================================\n",
      "Final Scores Metrics:\n",
      "-----------------------------------------------------\n",
      "Average Training Score: 99.54\n",
      "Average Testing Score:  99.41\n",
      "Average f1 Score:       98.15\n",
      "Average AUC:            99.77\n",
      "-----------------------------------------------------\n"
     ]
    }
   ],
   "source": [
    "# Fit and Calculate Evaluation Metrics\n",
    "\n",
    "eCNNLSTM30x50_tracc_kf = []\n",
    "eCNNLSTM30x50_tsacc_kf = []\n",
    "eCNNLSTM30x50_f1_kf = []\n",
    "eCNNLSTM30x50_auc_kf = []\n",
    "\n",
    "for i in range(len(splits_idx)):\n",
    "    # Printing Info\n",
    "    clear_output(wait=True)\n",
    "    print('Training fold {0:2d} '.format(i+1))\n",
    "    print('=================================================================')\n",
    "    print('Model:                           ' + modelname)\n",
    "    print('Word Embeddings Vocabulary Size: ' + str(vocab_size))\n",
    "    print('Word Embeddings Dimension:       ' + str(emb_dim))\n",
    "    print('Number of Epoch:                 ' + str(num_epoch))\n",
    "    print('Batch Size:                      ' + str(batchsize))\n",
    "    print('-----------------------------------------------------------------')\n",
    "    print(\"Path to model:\", weightfilepath)\n",
    "    print(\"Path to log:  \", logfilepath)\n",
    "    print('=================================================================')\n",
    "    \n",
    "    # Initialize Dataset Split\n",
    "    train_idx = splits_idx[i][0]\n",
    "    test_idx = splits_idx[i][1]\n",
    "    X_train_kf = X_30idx[train_idx]\n",
    "    y_train_kf = y[train_idx]\n",
    "    X_test_kf = X_30idx[test_idx]\n",
    "    y_test_kf = y[test_idx]\n",
    "\n",
    "    # Initialize Models\n",
    "    optmz    = optimizers.Adam(learning_rate=0.00004) # Reinitialize Optimizer \n",
    "    model    = etrain_CNNLSTM_30x50()\n",
    "    model_go = etrain_CNNLSTM_30x50() # For loading optimal weights\n",
    "    \n",
    "    # Model Fit\n",
    "    model_fit = model.fit(x=X_train_kf, y=y_train_kf, validation_data=(X_test_kf, y_test_kf), epochs=num_epoch, batch_size=batchsize, shuffle=True, callbacks=callbacks_list)\n",
    "    \n",
    "    # Reload Optimal Weights\n",
    "    model_go.load_weights(weightfilepath)\n",
    "    model_go.compile(loss      = loss_func, \n",
    "                     optimizer = optmz, \n",
    "                     metrics   = ['accuracy'])\n",
    "    \n",
    "    # Calculate Evaluation Metrics\n",
    "    trproba = model_go.predict(X_train_kf).ravel()\n",
    "    trpred = (trproba > 0.5) * 1\n",
    "    tracc = accuracy_score(y_train_kf, trpred)\n",
    "\n",
    "    tsproba = model_go.predict(X_test_kf).ravel()\n",
    "    tspred = (tsproba > 0.5) * 1\n",
    "    tsacc = accuracy_score(y_test_kf, tspred)\n",
    "\n",
    "    f1 = f1_score(y_test_kf, tspred)\n",
    "    auc = roc_auc_score(y_test_kf, tsproba)\n",
    "    \n",
    "    # Append Results\n",
    "    eCNNLSTM30x50_tracc_kf.append(tracc)\n",
    "    eCNNLSTM30x50_tsacc_kf.append(tsacc)\n",
    "    eCNNLSTM30x50_f1_kf.append(f1)\n",
    "    eCNNLSTM30x50_auc_kf.append(auc)\n",
    "\n",
    "clear_output(wait=True)\n",
    "print('K-Fold Cross Validation Completed!')\n",
    "eCNNLSTM30x50_tracc_kf_avg = np.array(eCNNLSTM30x50_tracc_kf, dtype=np.float).mean()\n",
    "eCNNLSTM30x50_tsacc_kf_avg = np.array(eCNNLSTM30x50_tsacc_kf, dtype=np.float).mean()\n",
    "eCNNLSTM30x50_f1_kf_avg = np.array(eCNNLSTM30x50_f1_kf, dtype=np.float).mean()\n",
    "eCNNLSTM30x50_auc_kf_avg = np.array(eCNNLSTM30x50_auc_kf, dtype=np.float).mean()\n",
    "print(' ')\n",
    "print('Total of {0:2d} folds trained and evaluated'.format(len(eCNNLSTM30x50_tracc_kf)))\n",
    "print('=====================================================')\n",
    "print('Final Scores Metrics:')\n",
    "print('-----------------------------------------------------')\n",
    "print('Average Training Score: ' + str(round(eCNNLSTM30x50_tracc_kf_avg*100, 2)))\n",
    "print('Average Testing Score:  ' + str(round(eCNNLSTM30x50_tsacc_kf_avg*100, 2)))\n",
    "print('Average f1 Score:       ' + str(round(eCNNLSTM30x50_f1_kf_avg*100, 2)))\n",
    "print('Average AUC:            ' + str(round(eCNNLSTM30x50_auc_kf_avg*100, 2)))\n",
    "print('-----------------------------------------------------')\n",
    "    "
   ]
  },
  {
   "cell_type": "markdown",
   "metadata": {
    "id": "PKhyJQ_tXLun"
   },
   "source": [
    "# 5. Summary of Results"
   ]
  },
  {
   "cell_type": "markdown",
   "metadata": {
    "id": "2ZWoRMwBEN3I"
   },
   "source": [
    "## i. Training Evaluation"
   ]
  },
  {
   "cell_type": "code",
   "execution_count": 138,
   "metadata": {},
   "outputs": [
    {
     "data": {
      "image/png": "[encoded data removed]",
      "text/plain": [
       "<Figure size 1440x720 with 1 Axes>"
      ]
     },
     "metadata": {
      "needs_background": "light"
     },
     "output_type": "display_data"
    }
   ],
   "source": [
    "# Compilation Of Model Results\n",
    "\n",
    "model_labels       = ['GloVe_Dense', 'SelfTrained_Dense', 'GloVe_CNN', 'SelfTrained_CNN', 'GloVe_LSTM', 'SelfTrained_LSTM', 'GloVe_CNNLSTM', 'SelfTrained_CNNLSTM']\n",
    "eval_labels        = ['Training\\nAccuracy', 'Validation\\nAccuracy', 'Testing\\nAccuracy', 'F1 Score', 'AUC Score']\n",
    "gd30x50_eval       = [gd30x50_tracc      , gd30x50_tvacc      , gd30x50_tsacc      , gd30x50_f1      , gd30x50_auc]\n",
    "ed30x30_eval       = [ed30x30_tracc      , ed30x30_tvacc      , ed30x30_tsacc      , ed30x30_f1      , ed30x30_auc]\n",
    "gCNN30x50_eval     = [gCNN30x50_tracc    , gCNN30x50_tvacc    , gCNN30x50_tsacc    , gCNN30x50_f1    , gCNN30x50_auc]\n",
    "eCNN30x50_eval     = [eCNN30x50_tracc    , eCNN30x50_tvacc    , eCNN30x50_tsacc    , eCNN30x50_f1    , eCNN30x50_auc]\n",
    "gLSTM30x50_eval    = [gLSTM30x50_tracc   , gLSTM30x50_tvacc   , gLSTM30x50_tsacc   , gLSTM30x50_f1   , gLSTM30x50_auc]\n",
    "eLSTM30x50_eval    = [eLSTM30x50_tracc   , eLSTM30x50_tvacc   , eLSTM30x50_tsacc   , eLSTM30x50_f1   , eLSTM30x50_auc]\n",
    "gCNNLSTM30x50_eval = [gCNNLSTM30x50_tracc, gCNNLSTM30x50_tvacc, gCNNLSTM30x50_tsacc, gCNNLSTM30x50_f1, gCNNLSTM30x50_auc]\n",
    "eCNNLSTM30x50_eval = [eCNNLSTM30x50_tracc, eCNNLSTM30x50_tvacc, eCNNLSTM30x50_tsacc, eCNNLSTM30x50_f1, eCNNLSTM30x50_auc]\n",
    "\n",
    "width = 0.1\n",
    "idx = np.arange(len(eval_labels))\n",
    "\n",
    "# Plotting horizontal bar chart\n",
    "plt.figure(figsize=(20,10))\n",
    "plt.bar(idx-0.35, gd30x50_eval, width, color='forestgreen')\n",
    "plt.bar(idx-0.25, ed30x30_eval, width, color='limegreen')\n",
    "plt.bar(idx-0.15, gCNN30x50_eval, width, color='royalblue')\n",
    "plt.bar(idx-0.05, eCNN30x50_eval, width, color='lightskyblue')\n",
    "plt.bar(idx+0.05, gLSTM30x50_eval, width, color='darkorange')\n",
    "plt.bar(idx+0.15, eLSTM30x50_eval, width, color='moccasin')\n",
    "plt.bar(idx+0.25, gCNNLSTM30x50_eval, width, color='maroon')\n",
    "plt.bar(idx+0.35, eCNNLSTM30x50_eval, width, color='salmon')\n",
    "\n",
    "# Score Labels\n",
    "for i in range(len(eval_labels)):\n",
    "    plt.text(i-0.345, gd30x50_eval[i]+0.005, str(round(gd30x50_eval[i]*100,1))+'%', ha='center', va='bottom', rotation='vertical', fontsize=12)\n",
    "    plt.text(i-0.245, ed30x30_eval[i]+0.005, str(round(ed30x30_eval[i]*100,1))+'%', ha='center', va='bottom', rotation='vertical', fontsize=12)\n",
    "    plt.text(i-0.145, gCNN30x50_eval[i]+0.005, str(round(gCNN30x50_eval[i]*100,1))+'%', ha='center', va='bottom', rotation='vertical', fontsize=12)\n",
    "    plt.text(i-0.045, eCNN30x50_eval[i]+0.005, str(round(eCNN30x50_eval[i]*100,1))+'%', ha='center', va='bottom', rotation='vertical', fontsize=12)\n",
    "    plt.text(i+0.055, gLSTM30x50_eval[i]+0.005, str(round(gLSTM30x50_eval[i]*100,1))+'%', ha='center', va='bottom', rotation='vertical', fontsize=12)\n",
    "    plt.text(i+0.155, eLSTM30x50_eval[i]+0.005, str(round(eLSTM30x50_eval[i]*100,1))+'%', ha='center', va='bottom', rotation='vertical', fontsize=12)\n",
    "    plt.text(i+0.255, gCNNLSTM30x50_eval[i]+0.005, str(round(gCNNLSTM30x50_eval[i]*100,1))+'%', ha='center', va='bottom', rotation='vertical', fontsize=12)\n",
    "    plt.text(i+0.355, eCNNLSTM30x50_eval[i]+0.005, str(round(eCNNLSTM30x50_eval[i]*100,1))+'%', ha='center', va='bottom', rotation='vertical', fontsize=12)\n",
    "plt.legend(model_labels, loc='upper center', bbox_to_anchor=(0.5, -0.1), ncol=8, prop={'size': 11})\n",
    "plt.xticks(idx, eval_labels, fontsize=12)\n",
    "plt.ylim(0.8,1.05)\n",
    "\n",
    "# for i in np.arange(len(NB_cv_eval)):\n",
    "#   plt.text(NB_cv_eval[i]+0.04, i+0.15, str(round(NB_cv_eval[i]*100,1))+'%', ha=\"center\", va=\"bottom\", fontsize=12)\n",
    "#   # plt.text(rf_mfd_eval[i]+0.04, i+0.03, str(round(rf_mfd_eval[i]*100,1))+'%', ha=\"center\", va=\"bottom\", fontsize=12)\n",
    "#   plt.text(svm_tfidf_eval[i]+0.04, i-0.05, str(round(svm_tfidf_eval[i]*100,1))+'%', ha=\"center\", va=\"bottom\", fontsize=12)\n",
    "#   plt.text(knn_mfd_eval[i]+0.04, i-0.25, str(round(knn_mfd_eval[i]*100,1))+'%', ha=\"center\", va=\"bottom\", fontsize=12)\n",
    "# plt.legend(sel_models, loc='upper center', bbox_to_anchor=(0.5, -0.07), ncol=6, prop={'size': 11.5})\n",
    "# plt.yticks(q, sel_metrics, fontsize=12)\n",
    "# plt.xlim(0,1.1)\n",
    "\n",
    "# plt.vlines(x=0.91, ymin=-0.4, ymax=1.37, color='orangered', linestyle='--', linewidth=1, alpha=0.5)\n",
    "# plt.text(0.85,1.4,'Score = 91%', color='orangered', fontsize=12, style='italic')\n",
    "\n",
    "# plt.vlines(x=0.97, ymin=-0.4, ymax=2.37, color='orangered', linestyle='--', linewidth=1, alpha=0.5)\n",
    "# plt.text(0.91,2.4,'Score = 97%', color='orangered', fontsize=12, style='italic')\n",
    "\n",
    "plt.xlabel('EValuation Metrics', fontsize=13)\n",
    "plt.ylabel('Scores', fontsize=13)\n",
    "plt.title('Training Models Scores', fontsize=18)\n",
    "\n",
    "plt.show()\n"
   ]
  },
  {
   "cell_type": "code",
   "execution_count": 13,
   "metadata": {},
   "outputs": [
    {
     "data": {
      "image/png": "[encoded data removed]",
      "text/plain": [
       "<Figure size 1080x576 with 1 Axes>"
      ]
     },
     "metadata": {
      "needs_background": "light"
     },
     "output_type": "display_data"
    }
   ],
   "source": [
    "model_sel_labels      = ['SelfTrained_CNN', 'SelfTrained_CNNLSTM']\n",
    "eval_sel_labels       = ['Training\\nAccuracy', 'Testing\\nAccuracy', 'F1 Score', 'AUC Score']\n",
    "\n",
    "eCNN30x50_sel     = [eCNN30x50_tracc_kf_avg, eCNN30x50_tsacc_kf_avg, eCNN30x50_f1_kf_avg, eCNN30x50_auc_kf_avg]\n",
    "eCNNLSTM30x50_sel = [eCNNLSTM30x50_tracc_kf_avg, eCNNLSTM30x50_tsacc_kf_avg, eCNNLSTM30x50_f1_kf_avg, eCNNLSTM30x50_auc_kf_avg]\n",
    "\n",
    "width = 0.2\n",
    "idx = np.arange(len(eval_sel_labels))\n",
    "\n",
    "plt.figure(figsize=(15,8))\n",
    "plt.bar(idx-0.1, eCNN30x50_sel, width, color='lightskyblue')\n",
    "plt.bar(idx+0.1, eCNNLSTM30x50_sel, width, color='salmon')\n",
    "\n",
    "for i in range(len(eval_sel_labels)):\n",
    "    plt.text(i-0.095, eCNN30x50_sel[i]+0.001, str(round(eCNN30x50_sel[i]*100,2))+'%', ha='center', va='bottom', rotation='vertical', fontsize=15)\n",
    "    plt.text(i+0.105, eCNNLSTM30x50_sel[i]+0.001, str(round(eCNNLSTM30x50_sel[i]*100,2))+'%', ha='center', va='bottom', rotation='vertical', fontsize=15)\n",
    "\n",
    "plt.legend(model_sel_labels, loc='upper center', bbox_to_anchor=(0.5, -0.13), ncol=6, prop={'size': 15})\n",
    "plt.xticks(idx, eval_sel_labels, fontsize=12)\n",
    "plt.ylim(0.98,1.005)\n",
    "\n",
    "plt.xlabel('Evaluation Metrics', fontsize=13)\n",
    "plt.ylabel('Scores', fontsize=13)\n",
    "plt.title('Selected Models Scores', fontsize=15)\n",
    "\n",
    "plt.show()"
   ]
  },
  {
   "cell_type": "markdown",
   "metadata": {},
   "source": [
    "## ii. Model Selection"
   ]
  },
  {
   "cell_type": "markdown",
   "metadata": {},
   "source": [
    "### Setup"
   ]
  },
  {
   "cell_type": "code",
   "execution_count": 141,
   "metadata": {},
   "outputs": [],
   "source": [
    "# Model Parameters\n",
    "train_idx_shape = X_30idx[0].shape\n",
    "loss_func       = 'binary_crossentropy'\n",
    "modelname       = 'Spam_Clsfr_CNN'\n",
    "vocab_size      = tk_size\n",
    "emb_dim         = 50\n",
    "num_epoch       = 40\n",
    "batchsize       = 10\n",
    "\n",
    "# Filepaths for callbacks\n",
    "weightfolderpath = 'dl_training/weights/'\n",
    "weightfilepath   = weightfolderpath + modelname + \".hdf5\"\n",
    "logfolderpath   = 'dl_training/log/'\n",
    "logfilepath     = logfolderpath + modelname + '.csv'\n",
    "modelfolderpath = 'dl_training/model/'\n",
    "modelfilepath   = modelfolderpath + modelname + \".hdf5\"\n",
    "\n",
    "# Checkpoint\n",
    "checkpoint      = ModelCheckpoint(weightfilepath, \n",
    "                                  monitor        = 'val_accuracy',\n",
    "                                  mode           = 'max',\n",
    "                                  save_best_only = True,\n",
    "                                  verbose        = 0)\n",
    "# Training Logger\n",
    "csv_logger      = CSVLogger(logfilepath)    \n",
    "\n",
    "# Model Callback Lists\n",
    "callbacks_list  = [checkpoint, csv_logger]    "
   ]
  },
  {
   "cell_type": "markdown",
   "metadata": {},
   "source": [
    "### Training"
   ]
  },
  {
   "cell_type": "code",
   "execution_count": 146,
   "metadata": {},
   "outputs": [
    {
     "name": "stdout",
     "output_type": "stream",
     "text": [
      "3\n",
      "Selected Model - Spam_Clsfr_CNN\n",
      "------------------------------------------------------------------\n",
      "Path to weight:  dl_training/weights/Spam_Clsfr_CNN.hdf5\n",
      "Path to log:     dl_training/log/Spam_Clsfr_CNN.csv\n",
      "Path to model:   dl_training/model/Spam_Clsfr_CNN.hdf5\n",
      "------------------------------------------------------------------\n",
      "Model: \"Spam_Clsfr_CNN\"\n",
      "_________________________________________________________________\n",
      "Layer (type)                 Output Shape              Param #   \n",
      "=================================================================\n",
      "input_133 (InputLayer)       [(None, 30)]              0         \n",
      "_________________________________________________________________\n",
      "embedding_124 (Embedding)    (None, 30, 50)            319450    \n",
      "_________________________________________________________________\n",
      "conv1d_302 (Conv1D)          (None, 28, 32)            4832      \n",
      "_________________________________________________________________\n",
      "max_pooling1d_302 (MaxPoolin (None, 14, 32)            0         \n",
      "_________________________________________________________________\n",
      "dropout_318 (Dropout)        (None, 14, 32)            0         \n",
      "_________________________________________________________________\n",
      "conv1d_303 (Conv1D)          (None, 12, 48)            4656      \n",
      "_________________________________________________________________\n",
      "max_pooling1d_303 (MaxPoolin (None, 6, 48)             0         \n",
      "_________________________________________________________________\n",
      "dropout_319 (Dropout)        (None, 6, 48)             0         \n",
      "_________________________________________________________________\n",
      "conv1d_304 (Conv1D)          (None, 4, 64)             9280      \n",
      "_________________________________________________________________\n",
      "max_pooling1d_304 (MaxPoolin (None, 2, 64)             0         \n",
      "_________________________________________________________________\n",
      "flatten_68 (Flatten)         (None, 128)               0         \n",
      "_________________________________________________________________\n",
      "dense_534 (Dense)            (None, 96)                12384     \n",
      "_________________________________________________________________\n",
      "dropout_320 (Dropout)        (None, 96)                0         \n",
      "_________________________________________________________________\n",
      "dense_535 (Dense)            (None, 64)                6208      \n",
      "_________________________________________________________________\n",
      "dense_536 (Dense)            (None, 32)                2080      \n",
      "_________________________________________________________________\n",
      "dense_537 (Dense)            (None, 16)                528       \n",
      "_________________________________________________________________\n",
      "dense_538 (Dense)            (None, 1)                 17        \n",
      "=================================================================\n",
      "Total params: 359,435\n",
      "Trainable params: 359,435\n",
      "Non-trainable params: 0\n",
      "_________________________________________________________________\n",
      "Training Progress:\n",
      "==================================================================\n",
      "Epoch 1/40\n",
      "467/467 [==============================] - 4s 8ms/step - loss: 8.3261 - accuracy: 0.8398 - val_loss: 5.0511 - val_accuracy: 0.8398\n",
      "Epoch 2/40\n",
      "467/467 [==============================] - 4s 8ms/step - loss: 3.3660 - accuracy: 0.8460 - val_loss: 2.1645 - val_accuracy: 0.9006\n",
      "Epoch 3/40\n",
      "467/467 [==============================] - 3s 7ms/step - loss: 1.5073 - accuracy: 0.9248 - val_loss: 1.0471 - val_accuracy: 0.9520\n",
      "Epoch 4/40\n",
      "467/467 [==============================] - 3s 7ms/step - loss: 0.7621 - accuracy: 0.9565 - val_loss: 0.5822 - val_accuracy: 0.9666\n",
      "Epoch 5/40\n",
      "467/467 [==============================] - 3s 7ms/step - loss: 0.4424 - accuracy: 0.9730 - val_loss: 0.3756 - val_accuracy: 0.9717\n",
      "Epoch 6/40\n",
      "467/467 [==============================] - 3s 7ms/step - loss: 0.2953 - accuracy: 0.9822 - val_loss: 0.2780 - val_accuracy: 0.9726\n",
      "Epoch 7/40\n",
      "467/467 [==============================] - 3s 7ms/step - loss: 0.2283 - accuracy: 0.9844 - val_loss: 0.2372 - val_accuracy: 0.9743\n",
      "Epoch 8/40\n",
      "467/467 [==============================] - 3s 7ms/step - loss: 0.1920 - accuracy: 0.9863 - val_loss: 0.2075 - val_accuracy: 0.9769\n",
      "Epoch 9/40\n",
      "467/467 [==============================] - 3s 7ms/step - loss: 0.1713 - accuracy: 0.9876 - val_loss: 0.1871 - val_accuracy: 0.9777\n",
      "Epoch 10/40\n",
      "467/467 [==============================] - 3s 7ms/step - loss: 0.1532 - accuracy: 0.9899 - val_loss: 0.1660 - val_accuracy: 0.9811\n",
      "Epoch 11/40\n",
      "467/467 [==============================] - 4s 8ms/step - loss: 0.1425 - accuracy: 0.9887 - val_loss: 0.1571 - val_accuracy: 0.9803\n",
      "Epoch 12/40\n",
      "467/467 [==============================] - 4s 8ms/step - loss: 0.1327 - accuracy: 0.9901 - val_loss: 0.1479 - val_accuracy: 0.9837\n",
      "Epoch 13/40\n",
      "467/467 [==============================] - 4s 8ms/step - loss: 0.1220 - accuracy: 0.9919 - val_loss: 0.1387 - val_accuracy: 0.9846\n",
      "Epoch 14/40\n",
      "467/467 [==============================] - 4s 8ms/step - loss: 0.1151 - accuracy: 0.9923 - val_loss: 0.1320 - val_accuracy: 0.9846\n",
      "Epoch 15/40\n",
      "467/467 [==============================] - 4s 9ms/step - loss: 0.1091 - accuracy: 0.9923 - val_loss: 0.1302 - val_accuracy: 0.9846\n",
      "Epoch 16/40\n",
      "467/467 [==============================] - 4s 8ms/step - loss: 0.1038 - accuracy: 0.9931 - val_loss: 0.1223 - val_accuracy: 0.9854\n",
      "Epoch 17/40\n",
      "467/467 [==============================] - 3s 7ms/step - loss: 0.1005 - accuracy: 0.9919 - val_loss: 0.1198 - val_accuracy: 0.9863\n",
      "Epoch 18/40\n",
      "467/467 [==============================] - 4s 8ms/step - loss: 0.0935 - accuracy: 0.9940 - val_loss: 0.1163 - val_accuracy: 0.9863\n",
      "Epoch 19/40\n",
      "467/467 [==============================] - 4s 8ms/step - loss: 0.0912 - accuracy: 0.9934 - val_loss: 0.1098 - val_accuracy: 0.9846\n",
      "Epoch 20/40\n",
      "467/467 [==============================] - 4s 8ms/step - loss: 0.0873 - accuracy: 0.9936 - val_loss: 0.1080 - val_accuracy: 0.9846\n",
      "Epoch 21/40\n",
      "467/467 [==============================] - 4s 8ms/step - loss: 0.0850 - accuracy: 0.9934 - val_loss: 0.1130 - val_accuracy: 0.9854\n",
      "Epoch 22/40\n",
      "467/467 [==============================] - 4s 8ms/step - loss: 0.0816 - accuracy: 0.9944 - val_loss: 0.1031 - val_accuracy: 0.9871\n",
      "Epoch 23/40\n",
      "467/467 [==============================] - 4s 8ms/step - loss: 0.0789 - accuracy: 0.9944 - val_loss: 0.1010 - val_accuracy: 0.9880\n",
      "Epoch 24/40\n",
      "467/467 [==============================] - 4s 8ms/step - loss: 0.0771 - accuracy: 0.9949 - val_loss: 0.1019 - val_accuracy: 0.9863\n",
      "Epoch 25/40\n",
      "467/467 [==============================] - 4s 9ms/step - loss: 0.0762 - accuracy: 0.9942 - val_loss: 0.0989 - val_accuracy: 0.9863\n",
      "Epoch 26/40\n",
      "467/467 [==============================] - 4s 8ms/step - loss: 0.0699 - accuracy: 0.9964 - val_loss: 0.0972 - val_accuracy: 0.9863\n",
      "Epoch 27/40\n",
      "467/467 [==============================] - 4s 8ms/step - loss: 0.0690 - accuracy: 0.9955 - val_loss: 0.1053 - val_accuracy: 0.9871\n",
      "Epoch 28/40\n",
      "467/467 [==============================] - 4s 8ms/step - loss: 0.0696 - accuracy: 0.9955 - val_loss: 0.0956 - val_accuracy: 0.9871 0.0689 - \n",
      "Epoch 29/40\n",
      "467/467 [==============================] - 4s 8ms/step - loss: 0.0686 - accuracy: 0.9953 - val_loss: 0.0935 - val_accuracy: 0.9871\n",
      "Epoch 30/40\n",
      "467/467 [==============================] - 3s 7ms/step - loss: 0.0646 - accuracy: 0.9955 - val_loss: 0.0907 - val_accuracy: 0.9871\n",
      "Epoch 31/40\n",
      "467/467 [==============================] - 4s 8ms/step - loss: 0.0654 - accuracy: 0.9959 - val_loss: 0.0924 - val_accuracy: 0.9863\n",
      "Epoch 32/40\n",
      "467/467 [==============================] - 3s 7ms/step - loss: 0.0605 - accuracy: 0.9957 - val_loss: 0.0894 - val_accuracy: 0.9871\n",
      "Epoch 33/40\n",
      "467/467 [==============================] - 4s 8ms/step - loss: 0.0622 - accuracy: 0.9959 - val_loss: 0.0875 - val_accuracy: 0.9871\n",
      "Epoch 34/40\n",
      "467/467 [==============================] - 3s 7ms/step - loss: 0.0610 - accuracy: 0.9955 - val_loss: 0.0970 - val_accuracy: 0.9863oss: 0.0617 - accura - ETA: 0s - loss: 0.0613 - accu\n",
      "Epoch 35/40\n",
      "467/467 [==============================] - 3s 7ms/step - loss: 0.0603 - accuracy: 0.9959 - val_loss: 0.0871 - val_accuracy: 0.9880\n",
      "Epoch 36/40\n",
      "467/467 [==============================] - 4s 8ms/step - loss: 0.0578 - accuracy: 0.9957 - val_loss: 0.0920 - val_accuracy: 0.9871\n",
      "Epoch 37/40\n",
      "467/467 [==============================] - 4s 8ms/step - loss: 0.0557 - accuracy: 0.9964 - val_loss: 0.0898 - val_accuracy: 0.9880\n",
      "Epoch 38/40\n",
      "467/467 [==============================] - 3s 7ms/step - loss: 0.0566 - accuracy: 0.9964 - val_loss: 0.0829 - val_accuracy: 0.9871\n",
      "Epoch 39/40\n",
      "467/467 [==============================] - 4s 8ms/step - loss: 0.0558 - accuracy: 0.9959 - val_loss: 0.0836 - val_accuracy: 0.9889\n",
      "Epoch 40/40\n",
      "467/467 [==============================] - 4s 8ms/step - loss: 0.0520 - accuracy: 0.9968 - val_loss: 0.0841 - val_accuracy: 0.9871\n",
      "==================================================================\n",
      "Training Completed!\n",
      "Model Saved!\n"
     ]
    }
   ],
   "source": [
    "# Initialize Dataset Split\n",
    "# X_train_model, X_test_model, y_train_model, y_test_model = train_test_split(X_30idx, y, test_size=0.2, stratify=y, random_state=seed)\n",
    "k = random.randint(0, len(splits_idx))\n",
    "train_idx = splits_idx[k][0]\n",
    "test_idx = splits_idx[k][1]\n",
    "X_train_model = X_30idx[train_idx]\n",
    "y_train_model = y[train_idx]\n",
    "X_test_model = X_30idx[test_idx]\n",
    "y_test_model = y[test_idx]\n",
    "print(k)\n",
    "\n",
    "# Initialize Models\n",
    "optmz         = optimizers.Adam(learning_rate=0.00015)\n",
    "spam_model    = etrain_CNN_30x50()\n",
    "spam_model_go = etrain_CNN_30x50() # For loading optimal weights\n",
    "\n",
    "print('Selected Model - ' + modelname)\n",
    "print('------------------------------------------------------------------')\n",
    "print('Path to weight:  ' + weightfilepath)\n",
    "print('Path to log:     ' + logfilepath)\n",
    "print('Path to model:   ' + modelfilepath)\n",
    "print('------------------------------------------------------------------')\n",
    "spam_model.summary()\n",
    "print('Training Progress:')\n",
    "print('==================================================================')\n",
    "\n",
    "# Model Fit\n",
    "spam_model_fit = spam_model.fit(x=X_train_model, y=y_train_model, validation_data=(X_test_model, y_test_model), epochs=num_epoch, batch_size=batchsize, shuffle=True, callbacks=callbacks_list)\n",
    "\n",
    "\n",
    "print('==================================================================')\n",
    "print('Training Completed!')\n",
    "\n",
    "# Reload Optimal Weights\n",
    "spam_model_go.load_weights(weightfilepath)\n",
    "spam_model_go.compile(loss      = loss_func, \n",
    "                      optimizer = optmz, \n",
    "                      metrics   = ['accuracy'])\n",
    "\n",
    "# Save Model\n",
    "spam_model_go.save(modelfilepath)\n",
    "\n",
    "print('Model Saved!')"
   ]
  },
  {
   "cell_type": "markdown",
   "metadata": {},
   "source": [
    "### Result"
   ]
  },
  {
   "cell_type": "code",
   "execution_count": 147,
   "metadata": {},
   "outputs": [
    {
     "name": "stdout",
     "output_type": "stream",
     "text": [
      "Self-Trained Word Embeddings - CNN Text Classifier\n",
      "---------------------------------------------------------\n",
      "Classification Report: \n",
      "---------------------------------------------------------\n",
      "              precision    recall  f1-score   support\n",
      "\n",
      "           0       0.99      1.00      0.99       980\n",
      "           1       0.98      0.95      0.96       187\n",
      "\n",
      "    accuracy                           0.99      1167\n",
      "   macro avg       0.99      0.97      0.98      1167\n",
      "weighted avg       0.99      0.99      0.99      1167\n",
      "\n",
      "[[977   3]\n",
      " [ 10 177]]\n",
      "---------------------------------------------------------\n",
      "Evaluation Results:\n",
      "---------------------------------------------------------\n",
      "Train Data Accuracy       : 0.998\n",
      "Test Data Accuracy        : 0.989\n",
      "F1-Score                  : 0.965\n",
      "AUC Score                 : 0.992\n"
     ]
    }
   ],
   "source": [
    "# Model Evaluation\n",
    "spam_model_result = pd.DataFrame(spam_model_fit.history)\n",
    "\n",
    "# Accuracy Score\n",
    "spam_model_trproba = spam_model_go.predict(X_train_model).ravel()\n",
    "spam_model_trpred = (spam_model_trproba > 0.5) * 1\n",
    "spam_model_tracc = accuracy_score(y_train_model, spam_model_trpred)\n",
    "\n",
    "spam_model_tsproba = spam_model_go.predict(X_test_model).ravel()\n",
    "spam_model_tspred = (spam_model_tsproba > 0.5) * 1\n",
    "spam_model_tsacc = accuracy_score(y_test_model, spam_model_tspred)\n",
    "\n",
    "# Classification Report & Confusion Matrix\n",
    "spam_model_clr = classification_report(y_test_model, spam_model_tspred)\n",
    "spam_model_cfm = confusion_matrix(y_test_model, spam_model_tspred)\n",
    "\n",
    "# F1 Score & AUC Score\n",
    "spam_model_f1 = f1_score(y_test_model, spam_model_tspred)\n",
    "spam_model_auc = roc_auc_score(y_test_model, spam_model_tsproba)\n",
    "spam_model_fpr, spam_model_tpr, _ = roc_curve(y_test_model, spam_model_tsproba)\n",
    "\n",
    "# Displaying final model evaluation\n",
    "print('Self-Trained Word Embeddings - CNN Text Classifier')\n",
    "print('---------------------------------------------------------')\n",
    "print('Classification Report: ')\n",
    "print('---------------------------------------------------------')\n",
    "print(spam_model_clr)\n",
    "print(spam_model_cfm)\n",
    "print('---------------------------------------------------------')\n",
    "print('Evaluation Results:')\n",
    "print('---------------------------------------------------------')\n",
    "print('Train Data Accuracy       : {:.03f}'.format(spam_model_tracc))\n",
    "print('Test Data Accuracy        : {:.03f}'.format(spam_model_tsacc))\n",
    "print('F1-Score                  : {:.03f}'.format(spam_model_f1))\n",
    "print('AUC Score                 : {:.03f}'.format(spam_model_auc))\n",
    "\n"
   ]
  }
 ],
 "metadata": {
  "accelerator": "GPU",
  "colab": {
   "authorship_tag": "ABX9TyPO7a6St82ghrbpOqtMQPXf",
   "collapsed_sections": [],
   "name": "DeepLearning Models.ipynb",
   "provenance": []
  },
  "kernelspec": {
   "display_name": "Python [conda env:py39_gpu1]",
   "language": "python",
   "name": "conda-env-py39_gpu1-py"
  },
  "language_info": {
   "codemirror_mode": {
    "name": "ipython",
    "version": 3
   },
   "file_extension": ".py",
   "mimetype": "text/x-python",
   "name": "python",
   "nbconvert_exporter": "python",
   "pygments_lexer": "ipython3",
   "version": "3.9.7"
  }
 },
 "nbformat": 4,
 "nbformat_minor": 4
}
