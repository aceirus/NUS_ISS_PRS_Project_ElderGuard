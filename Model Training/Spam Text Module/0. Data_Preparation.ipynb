{
 "cells": [
  {
   "cell_type": "markdown",
   "metadata": {
    "id": "rQp0-BK57Sa9"
   },
   "source": [
    "# SMS Spam Detection Using Machine Learning\n",
    "\n",
    "\n",
    "---\n",
    "\n",
    "\n",
    "## Practice Module: Pattern Recognition Systems (PRS)\n",
    "\n",
    "## Group: 18\n",
    "\n",
    "## Members:\n",
    "\n",
    "Lim Jun Ming, A0231523U\n",
    "\n",
    "Mediana, A0231458E\n",
    "\n",
    "Yeong Wee Ping, A0231533R"
   ]
  },
  {
   "cell_type": "markdown",
   "metadata": {
    "id": "kBkCf9tK7VB_"
   },
   "source": [
    "# Data Preparation"
   ]
  },
  {
   "cell_type": "markdown",
   "metadata": {
    "id": "-Lmuuun07mcb"
   },
   "source": [
    "## 0. File Path & Library Setup"
   ]
  },
  {
   "cell_type": "code",
   "execution_count": 1,
   "metadata": {
    "colab": {
     "base_uri": "https://localhost:8080/"
    },
    "executionInfo": {
     "elapsed": 315,
     "status": "ok",
     "timestamp": 1631874759223,
     "user": {
      "displayName": "JM Lim",
      "photoUrl": "https://lh3.googleusercontent.com/a/default-user=s64",
      "userId": "12752115953509725575"
     },
     "user_tz": -480
    },
    "id": "JeE63qk975YX",
    "outputId": "321a3b8d-6565-4629-afb3-a14c405142f6"
   },
   "outputs": [
    {
     "ename": "ModuleNotFoundError",
     "evalue": "No module named 'google'",
     "output_type": "error",
     "traceback": [
      "\u001b[1;31m---------------------------------------------------------------------------\u001b[0m",
      "\u001b[1;31mModuleNotFoundError\u001b[0m                       Traceback (most recent call last)",
      "\u001b[1;32m~\\AppData\\Local\\Temp/ipykernel_2288/2495412744.py\u001b[0m in \u001b[0;36m<module>\u001b[1;34m\u001b[0m\n\u001b[0;32m      2\u001b[0m \u001b[1;33m\u001b[0m\u001b[0m\n\u001b[0;32m      3\u001b[0m \u001b[1;32mimport\u001b[0m \u001b[0mos\u001b[0m\u001b[1;33m\u001b[0m\u001b[1;33m\u001b[0m\u001b[0m\n\u001b[1;32m----> 4\u001b[1;33m \u001b[1;32mfrom\u001b[0m \u001b[0mgoogle\u001b[0m\u001b[1;33m.\u001b[0m\u001b[0mcolab\u001b[0m \u001b[1;32mimport\u001b[0m \u001b[0mdrive\u001b[0m\u001b[1;33m\u001b[0m\u001b[1;33m\u001b[0m\u001b[0m\n\u001b[0m\u001b[0;32m      5\u001b[0m \u001b[1;33m\u001b[0m\u001b[0m\n\u001b[0;32m      6\u001b[0m \u001b[1;32mimport\u001b[0m \u001b[0mpandas\u001b[0m \u001b[1;32mas\u001b[0m \u001b[0mpd\u001b[0m\u001b[1;33m\u001b[0m\u001b[1;33m\u001b[0m\u001b[0m\n",
      "\u001b[1;31mModuleNotFoundError\u001b[0m: No module named 'google'"
     ]
    }
   ],
   "source": [
    "# Load All Necessary Packages\n",
    "\n",
    "import os\n",
    "from google.colab import drive\n",
    "\n",
    "import pandas as pd\n",
    "import numpy as np\n",
    "import sklearn as sk\n",
    "from sklearn.utils import shuffle\n",
    "\n",
    "seed = 18\n",
    "\n",
    "print(\"Versions of key libraries\")\n",
    "print(\"-------------------------\")\n",
    "print(\"pandas:  \", pd.__version__)\n",
    "print(\"numpy:   \", np.__version__)\n",
    "print(\"sklearn: \", sk.__version__)\n"
   ]
  },
  {
   "cell_type": "code",
   "execution_count": null,
   "metadata": {
    "colab": {
     "base_uri": "https://localhost:8080/"
    },
    "executionInfo": {
     "elapsed": 16506,
     "status": "ok",
     "timestamp": 1631874776039,
     "user": {
      "displayName": "JM Lim",
      "photoUrl": "https://lh3.googleusercontent.com/a/default-user=s64",
      "userId": "12752115953509725575"
     },
     "user_tz": -480
    },
    "id": "sjqlRyZm7RoD",
    "outputId": "e59be94c-0c0f-4874-b53f-1587b02a404e"
   },
   "outputs": [
    {
     "name": "stdout",
     "output_type": "stream",
     "text": [
      "Mounted at /content/gdrive\n",
      "Working Directory: \n",
      "/content/gdrive/My Drive/iss/prs_pm/training\n"
     ]
    }
   ],
   "source": [
    "# Mounting to Google Drive\n",
    "drive.mount('/content/gdrive')\n",
    "\n",
    "# Change Working Directory\n",
    "os.chdir('/content/gdrive/My Drive/iss/prs_pm/training')\n",
    "\n",
    "print('Working Directory: ')\n",
    "!pwd"
   ]
  },
  {
   "cell_type": "markdown",
   "metadata": {
    "id": "1FIsKYzw83Rd"
   },
   "source": [
    "## 1. Load and Combine Raw Data"
   ]
  },
  {
   "cell_type": "code",
   "execution_count": null,
   "metadata": {
    "colab": {
     "base_uri": "https://localhost:8080/"
    },
    "executionInfo": {
     "elapsed": 2165,
     "status": "ok",
     "timestamp": 1631874778202,
     "user": {
      "displayName": "JM Lim",
      "photoUrl": "https://lh3.googleusercontent.com/a/default-user=s64",
      "userId": "12752115953509725575"
     },
     "user_tz": -480
    },
    "id": "B0cI6GBxqguX",
    "outputId": "627fb30f-1c45-4929-ddd1-6bcc35f0e56d"
   },
   "outputs": [
    {
     "name": "stdout",
     "output_type": "stream",
     "text": [
      "Data file 1 has 5572 rows of labelled data points\n",
      "-----------------------------------------------------------\n",
      "  Label                                               Text\n",
      "0   ham  Go until jurong point, crazy.. Available only ...\n",
      "1   ham                      Ok lar... Joking wif u oni...\n",
      "2  spam  Free entry in 2 a wkly comp to win FA Cup fina...\n",
      "3   ham  U dun say so early hor... U c already then say...\n",
      "4   ham  Nah I don't think he goes to usf, he lives aro...\n",
      "-----------------------------------------------------------\n",
      " \n",
      "Data file 2 has 81 rows of labelled data points\n",
      "-----------------------------------------------------------\n",
      "  Label                                               Text\n",
      "0  spam  BET ON REAL MONEY! Online Sport Betting/Slot G...\n",
      "1  spam  Enjoy live stream on our sport acc in advance ...\n",
      "2  spam  2021 BEST OFFER\\r\\nPers0nal&Bus1ness L.o.a.n\\r...\n",
      "3  spam  HI ALVIN HERE \\nPROMOTION NOW\\nLOW INTEREST 8%...\n",
      "4  spam  MWA Capital Pte. Ltd.\\nPR0M0 1.11% lnstall.men...\n",
      "-----------------------------------------------------------\n",
      " \n",
      "Data file 3 has 184 rows of labelled data points\n",
      "-----------------------------------------------------------\n",
      "  Label                                               Text\n",
      "0  spam  Dear Student, Its never too late-clear your ba...\n",
      "1  spam  Join V-STUDY and score excellent marks in clas...\n",
      "2  spam  Join crash courses for B.ST,A/C'S,ECO,ENG,&IP ...\n",
      "3  spam  CRASH COURSES by BEST POOL OF FACULTY. ENGLISH...\n",
      "4   ham  Dear Ola Shuttle user, get 60% Off on your nex...\n",
      "-----------------------------------------------------------\n"
     ]
    }
   ],
   "source": [
    "# Load raw data files\n",
    "header = [\"Label\", \"Text\"]\n",
    "\n",
    "raw1 = pd.read_csv(\"raw_data/SMSSpamCollection.csv\", encoding=\"UTF-8\", names=header)\n",
    "raw2 = pd.read_csv(\"raw_data/SpamSMSCollected.csv\", encoding=\"UTF-8\", names=header)\n",
    "raw3 = pd.read_csv(\"raw_data/KaggleSMSDataset.csv\", encoding=\"UTF-8\", names=header)\n",
    "\n",
    "row1, clm1 = raw1.shape\n",
    "row2, clm2 = raw2.shape\n",
    "row3, clm3 = raw3.shape\n",
    "\n",
    "print('Data file 1 has {:2d} rows of labelled data points'.format(row1))\n",
    "print('-----------------------------------------------------------')\n",
    "print(raw1.head())\n",
    "print('-----------------------------------------------------------')\n",
    "print(' ')\n",
    "print('Data file 2 has {:2d} rows of labelled data points'.format(row2))\n",
    "print('-----------------------------------------------------------')\n",
    "print(raw2.head())\n",
    "print('-----------------------------------------------------------')\n",
    "print(' ')\n",
    "print('Data file 3 has {:2d} rows of labelled data points'.format(row3))\n",
    "print('-----------------------------------------------------------')\n",
    "print(raw3.head())\n",
    "print('-----------------------------------------------------------')"
   ]
  },
  {
   "cell_type": "code",
   "execution_count": null,
   "metadata": {
    "colab": {
     "base_uri": "https://localhost:8080/"
    },
    "executionInfo": {
     "elapsed": 4,
     "status": "ok",
     "timestamp": 1631874778203,
     "user": {
      "displayName": "JM Lim",
      "photoUrl": "https://lh3.googleusercontent.com/a/default-user=s64",
      "userId": "12752115953509725575"
     },
     "user_tz": -480
    },
    "id": "a1C3aXfW_Kpq",
    "outputId": "87d1d600-b152-4f0b-b151-b0ba6b145f94"
   },
   "outputs": [
    {
     "name": "stdout",
     "output_type": "stream",
     "text": [
      "Combined data file has 5837 rows of labelled data points\n",
      "-----------------------------------------------------------\n",
      "  Label                                               Text\n",
      "0   ham     I dunno until when... Lets go learn pilates...\n",
      "1   ham                                Wat time ?? finish?\n",
      "2   ham  Would really appreciate if you call me. Just n...\n",
      "3   ham                           You still at grand prix?\n",
      "4   ham  Mmm thats better now i got a roast down me! i?...\n",
      "-----------------------------------------------------------\n",
      " \n",
      "Total of 4902 data points labelled as ham\n",
      "Total of 935 data points labelled as spam\n",
      "Ratio of ham over spam labelled data points is 5.24\n"
     ]
    }
   ],
   "source": [
    "# Combine all 3 data files\n",
    "raw = shuffle(pd.concat((raw1,raw2,raw3)), random_state=seed).reset_index(drop=True)\n",
    "\n",
    "row, clm = raw.shape\n",
    "\n",
    "print('Combined data file has {:2d} rows of labelled data points'.format(row))\n",
    "print('-----------------------------------------------------------')\n",
    "print(raw.head())\n",
    "print('-----------------------------------------------------------')\n",
    "print(' ')\n",
    "print('Total of {:2d} data points labelled as ham'.format((raw['Label']=='ham').sum()))\n",
    "print('Total of {:2d} data points labelled as spam'.format((raw['Label']=='spam').sum()))\n",
    "print('Ratio of ham over spam labelled data points is {:.2f}'.format((raw['Label']=='ham').sum()/(raw['Label']=='spam').sum()))"
   ]
  },
  {
   "cell_type": "markdown",
   "metadata": {
    "id": "mijMPctoBw3k"
   },
   "source": [
    "## 2. Save and Export Combined Data File to folder"
   ]
  },
  {
   "cell_type": "code",
   "execution_count": null,
   "metadata": {
    "id": "uWP_MnHcB8dB"
   },
   "outputs": [],
   "source": [
    "# Save in CSV format (without headers)\n",
    "\n",
    "raw.to_csv('structured_data/smsdata.csv', index=False, header=False)"
   ]
  }
 ],
 "metadata": {
  "colab": {
   "authorship_tag": "ABX9TyNkVeFdZf5NpX/EnPx/X2rk",
   "collapsed_sections": [],
   "name": "Data_Preparation.ipynb",
   "provenance": []
  },
  "kernelspec": {
   "display_name": "Python [conda env:py39_gpu1]",
   "language": "python",
   "name": "conda-env-py39_gpu1-py"
  },
  "language_info": {
   "codemirror_mode": {
    "name": "ipython",
    "version": 3
   },
   "file_extension": ".py",
   "mimetype": "text/x-python",
   "name": "python",
   "nbconvert_exporter": "python",
   "pygments_lexer": "ipython3",
   "version": "3.9.7"
  }
 },
 "nbformat": 4,
 "nbformat_minor": 4
}
